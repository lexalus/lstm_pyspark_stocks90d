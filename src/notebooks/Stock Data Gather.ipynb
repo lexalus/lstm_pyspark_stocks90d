{
 "cells": [
  {
   "cell_type": "code",
   "execution_count": 13,
   "metadata": {},
   "outputs": [
    {
     "name": "stdout",
     "output_type": "stream",
     "text": [
      "Collecting googlefinance.client\n",
      "  Downloading googlefinance.client-1.3.0.tar.gz\n",
      "Collecting datetime (from googlefinance.client)\n",
      "  Downloading DateTime-4.2-py2.py3-none-any.whl (60kB)\n",
      "\u001b[K    100% |████████████████████████████████| 61kB 232kB/s ta 0:00:01\n",
      "\u001b[?25hRequirement already satisfied: requests in /Users/lex/miniconda2/lib/python2.7/site-packages (from googlefinance.client)\n",
      "Requirement already satisfied: pandas in /Users/lex/miniconda2/lib/python2.7/site-packages (from googlefinance.client)\n",
      "Collecting zope.interface (from datetime->googlefinance.client)\n",
      "  Downloading zope.interface-4.4.3.tar.gz (147kB)\n",
      "\u001b[K    100% |████████████████████████████████| 153kB 889kB/s ta 0:00:01\n",
      "\u001b[?25hRequirement already satisfied: pytz in /Users/lex/miniconda2/lib/python2.7/site-packages (from datetime->googlefinance.client)\n",
      "Requirement already satisfied: chardet<3.1.0,>=3.0.2 in /Users/lex/miniconda2/lib/python2.7/site-packages (from requests->googlefinance.client)\n",
      "Requirement already satisfied: idna<2.7,>=2.5 in /Users/lex/miniconda2/lib/python2.7/site-packages (from requests->googlefinance.client)\n",
      "Requirement already satisfied: urllib3<1.23,>=1.21.1 in /Users/lex/miniconda2/lib/python2.7/site-packages (from requests->googlefinance.client)\n",
      "Requirement already satisfied: certifi>=2017.4.17 in /Users/lex/miniconda2/lib/python2.7/site-packages (from requests->googlefinance.client)\n",
      "Requirement already satisfied: python-dateutil in /Users/lex/miniconda2/lib/python2.7/site-packages (from pandas->googlefinance.client)\n",
      "Requirement already satisfied: numpy>=1.9.0 in /Users/lex/miniconda2/lib/python2.7/site-packages (from pandas->googlefinance.client)\n",
      "Requirement already satisfied: setuptools in /Users/lex/miniconda2/lib/python2.7/site-packages (from zope.interface->datetime->googlefinance.client)\n",
      "Requirement already satisfied: six>=1.5 in /Users/lex/miniconda2/lib/python2.7/site-packages (from python-dateutil->pandas->googlefinance.client)\n",
      "Building wheels for collected packages: googlefinance.client, zope.interface\n",
      "  Running setup.py bdist_wheel for googlefinance.client ... \u001b[?25ldone\n",
      "\u001b[?25h  Stored in directory: /Users/lex/Library/Caches/pip/wheels/bf/d6/54/09b6ac5690820dc54556f021efcfd6baca88f04b144a001c55\n",
      "  Running setup.py bdist_wheel for zope.interface ... \u001b[?25ldone\n",
      "\u001b[?25h  Stored in directory: /Users/lex/Library/Caches/pip/wheels/8b/39/98/0fcb72adfb12b2547273b1164d952f093f267e0324d58b6955\n",
      "Successfully built googlefinance.client zope.interface\n",
      "Installing collected packages: zope.interface, datetime, googlefinance.client\n",
      "Successfully installed datetime-4.2 googlefinance.client-1.3.0 zope.interface-4.4.3\n",
      "\u001b[33mYou are using pip version 9.0.1, however version 9.0.3 is available.\n",
      "You should consider upgrading via the 'pip install --upgrade pip' command.\u001b[0m\n"
     ]
    }
   ],
   "source": [
    "!pip install googlefinance.client"
   ]
  },
  {
   "cell_type": "code",
   "execution_count": 1,
   "metadata": {},
   "outputs": [],
   "source": [
    "import sys\n",
    "sys.path.append('/Users/lex/miniconda2/lib/python2.7/site-packages')"
   ]
  },
  {
   "cell_type": "code",
   "execution_count": 2,
   "metadata": {},
   "outputs": [],
   "source": [
    "import random\n",
    "import pandas as pd"
   ]
  },
  {
   "cell_type": "code",
   "execution_count": 20,
   "metadata": {},
   "outputs": [],
   "source": [
    "from googlefinance.client import get_price_data, get_prices_data, get_prices_time_data"
   ]
  },
  {
   "cell_type": "code",
   "execution_count": 8,
   "metadata": {},
   "outputs": [],
   "source": [
    "def get_prices():\n",
    "    random.seed(100)\n",
    "    top = pd.read_csv('known_companies.csv')\n",
    "    top.columns = ['symbol', 'company_name', 'security', 'market', 'test', 'financial', 'round']\n",
    "    top = top.dropna()\n",
    "    top_prices = []\n",
    "    no_data = []   \n",
    "    for i, row in top.iterrows():\n",
    "        ticker = str(row.symbol)\n",
    "        param = {'q': ticker, 'i': \"86400\",'x': \"NASD\", 'p': \"3Y\"}\n",
    "        print param\n",
    "        df = get_price_data(param)\n",
    "        df['ticker'] = ticker\n",
    "        df['company'] = str(row.company_name)\n",
    "        top_prices.append(df)\n",
    "        if df.empty:\n",
    "            no_data.append(ticker)\n",
    "    new_prices = pd.concat(top_prices)\n",
    "    new_prices['date'] = new_prices.index\n",
    "    new_prices = new_prices.reset_index(drop=True)\n",
    "    return new_prices, no_data"
   ]
  },
  {
   "cell_type": "code",
   "execution_count": null,
   "metadata": {},
   "outputs": [],
   "source": [
    "get_price_data()"
   ]
  },
  {
   "cell_type": "code",
   "execution_count": 21,
   "metadata": {},
   "outputs": [
    {
     "ename": "IndexError",
     "evalue": "string index out of range",
     "output_type": "error",
     "traceback": [
      "\u001b[0;31m---------------------------------------------------------------------------\u001b[0m",
      "\u001b[0;31mIndexError\u001b[0m                                Traceback (most recent call last)",
      "\u001b[0;32m<ipython-input-21-1c1ca17f1973>\u001b[0m in \u001b[0;36m<module>\u001b[0;34m()\u001b[0m\n\u001b[1;32m      6\u001b[0m }\n\u001b[1;32m      7\u001b[0m \u001b[0;31m# get price data (return pandas dataframe)\u001b[0m\u001b[0;34m\u001b[0m\u001b[0;34m\u001b[0m\u001b[0m\n\u001b[0;32m----> 8\u001b[0;31m \u001b[0mdf\u001b[0m \u001b[0;34m=\u001b[0m \u001b[0mget_price_data\u001b[0m\u001b[0;34m(\u001b[0m\u001b[0mparam\u001b[0m\u001b[0;34m)\u001b[0m\u001b[0;34m\u001b[0m\u001b[0m\n\u001b[0m",
      "\u001b[0;32m/Users/lex/miniconda2/lib/python2.7/site-packages/googlefinance/client.pyc\u001b[0m in \u001b[0;36mget_price_data\u001b[0;34m(query)\u001b[0m\n\u001b[1;32m     12\u001b[0m         \u001b[0;32mfor\u001b[0m \u001b[0mprice\u001b[0m \u001b[0;32min\u001b[0m \u001b[0mlines\u001b[0m\u001b[0;34m:\u001b[0m\u001b[0;34m\u001b[0m\u001b[0m\n\u001b[1;32m     13\u001b[0m                 \u001b[0mcols\u001b[0m \u001b[0;34m=\u001b[0m \u001b[0mprice\u001b[0m\u001b[0;34m.\u001b[0m\u001b[0msplit\u001b[0m\u001b[0;34m(\u001b[0m\u001b[0;34m\",\"\u001b[0m\u001b[0;34m)\u001b[0m\u001b[0;34m\u001b[0m\u001b[0m\n\u001b[0;32m---> 14\u001b[0;31m                 \u001b[0;32mif\u001b[0m \u001b[0mcols\u001b[0m\u001b[0;34m[\u001b[0m\u001b[0;36m0\u001b[0m\u001b[0;34m]\u001b[0m\u001b[0;34m[\u001b[0m\u001b[0;36m0\u001b[0m\u001b[0;34m]\u001b[0m \u001b[0;34m==\u001b[0m \u001b[0;34m'a'\u001b[0m\u001b[0;34m:\u001b[0m\u001b[0;34m\u001b[0m\u001b[0m\n\u001b[0m\u001b[1;32m     15\u001b[0m                         \u001b[0mbasetime\u001b[0m \u001b[0;34m=\u001b[0m \u001b[0mint\u001b[0m\u001b[0;34m(\u001b[0m\u001b[0mcols\u001b[0m\u001b[0;34m[\u001b[0m\u001b[0;36m0\u001b[0m\u001b[0;34m]\u001b[0m\u001b[0;34m[\u001b[0m\u001b[0;36m1\u001b[0m\u001b[0;34m:\u001b[0m\u001b[0;34m]\u001b[0m\u001b[0;34m)\u001b[0m\u001b[0;34m\u001b[0m\u001b[0m\n\u001b[1;32m     16\u001b[0m                         \u001b[0mindex\u001b[0m\u001b[0;34m.\u001b[0m\u001b[0mappend\u001b[0m\u001b[0;34m(\u001b[0m\u001b[0mdatetime\u001b[0m\u001b[0;34m.\u001b[0m\u001b[0mfromtimestamp\u001b[0m\u001b[0;34m(\u001b[0m\u001b[0mbasetime\u001b[0m\u001b[0;34m)\u001b[0m\u001b[0;34m)\u001b[0m\u001b[0;34m\u001b[0m\u001b[0m\n",
      "\u001b[0;31mIndexError\u001b[0m: string index out of range"
     ]
    }
   ],
   "source": [
    "param = {\n",
    "    'q': \".DJI\", # Stock symbol (ex: \"AAPL\")\n",
    "    'i': \"86400\", # Interval size in seconds (\"86400\" = 1 day intervals)\n",
    "    'x': \"INDEXDJX\", # Stock exchange symbol on which stock is traded (ex: \"NASD\")\n",
    "    'p': \"1Y\" # Period (Ex: \"1Y\" = 1 year)\n",
    "}\n",
    "# get price data (return pandas dataframe)\n",
    "df = get_price_data(param)"
   ]
  },
  {
   "cell_type": "code",
   "execution_count": 13,
   "metadata": {},
   "outputs": [],
   "source": [
    "df.to_csv('three_yr_stock_prices.csv')"
   ]
  },
  {
   "cell_type": "code",
   "execution_count": 18,
   "metadata": {},
   "outputs": [
    {
     "ename": "IndexError",
     "evalue": "string index out of range",
     "output_type": "error",
     "traceback": [
      "\u001b[0;31m---------------------------------------------------------------------------\u001b[0m",
      "\u001b[0;31mIndexError\u001b[0m                                Traceback (most recent call last)",
      "\u001b[0;32m<ipython-input-18-2b67920430e3>\u001b[0m in \u001b[0;36m<module>\u001b[0;34m()\u001b[0m\n\u001b[1;32m      1\u001b[0m \u001b[0mparam\u001b[0m \u001b[0;34m=\u001b[0m \u001b[0;34m{\u001b[0m\u001b[0;34m'q'\u001b[0m\u001b[0;34m:\u001b[0m \u001b[0;34m\"FB\"\u001b[0m\u001b[0;34m,\u001b[0m \u001b[0;34m'i'\u001b[0m\u001b[0;34m:\u001b[0m \u001b[0;34m\"86400\"\u001b[0m\u001b[0;34m,\u001b[0m\u001b[0;34m'x'\u001b[0m\u001b[0;34m:\u001b[0m \u001b[0;34m\"NASD\"\u001b[0m\u001b[0;34m,\u001b[0m \u001b[0;34m'p'\u001b[0m\u001b[0;34m:\u001b[0m \u001b[0;34m\"3Y\"\u001b[0m\u001b[0;34m}\u001b[0m\u001b[0;34m\u001b[0m\u001b[0m\n\u001b[0;32m----> 2\u001b[0;31m \u001b[0mdf\u001b[0m \u001b[0;34m=\u001b[0m \u001b[0mget_price_data\u001b[0m\u001b[0;34m(\u001b[0m\u001b[0mparam\u001b[0m\u001b[0;34m)\u001b[0m\u001b[0;34m\u001b[0m\u001b[0m\n\u001b[0m",
      "\u001b[0;32m/Users/lex/miniconda2/lib/python2.7/site-packages/googlefinance/client.pyc\u001b[0m in \u001b[0;36mget_price_data\u001b[0;34m(query)\u001b[0m\n\u001b[1;32m     12\u001b[0m         \u001b[0;32mfor\u001b[0m \u001b[0mprice\u001b[0m \u001b[0;32min\u001b[0m \u001b[0mlines\u001b[0m\u001b[0;34m:\u001b[0m\u001b[0;34m\u001b[0m\u001b[0m\n\u001b[1;32m     13\u001b[0m                 \u001b[0mcols\u001b[0m \u001b[0;34m=\u001b[0m \u001b[0mprice\u001b[0m\u001b[0;34m.\u001b[0m\u001b[0msplit\u001b[0m\u001b[0;34m(\u001b[0m\u001b[0;34m\",\"\u001b[0m\u001b[0;34m)\u001b[0m\u001b[0;34m\u001b[0m\u001b[0m\n\u001b[0;32m---> 14\u001b[0;31m                 \u001b[0;32mif\u001b[0m \u001b[0mcols\u001b[0m\u001b[0;34m[\u001b[0m\u001b[0;36m0\u001b[0m\u001b[0;34m]\u001b[0m\u001b[0;34m[\u001b[0m\u001b[0;36m0\u001b[0m\u001b[0;34m]\u001b[0m \u001b[0;34m==\u001b[0m \u001b[0;34m'a'\u001b[0m\u001b[0;34m:\u001b[0m\u001b[0;34m\u001b[0m\u001b[0m\n\u001b[0m\u001b[1;32m     15\u001b[0m                         \u001b[0mbasetime\u001b[0m \u001b[0;34m=\u001b[0m \u001b[0mint\u001b[0m\u001b[0;34m(\u001b[0m\u001b[0mcols\u001b[0m\u001b[0;34m[\u001b[0m\u001b[0;36m0\u001b[0m\u001b[0;34m]\u001b[0m\u001b[0;34m[\u001b[0m\u001b[0;36m1\u001b[0m\u001b[0;34m:\u001b[0m\u001b[0;34m]\u001b[0m\u001b[0;34m)\u001b[0m\u001b[0;34m\u001b[0m\u001b[0m\n\u001b[1;32m     16\u001b[0m                         \u001b[0mindex\u001b[0m\u001b[0;34m.\u001b[0m\u001b[0mappend\u001b[0m\u001b[0;34m(\u001b[0m\u001b[0mdatetime\u001b[0m\u001b[0;34m.\u001b[0m\u001b[0mfromtimestamp\u001b[0m\u001b[0;34m(\u001b[0m\u001b[0mbasetime\u001b[0m\u001b[0;34m)\u001b[0m\u001b[0;34m)\u001b[0m\u001b[0;34m\u001b[0m\u001b[0m\n",
      "\u001b[0;31mIndexError\u001b[0m: string index out of range"
     ]
    }
   ],
   "source": [
    "param = {'q': \"FB\", 'i': \"86400\",'x': \"NASD\", 'p': \"3Y\"}\n",
    "df = get_price_data(param)"
   ]
  },
  {
   "cell_type": "code",
   "execution_count": 22,
   "metadata": {},
   "outputs": [],
   "source": [
    "import requests"
   ]
  },
  {
   "cell_type": "code",
   "execution_count": 23,
   "metadata": {},
   "outputs": [],
   "source": [
    "r = requests.get(\"https://finance.google.com/finance/getprices\", params=param)"
   ]
  },
  {
   "cell_type": "code",
   "execution_count": 25,
   "metadata": {},
   "outputs": [
    {
     "data": {
      "text/plain": [
       "[u'<!DOCTYPE html PUBLIC \"-//W3C//DTD HTML 4.01 Transitional//EN\">',\n",
       " u'<html>',\n",
       " u'<head><meta http-equiv=\"content-type\" content=\"text/html; charset=utf-8\"><meta name=\"viewport\" content=\"initial-scale=1\"><title>https://finance.google.com/finance/getprices?q=.DJI&amp;i=86400&amp;p=1Y&amp;x=INDEXDJX</title></head>',\n",
       " u'<body style=\"font-family: arial, sans-serif; background-color: #fff; color: #000; padding:20px; font-size:18px;\" onload=\"e=document.getElementById(\\'captcha\\');if(e){e.focus();}\">',\n",
       " u'<div style=\"max-width:400px;\">',\n",
       " u'<hr noshade size=\"1\" style=\"color:#ccc; background-color:#ccc;\"><br>',\n",
       " u'<div style=\"font-size:13px;\">',\n",
       " u'Our systems have detected unusual traffic from your computer network.  Please try your request again later.  <a href=\"#\" onclick=\"document.getElementById(\\'infoDiv0\\').style.display=\\'block\\';\">Why did this happen?</a><br><br>',\n",
       " u'<div id=\"infoDiv0\" style=\"display:none; background-color:#eee; padding:10px; margin:0 0 15px 0; line-height:1.4em;\">',\n",
       " u'This page appears when Google automatically detects requests coming from your computer network which appear to be in violation of the <a href=\"//www.google.com/policies/terms/\">Terms of Service</a>. The block will expire shortly after those requests stop.<br><br>This traffic may have been sent by malicious software, a browser plug-in, or a script that sends automated requests.  If you share your network connection, ask your administrator for help &mdash; a different computer using the same IP address may be responsible.  <a href=\"//support.google.com/websearch/answer/86640\">Learn more</a><br><br>Sometimes you may see this page if you are using advanced terms that robots are known to use, or sending requests very quickly.',\n",
       " u'</div><br>',\n",
       " u'',\n",
       " u'IP address: 24.90.99.8<br>Time: 2018-04-14T17:02:46Z<br>URL: https://finance.google.com/finance/getprices?q=.DJI&amp;i=86400&amp;p=1Y&amp;x=INDEXDJX<br>',\n",
       " u'</div>',\n",
       " u'</div>',\n",
       " u'</body>',\n",
       " u'</html>']"
      ]
     },
     "execution_count": 25,
     "metadata": {},
     "output_type": "execute_result"
    }
   ],
   "source": [
    "lines = r.text.splitlines()\n",
    "lines"
   ]
  },
  {
   "cell_type": "code",
   "execution_count": null,
   "metadata": {},
   "outputs": [],
   "source": []
  }
 ],
 "metadata": {
  "kernelspec": {
   "display_name": "Python 2",
   "language": "python",
   "name": "python2"
  },
  "language_info": {
   "codemirror_mode": {
    "name": "ipython",
    "version": 2
   },
   "file_extension": ".py",
   "mimetype": "text/x-python",
   "name": "python",
   "nbconvert_exporter": "python",
   "pygments_lexer": "ipython2",
   "version": "2.7.12"
  }
 },
 "nbformat": 4,
 "nbformat_minor": 2
}
