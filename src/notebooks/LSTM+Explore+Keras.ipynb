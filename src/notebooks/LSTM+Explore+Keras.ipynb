{
 "cells": [
  {
   "cell_type": "code",
   "execution_count": 3,
   "metadata": {},
   "outputs": [],
   "source": [
    "\n",
    "import sys\n",
    "import os\n",
    "module_path = os.path.abspath(os.path.join('../../src/'))\n",
    "if module_path not in sys.path:\n",
    "    sys.path.append(module_path)\n",
    "sys.path.append('/Users/lex/miniconda2/lib/python2.7/site-packages')\n",
    "import numpy as np\n",
    "import pandas as pd\n",
    "from pandas.tseries.holiday import USFederalHolidayCalendar as calendar\n",
    "import keras.preprocessing.sequence as pre\n",
    "from keras.models import Sequential\n",
    "from keras.layers import LSTM,Dense,Dropout,TimeDistributed,Flatten,Masking\n",
    "import sklearn\n",
    "from sklearn.preprocessing import MinMaxScaler, StandardScaler\n",
    "import matplotlib.pyplot as plt\n",
    "import util.util as util\n",
    "import pandas_datareader.data as web"
   ]
  },
  {
   "cell_type": "code",
   "execution_count": 4,
   "metadata": {},
   "outputs": [],
   "source": [
    "import stockstats"
   ]
  },
  {
   "cell_type": "code",
   "execution_count": 5,
   "metadata": {},
   "outputs": [],
   "source": [
    "from stockstats import StockDataFrame\n",
    "\n",
    "def set_up_df(csv):\n",
    "    df = pd.read_csv(csv)\n",
    "    df = df[['Open', 'High', 'Low', 'Close', 'Volume', 'ticker', 'date']]\n",
    "    df['date'] = pd.to_datetime(df['date'])\n",
    "    df.index = df['date']\n",
    "    df = df[['Open', 'High', 'Low', 'Close', 'Volume', 'ticker']]\n",
    "    return df\n",
    "\n",
    "def find_stock_features(df):\n",
    "    df = df[['Open', 'High', 'Low', 'Close', 'Volume']]\n",
    "    df.price_change = (df.Close / df.Close.shift(1)) - 1\n",
    "    new = stockstats.StockDataFrame.retype(df)\n",
    "    new.get('macd')\n",
    "    new.get('cci')\n",
    "    new.get('rsi_6')\n",
    "    new.get('dma')\n",
    "    new.get('adx')\n",
    "    new.get('trix')\n",
    "    new.get('atr')\n",
    "    return new\n",
    "\n",
    "def normalize_data(df, columns):\n",
    "    min_max_scaler = MinMaxScaler()\n",
    "    df[columns] = min_max_scaler.fit_transform(df[columns].as_matrix())\n",
    "    return df, min_max_scaler\n",
    "  \n",
    "def create_stock_data(ticker, df):\n",
    "    df_stock = df.iloc[df.index.get_level_values('Symbol') == ticker]\n",
    "    df_stock = df_stock[['Open', 'High', 'Low', 'Close', 'Volume']]\n",
    "    df_stock = find_stock_features(df_stock)\n",
    "    df_stock = df_stock.dropna()\n",
    "    diff_df = df_stock.diff().dropna()\n",
    "    last_date = diff_df.index[0]\n",
    "    diff_df = diff_df.reset_index(drop=True)\n",
    "\n",
    "    diff_df = diff_df[[u'open', u'high', u'low',\n",
    "                       u'close', u'volume', u'close_26_ema', u'macd',\n",
    "                       u'macds', u'macdh', u'middle', u'middle_14_sma',\n",
    "                       u'cci', u'close_-1_s', u'close_-1_d', u'rs_6',\n",
    "                       u'rsi_6', u'close_10_sma', u'close_50_sma', u'dma',\n",
    "                       u'high_delta', u'um', u'low_delta', u'dm',\n",
    "                       u'pdm', u'pdm_14_ema', u'pdm_14', u'tr',\n",
    "                       u'atr_14', u'pdi_14', u'pdi', u'mdm',\n",
    "                       u'mdm_14_ema', u'mdm_14', u'mdi_14', u'mdi',\n",
    "                       u'dx_14', u'dx', u'dx_6_ema', u'adx',\n",
    "                       u'adx_6_ema', u'adxr', u'trix', u'atr']]\n",
    "\n",
    "    diff_df_matrix = clean_dataset(diff_df).as_matrix()\n",
    "\n",
    "    return df_stock, diff_df_matrix, last_date"
   ]
  },
  {
   "cell_type": "code",
   "execution_count": 6,
   "metadata": {},
   "outputs": [],
   "source": [
    "def create_multi_diff(df_in, intervals):\n",
    "    df_diff = df_in.copy()\n",
    "    for interval in intervals:\n",
    "        if interval > 0:\n",
    "            df_diff = df_diff.diff(periods=interval, axis=0)[interval:]\n",
    "    return df_diff\n",
    "\n",
    "def inverse_multi_diff(df_diff, intervals, df_init):\n",
    "    assert (sum(intervals) == len(df_init.index))\n",
    "    df_next_init = df_init[:sum(intervals)]\n",
    "    next_diff = []\n",
    "    prev_diff = create_multi_diff(df_next_init, intervals[:-1]) if len(intervals) > 1 else df_init.copy()\n",
    "    for i in range(intervals[-1] * 2):\n",
    "        if i < intervals[-1]:\n",
    "            next_diff.append(df_diff.values[i] + prev_diff.values[i])\n",
    "        else:\n",
    "            next_diff.append(df_diff.values[i - intervals[-1]] + prev_diff.values[i - intervals[-1]] + df_diff.values[i])\n",
    "    next_diff = np.squeeze(next_diff).tolist()\n",
    "    for i in range(len(df_diff.index) - len(next_diff)):\n",
    "        next_diff.append(next_diff[i] + df_diff.values[i + intervals[-1]] + df_diff.values[i + intervals[-1] * 2])\n",
    "\n",
    "    df_next_diff = pd.DataFrame(np.squeeze(next_diff), index=df_diff.index, columns=df_diff.columns)\n",
    "    if len(intervals) > 1:\n",
    "        df_next_diff = inverse_multi_diff(df_next_diff, intervals[:-1], df_init[intervals[-1]:])\n",
    "    return df_next_diff"
   ]
  },
  {
   "cell_type": "code",
   "execution_count": 7,
   "metadata": {},
   "outputs": [],
   "source": [
    "def difference_df(df, columns, length):\n",
    "    for i in columns:\n",
    "        new_series = df[i]\n",
    "        df[i] = difference(new_series, length)\n",
    "    return df\n",
    "\n",
    "def difference(dataset, interval=1):\n",
    "    diff = list()\n",
    "    for i in range(interval, len(dataset)):\n",
    "        value = dataset[i] - dataset[i - interval]\n",
    "        diff.append(value)\n",
    "    return pd.Series(diff)\n",
    "\n",
    "def inverse_series(old_series, transformed):\n",
    "    values = []\n",
    "    last_value = 0\n",
    "    for i in range(len(transformed)):\n",
    "        if i <= len(old_series)-1:\n",
    "            new_value = old_series[i] + transformed[i]\n",
    "            values.append(new_value)\n",
    "            last_value = new_value\n",
    "        else:\n",
    "            new_value = last_value + transformed[i]\n",
    "            last_value = new_value\n",
    "            values.append(last_value)\n",
    "    return pd.Series(values)\n",
    "\n",
    "def inverse_df(old_df, new_df, columns):\n",
    "    new_data = pd.DataFrame(columns=columns)\n",
    "    for i in columns:\n",
    "        old = old_df[i]\n",
    "        new = new_df[i]\n",
    "        \n",
    "        inversed_data = inverse_series(old, new)\n",
    "        \n",
    "        new_data[i] = inversed_data\n",
    "    return new_data\n",
    "  \n",
    "\n",
    "def clean_dataset(df):\n",
    "    assert isinstance(df, pd.DataFrame), \"df needs to be a pd.DataFrame\"\n",
    "    df.dropna(inplace=True)\n",
    "    indices_to_keep = ~df.isin([np.nan, np.inf, -np.inf]).any(1)\n",
    "    return df[indices_to_keep].astype(np.float64)\n"
   ]
  },
  {
   "cell_type": "code",
   "execution_count": 8,
   "metadata": {},
   "outputs": [],
   "source": [
    "def create_datasets(diff_df_matrix, last_date):\n",
    "  data_raw_x = diff_df_matrix\n",
    "  data_raw_y = diff_df_matrix[:,[1,2,3,4,5]]# convert to numpy array\n",
    "\n",
    "  min_max_scaler_x = StandardScaler()\n",
    "  x_norm = min_max_scaler_x.fit_transform(data_raw_x)\n",
    "  print x_norm.shape\n",
    "\n",
    "  x_norm = util.add_date_features(last_date[1], x_norm)\n",
    "\n",
    "  min_max_scaler_y = MinMaxScaler()\n",
    "  y_norm = min_max_scaler_y.fit_transform(data_raw_y)\n",
    "\n",
    "  index_range_x = 90 + 90\n",
    "\n",
    "  data = []\n",
    "  data_y = []\n",
    "\n",
    "\n",
    "    # create all possible sequences of length seq_len\n",
    "  for index in range(len(x_norm) - index_range_x):\n",
    "    data.append(x_norm[index: index + 90])\n",
    "\n",
    "  for index in range(90, len(y_norm) - 90):\n",
    "    data_y_array = y_norm[index: index + 90]\n",
    "    data_y.append(data_y_array)\n",
    "\n",
    "  data = np.array(data);\n",
    "  data_y = np.array(data_y);\n",
    "  valid_set_size = int(np.round(np.float(util.valid_set_size_percentage) / 100 * data.shape[0]));\n",
    "  test_set_size = int(np.round(np.float(util.test_set_size_percentage) / 100 * data.shape[0]));\n",
    "  train_set_size = data.shape[0] - (valid_set_size + test_set_size);\n",
    "\n",
    "  x_train = data[:train_set_size, :-1, :]\n",
    "  y_train = data_y[:train_set_size, :-1, :]\n",
    "\n",
    "  x_valid = data[train_set_size:train_set_size + valid_set_size, :-1, :]\n",
    "  y_valid = data_y[train_set_size:train_set_size + valid_set_size, :-1, :]\n",
    "\n",
    "  x_test = data[train_set_size + valid_set_size:, :-1, :]\n",
    "  y_test = data_y[train_set_size + valid_set_size:, :-1, :]\n",
    "  return x_train, y_train, x_valid, y_valid, x_test, y_test, min_max_scaler_x, min_max_scaler_y"
   ]
  },
  {
   "cell_type": "code",
   "execution_count": 9,
   "metadata": {},
   "outputs": [],
   "source": [
    "stock_list = ['PFE', 'HPE', 'NOK', 'SNAP', 'FB'] #, 'PFE', 'HPE', 'NOK', 'SNAP', 'FB', 'NVDA', 'MSFT',\n",
    "             #'ORCL', 'BABA', 'XOM', 'TWTR', 'X', 'DIS', 'KO', 'DAL', 'S', 'KR', 'JNJ', 'HAL', \n",
    "             #'PG', 'M', 'WMT', 'NKE', 'APRN', 'LOW', 'AMZN', 'AAPL', 'GOOGL', 'AMD', 'TSLA',\n",
    "             #'ADP', 'CSCO', 'DVMT', 'GRMN', 'IBM', 'LOGI', 'VOD', 'VZ']"
   ]
  },
  {
   "cell_type": "code",
   "execution_count": 10,
   "metadata": {},
   "outputs": [
    {
     "name": "stdout",
     "output_type": "stream",
     "text": [
      "PFE\n",
      "HPE\n",
      "NOK\n",
      "SNAP\n",
      "FB\n"
     ]
    }
   ],
   "source": [
    "stock_data = pd.DataFrame()\n",
    "for x in stock_list:\n",
    "  print x\n",
    "  df = web.DataReader(x, 'morningstar', pd.datetime(2013,4,13), pd.datetime(2018,4,13))\n",
    "  stock_data = stock_data.append(df)"
   ]
  },
  {
   "cell_type": "code",
   "execution_count": 11,
   "metadata": {},
   "outputs": [
    {
     "data": {
      "text/html": [
       "<div>\n",
       "<style>\n",
       "    .dataframe thead tr:only-child th {\n",
       "        text-align: right;\n",
       "    }\n",
       "\n",
       "    .dataframe thead th {\n",
       "        text-align: left;\n",
       "    }\n",
       "\n",
       "    .dataframe tbody tr th {\n",
       "        vertical-align: top;\n",
       "    }\n",
       "</style>\n",
       "<table border=\"1\" class=\"dataframe\">\n",
       "  <thead>\n",
       "    <tr style=\"text-align: right;\">\n",
       "      <th></th>\n",
       "      <th></th>\n",
       "      <th>Close</th>\n",
       "      <th>High</th>\n",
       "      <th>Low</th>\n",
       "      <th>Open</th>\n",
       "      <th>Volume</th>\n",
       "    </tr>\n",
       "    <tr>\n",
       "      <th>Symbol</th>\n",
       "      <th>Date</th>\n",
       "      <th></th>\n",
       "      <th></th>\n",
       "      <th></th>\n",
       "      <th></th>\n",
       "      <th></th>\n",
       "    </tr>\n",
       "  </thead>\n",
       "  <tbody>\n",
       "    <tr>\n",
       "      <th rowspan=\"5\" valign=\"top\">PFE</th>\n",
       "      <th>2013-04-15</th>\n",
       "      <td>30.45</td>\n",
       "      <td>30.99</td>\n",
       "      <td>30.4500</td>\n",
       "      <td>30.61</td>\n",
       "      <td>46919512</td>\n",
       "    </tr>\n",
       "    <tr>\n",
       "      <th>2013-04-16</th>\n",
       "      <td>30.94</td>\n",
       "      <td>30.99</td>\n",
       "      <td>30.4800</td>\n",
       "      <td>30.54</td>\n",
       "      <td>31463344</td>\n",
       "    </tr>\n",
       "    <tr>\n",
       "      <th>2013-04-17</th>\n",
       "      <td>30.87</td>\n",
       "      <td>30.94</td>\n",
       "      <td>30.5250</td>\n",
       "      <td>30.80</td>\n",
       "      <td>32245371</td>\n",
       "    </tr>\n",
       "    <tr>\n",
       "      <th>2013-04-18</th>\n",
       "      <td>30.59</td>\n",
       "      <td>30.94</td>\n",
       "      <td>30.4800</td>\n",
       "      <td>30.85</td>\n",
       "      <td>31788406</td>\n",
       "    </tr>\n",
       "    <tr>\n",
       "      <th>2013-04-19</th>\n",
       "      <td>31.06</td>\n",
       "      <td>31.06</td>\n",
       "      <td>30.6049</td>\n",
       "      <td>30.73</td>\n",
       "      <td>29233931</td>\n",
       "    </tr>\n",
       "  </tbody>\n",
       "</table>\n",
       "</div>"
      ],
      "text/plain": [
       "                   Close   High      Low   Open    Volume\n",
       "Symbol Date                                              \n",
       "PFE    2013-04-15  30.45  30.99  30.4500  30.61  46919512\n",
       "       2013-04-16  30.94  30.99  30.4800  30.54  31463344\n",
       "       2013-04-17  30.87  30.94  30.5250  30.80  32245371\n",
       "       2013-04-18  30.59  30.94  30.4800  30.85  31788406\n",
       "       2013-04-19  31.06  31.06  30.6049  30.73  29233931"
      ]
     },
     "execution_count": 11,
     "metadata": {},
     "output_type": "execute_result"
    }
   ],
   "source": [
    "stock_data.head()"
   ]
  },
  {
   "cell_type": "code",
   "execution_count": 9,
   "metadata": {},
   "outputs": [
    {
     "name": "stderr",
     "output_type": "stream",
     "text": [
      "/usr/local/envs/py2env/lib/python2.7/site-packages/ipykernel/__main__.py:13: UserWarning: Pandas doesn't allow columns to be created via a new attribute name - see https://pandas.pydata.org/pandas-docs/stable/indexing.html#attribute-access\n",
      "/usr/local/envs/py2env/lib/python2.7/site-packages/pandas/core/indexing.py:194: SettingWithCopyWarning: \n",
      "A value is trying to be set on a copy of a slice from a DataFrame\n",
      "\n",
      "See the caveats in the documentation: http://pandas.pydata.org/pandas-docs/stable/indexing.html#indexing-view-versus-copy\n",
      "  self._setitem_with_indexer(indexer, value)\n"
     ]
    }
   ],
   "source": [
    "df_stock, diff_df_matrix, last_date = create_stock_data('GE', stock_data)"
   ]
  },
  {
   "cell_type": "code",
   "execution_count": 10,
   "metadata": {},
   "outputs": [
    {
     "data": {
      "text/plain": [
       "Index([         u'open',          u'high',           u'low',         u'close',\n",
       "              u'volume',  u'close_26_ema',          u'macd',         u'macds',\n",
       "               u'macdh',        u'middle', u'middle_14_sma',           u'cci',\n",
       "          u'close_-1_s',    u'close_-1_d',          u'rs_6',         u'rsi_6',\n",
       "        u'close_10_sma',  u'close_50_sma',           u'dma',    u'high_delta',\n",
       "                  u'um',     u'low_delta',            u'dm',           u'pdm',\n",
       "          u'pdm_14_ema',        u'pdm_14',            u'tr',        u'atr_14',\n",
       "              u'pdi_14',           u'pdi',           u'mdm',    u'mdm_14_ema',\n",
       "              u'mdm_14',        u'mdi_14',           u'mdi',         u'dx_14',\n",
       "                  u'dx',      u'dx_6_ema',           u'adx',     u'adx_6_ema',\n",
       "                u'adxr',          u'trix',           u'atr'],\n",
       "      dtype='object')"
      ]
     },
     "execution_count": 10,
     "metadata": {},
     "output_type": "execute_result"
    }
   ],
   "source": [
    "df_stock.columns"
   ]
  },
  {
   "cell_type": "code",
   "execution_count": 11,
   "metadata": {},
   "outputs": [
    {
     "data": {
      "text/plain": [
       "Timestamp('2013-04-18 00:00:00')"
      ]
     },
     "execution_count": 11,
     "metadata": {},
     "output_type": "execute_result"
    }
   ],
   "source": [
    "last_date[1]"
   ]
  },
  {
   "cell_type": "code",
   "execution_count": 12,
   "metadata": {},
   "outputs": [
    {
     "name": "stdout",
     "output_type": "stream",
     "text": [
      "(1302, 43)\n"
     ]
    }
   ],
   "source": [
    "data_raw_x = diff_df_matrix\n",
    "data_raw_y = diff_df_matrix[:,[1,2,3,4,5]]# convert to numpy array\n",
    "\n",
    "min_max_scaler_x = StandardScaler()\n",
    "x_norm = min_max_scaler_x.fit_transform(data_raw_x)\n",
    "print x_norm.shape\n",
    "\n",
    "x_norm = util.add_date_features(last_date[1], x_norm)\n",
    "\n",
    "min_max_scaler_y = MinMaxScaler()\n",
    "y_norm = min_max_scaler_y.fit_transform(data_raw_y)\n",
    "\n",
    "index_range_x = 90 + 90\n",
    "\n",
    "data = []\n",
    "data_y = []\n",
    "\n",
    "\n",
    "    # create all possible sequences of length seq_len\n",
    "for index in range(len(x_norm) - index_range_x):\n",
    "    data.append(x_norm[index: index + 90])\n",
    "\n",
    "for index in range(90, len(y_norm) - 90):\n",
    "    data_y_array = y_norm[index: index + 90]\n",
    "    data_y.append(data_y_array)\n",
    "\n",
    "data = np.array(data);\n",
    "data_y = np.array(data_y);\n",
    "valid_set_size = int(np.round(np.float(util.valid_set_size_percentage) / 100 * data.shape[0]));\n",
    "test_set_size = int(np.round(np.float(util.test_set_size_percentage) / 100 * data.shape[0]));\n",
    "train_set_size = data.shape[0] - (valid_set_size + test_set_size);\n",
    "\n",
    "x_train = data[:train_set_size, :-1, :]\n",
    "y_train = data_y[:train_set_size, :-1, :]\n",
    "\n",
    "x_valid = data[train_set_size:train_set_size + valid_set_size, :-1, :]\n",
    "y_valid = data_y[train_set_size:train_set_size + valid_set_size, :-1, :]\n",
    "\n",
    "x_test = data[train_set_size + valid_set_size:, :-1, :]\n",
    "y_test = data_y[train_set_size + valid_set_size:, :-1, :]"
   ]
  },
  {
   "cell_type": "code",
   "execution_count": 13,
   "metadata": {},
   "outputs": [
    {
     "name": "stdout",
     "output_type": "stream",
     "text": [
      "Train on 898 samples, validate on 112 samples\n",
      "Epoch 1/1\n",
      "898/898 [==============================] - 44s 49ms/step - loss: 0.0066 - val_loss: 0.0057\n"
     ]
    }
   ],
   "source": [
    "model = Sequential()\n",
    "model.add(Masking(mask_value=0.0, input_shape=(89,124)))\n",
    "model.add(LSTM(256,input_shape=(89,124),activation='tanh',return_sequences=True))\n",
    "model.add(Dropout(0.10))\n",
    "model.add(LSTM(145, activation='tanh', return_sequences=True))\n",
    "model.add(Dropout(0.10))\n",
    "model.add(LSTM(95, activation='tanh', return_sequences=True))\n",
    "model.add(Dropout(0.10))\n",
    "#model.add(Flatten())\n",
    "model.add(Dense(5, activation='sigmoid'))\n",
    "model.compile(optimizer='adam',loss='mse')\n",
    "history = model.fit(x_train, y_train, epochs=1,validation_data=(x_valid,y_valid),shuffle=False)"
   ]
  },
  {
   "cell_type": "code",
   "execution_count": 15,
   "metadata": {
    "collapsed": true
   },
   "outputs": [],
   "source": [
    "model.save('%s.h5' % last_date[0])"
   ]
  },
  {
   "cell_type": "code",
   "execution_count": 37,
   "metadata": {},
   "outputs": [
    {
     "data": {
      "text/html": [
       "\n",
       "          <script src=\"/static/components/requirejs/require.js\"></script>\n",
       "          <script>\n",
       "            requirejs.config({\n",
       "              paths: {\n",
       "                base: '/static/base',\n",
       "              },\n",
       "            });\n",
       "          </script>\n",
       "          "
      ],
      "text/plain": [
       "<IPython.core.display.HTML object>"
      ]
     },
     "metadata": {},
     "output_type": "display_data"
    },
    {
     "data": {
      "text/plain": [
       "[<matplotlib.lines.Line2D at 0x7fc28c249950>]"
      ]
     },
     "execution_count": 37,
     "metadata": {},
     "output_type": "execute_result"
    },
    {
     "data": {
      "image/png": "[encoded data removed]",
      "text/plain": [
       "<matplotlib.figure.Figure at 0x7fc28c249b10>"
      ]
     },
     "metadata": {},
     "output_type": "display_data"
    }
   ],
   "source": [
    "plt.plot(history.history['loss'])\n",
    "plt.plot(history.history['val_loss'])"
   ]
  },
  {
   "cell_type": "code",
   "execution_count": 38,
   "metadata": {},
   "outputs": [
    {
     "data": {
      "text/html": [
       "\n",
       "          <script src=\"/static/components/requirejs/require.js\"></script>\n",
       "          <script>\n",
       "            requirejs.config({\n",
       "              paths: {\n",
       "                base: '/static/base',\n",
       "              },\n",
       "            });\n",
       "          </script>\n",
       "          "
      ],
      "text/plain": [
       "<IPython.core.display.HTML object>"
      ]
     },
     "metadata": {},
     "output_type": "display_data"
    }
   ],
   "source": [
    "all_x = np.concatenate([x_train, x_test, x_valid])"
   ]
  },
  {
   "cell_type": "code",
   "execution_count": 39,
   "metadata": {},
   "outputs": [
    {
     "data": {
      "text/html": [
       "\n",
       "          <script src=\"/static/components/requirejs/require.js\"></script>\n",
       "          <script>\n",
       "            requirejs.config({\n",
       "              paths: {\n",
       "                base: '/static/base',\n",
       "              },\n",
       "            });\n",
       "          </script>\n",
       "          "
      ],
      "text/plain": [
       "<IPython.core.display.HTML object>"
      ]
     },
     "metadata": {},
     "output_type": "display_data"
    }
   ],
   "source": [
    "all_y = np.concatenate([y_train, y_test, y_valid])"
   ]
  },
  {
   "cell_type": "code",
   "execution_count": 40,
   "metadata": {},
   "outputs": [
    {
     "data": {
      "text/html": [
       "\n",
       "          <script src=\"/static/components/requirejs/require.js\"></script>\n",
       "          <script>\n",
       "            requirejs.config({\n",
       "              paths: {\n",
       "                base: '/static/base',\n",
       "              },\n",
       "            });\n",
       "          </script>\n",
       "          "
      ],
      "text/plain": [
       "<IPython.core.display.HTML object>"
      ]
     },
     "metadata": {},
     "output_type": "display_data"
    }
   ],
   "source": [
    "Xt = model.predict(all_x)"
   ]
  },
  {
   "cell_type": "code",
   "execution_count": 41,
   "metadata": {},
   "outputs": [
    {
     "data": {
      "text/html": [
       "\n",
       "          <script src=\"/static/components/requirejs/require.js\"></script>\n",
       "          <script>\n",
       "            requirejs.config({\n",
       "              paths: {\n",
       "                base: '/static/base',\n",
       "              },\n",
       "            });\n",
       "          </script>\n",
       "          "
      ],
      "text/plain": [
       "<IPython.core.display.HTML object>"
      ]
     },
     "metadata": {},
     "output_type": "display_data"
    }
   ],
   "source": [
    "xt_0 = pd.DataFrame(Xt[0])\n",
    "xt_0.index = xt_0.index+90\n",
    "y_test_df = pd.DataFrame(all_y[0])\n",
    "y_test_df.index = y_test_df.index+90\n",
    "x_test_df = pd.DataFrame(all_x[0])"
   ]
  },
  {
   "cell_type": "code",
   "execution_count": 42,
   "metadata": {},
   "outputs": [
    {
     "data": {
      "text/html": [
       "\n",
       "          <script src=\"/static/components/requirejs/require.js\"></script>\n",
       "          <script>\n",
       "            requirejs.config({\n",
       "              paths: {\n",
       "                base: '/static/base',\n",
       "              },\n",
       "            });\n",
       "          </script>\n",
       "          "
      ],
      "text/plain": [
       "<IPython.core.display.HTML object>"
      ]
     },
     "metadata": {},
     "output_type": "display_data"
    },
    {
     "data": {
      "text/plain": [
       "[<matplotlib.lines.Line2D at 0x7fc284256ad0>]"
      ]
     },
     "execution_count": 42,
     "metadata": {},
     "output_type": "execute_result"
    },
    {
     "data": {
      "image/png": "[encoded data removed]",
      "text/plain": [
       "<matplotlib.figure.Figure at 0x7fc28c142e10>"
      ]
     },
     "metadata": {},
     "output_type": "display_data"
    }
   ],
   "source": [
    "plt.plot(x_test_df[0])\n",
    "plt.plot(y_test_df[0])\n",
    "plt.plot(xt_0[0])"
   ]
  },
  {
   "cell_type": "code",
   "execution_count": 43,
   "metadata": {},
   "outputs": [
    {
     "data": {
      "text/html": [
       "\n",
       "          <script src=\"/static/components/requirejs/require.js\"></script>\n",
       "          <script>\n",
       "            requirejs.config({\n",
       "              paths: {\n",
       "                base: '/static/base',\n",
       "              },\n",
       "            });\n",
       "          </script>\n",
       "          "
      ],
      "text/plain": [
       "<IPython.core.display.HTML object>"
      ]
     },
     "metadata": {},
     "output_type": "display_data"
    },
    {
     "data": {
      "text/plain": [
       "(1122, 89, 124)"
      ]
     },
     "execution_count": 43,
     "metadata": {},
     "output_type": "execute_result"
    }
   ],
   "source": [
    "all_x.shape"
   ]
  },
  {
   "cell_type": "code",
   "execution_count": 44,
   "metadata": {},
   "outputs": [
    {
     "data": {
      "text/html": [
       "\n",
       "          <script src=\"/static/components/requirejs/require.js\"></script>\n",
       "          <script>\n",
       "            requirejs.config({\n",
       "              paths: {\n",
       "                base: '/static/base',\n",
       "              },\n",
       "            });\n",
       "          </script>\n",
       "          "
      ],
      "text/plain": [
       "<IPython.core.display.HTML object>"
      ]
     },
     "metadata": {},
     "output_type": "display_data"
    }
   ],
   "source": [
    "new_x = np.reshape(all_x[1], (89, 124))\n",
    "for i in range(2, all_x.shape[0]/90+1):\n",
    "    next_x = np.reshape(all_x[i*90], (89, 124))\n",
    "    new_x = np.concatenate([new_x,next_x])"
   ]
  },
  {
   "cell_type": "code",
   "execution_count": 45,
   "metadata": {},
   "outputs": [
    {
     "data": {
      "text/html": [
       "\n",
       "          <script src=\"/static/components/requirejs/require.js\"></script>\n",
       "          <script>\n",
       "            requirejs.config({\n",
       "              paths: {\n",
       "                base: '/static/base',\n",
       "              },\n",
       "            });\n",
       "          </script>\n",
       "          "
      ],
      "text/plain": [
       "<IPython.core.display.HTML object>"
      ]
     },
     "metadata": {},
     "output_type": "display_data"
    }
   ],
   "source": [
    "def inverse_x(x_matrix, min_max_scaler_x, begin_df):\n",
    "    new_x = np.reshape(x_matrix[1], (89, 124))\n",
    "    for i in range(2, x_matrix.shape[0]/90+1):\n",
    "        next_x = np.reshape(x_matrix[i*90], (89, 124))\n",
    "        new_x = np.concatenate([new_x,next_x])\n",
    "    reverse_scale = min_max_scaler_x.inverse_transform(new_x[:,1:44])\n",
    "    reverse_x_df = pd.DataFrame(reverse_scale)\n",
    "    reverse_x_df.columns=begin_df.columns\n",
    "    inverse_df_x = inverse_df(begin_df, reverse_x_df, reverse_x_df.columns)\n",
    "    return inverse_df_x"
   ]
  },
  {
   "cell_type": "code",
   "execution_count": 46,
   "metadata": {},
   "outputs": [
    {
     "data": {
      "text/html": [
       "\n",
       "          <script src=\"/static/components/requirejs/require.js\"></script>\n",
       "          <script>\n",
       "            requirejs.config({\n",
       "              paths: {\n",
       "                base: '/static/base',\n",
       "              },\n",
       "            });\n",
       "          </script>\n",
       "          "
      ],
      "text/plain": [
       "<IPython.core.display.HTML object>"
      ]
     },
     "metadata": {},
     "output_type": "display_data"
    }
   ],
   "source": [
    "reverse_scale = min_max_scaler_x.inverse_transform(new_x[:,1:44])"
   ]
  },
  {
   "cell_type": "code",
   "execution_count": 47,
   "metadata": {},
   "outputs": [
    {
     "data": {
      "text/html": [
       "\n",
       "          <script src=\"/static/components/requirejs/require.js\"></script>\n",
       "          <script>\n",
       "            requirejs.config({\n",
       "              paths: {\n",
       "                base: '/static/base',\n",
       "              },\n",
       "            });\n",
       "          </script>\n",
       "          "
      ],
      "text/plain": [
       "<IPython.core.display.HTML object>"
      ]
     },
     "metadata": {},
     "output_type": "display_data"
    }
   ],
   "source": [
    "reverse_x_df = pd.DataFrame(reverse_scale)"
   ]
  },
  {
   "cell_type": "code",
   "execution_count": 49,
   "metadata": {},
   "outputs": [
    {
     "data": {
      "text/html": [
       "\n",
       "          <script src=\"/static/components/requirejs/require.js\"></script>\n",
       "          <script>\n",
       "            requirejs.config({\n",
       "              paths: {\n",
       "                base: '/static/base',\n",
       "              },\n",
       "            });\n",
       "          </script>\n",
       "          "
      ],
      "text/plain": [
       "<IPython.core.display.HTML object>"
      ]
     },
     "metadata": {},
     "output_type": "display_data"
    }
   ],
   "source": [
    "reverse_x_df.columns=[u'open',          u'high',           u'low',\n",
    "               u'close',        u'volume',  u'close_26_ema',          u'macd',\n",
    "               u'macds',         u'macdh',        u'middle', u'middle_14_sma',\n",
    "                 u'cci',    u'close_-1_s',    u'close_-1_d',          u'rs_6',\n",
    "               u'rsi_6',  u'close_10_sma',  u'close_50_sma',           u'dma',\n",
    "          u'high_delta',            u'um',     u'low_delta',            u'dm',\n",
    "                 u'pdm',    u'pdm_14_ema',        u'pdm_14',            u'tr',\n",
    "              u'atr_14',        u'pdi_14',           u'pdi',           u'mdm',\n",
    "          u'mdm_14_ema',        u'mdm_14',        u'mdi_14',           u'mdi',\n",
    "               u'dx_14',            u'dx',      u'dx_6_ema',           u'adx',\n",
    "           u'adx_6_ema',          u'adxr',          u'trix',           u'atr']"
   ]
  },
  {
   "cell_type": "code",
   "execution_count": 52,
   "metadata": {},
   "outputs": [
    {
     "data": {
      "text/html": [
       "\n",
       "          <script src=\"/static/components/requirejs/require.js\"></script>\n",
       "          <script>\n",
       "            requirejs.config({\n",
       "              paths: {\n",
       "                base: '/static/base',\n",
       "              },\n",
       "            });\n",
       "          </script>\n",
       "          "
      ],
      "text/plain": [
       "<IPython.core.display.HTML object>"
      ]
     },
     "metadata": {},
     "output_type": "display_data"
    }
   ],
   "source": [
    "inverse_df_x = inverse_df(df_stock, reverse_x_df, reverse_x_df.columns)"
   ]
  },
  {
   "cell_type": "code",
   "execution_count": 53,
   "metadata": {},
   "outputs": [
    {
     "data": {
      "text/html": [
       "\n",
       "          <script src=\"/static/components/requirejs/require.js\"></script>\n",
       "          <script>\n",
       "            requirejs.config({\n",
       "              paths: {\n",
       "                base: '/static/base',\n",
       "              },\n",
       "            });\n",
       "          </script>\n",
       "          "
      ],
      "text/plain": [
       "<IPython.core.display.HTML object>"
      ]
     },
     "metadata": {},
     "output_type": "display_data"
    }
   ],
   "source": [
    "def inverse_y(y_matrix, min_max_scaler_y, input_predict):\n",
    "    new_y = np.reshape(y_matrix[1], (89, 4))\n",
    "    for i in range(2, y_matrix.shape[0]/90+1):\n",
    "        next_y = np.reshape(y_matrix[i*90], (89, 4))\n",
    "        new_y = np.concatenate([new_y,next_y])\n",
    "    reverse_scale_y = min_max_scaler_y.inverse_transform(new_y)\n",
    "    reverse_y_df = pd.DataFrame(reverse_scale_y)\n",
    "    reverse_y_df.columns=['open', 'high', 'low', 'close']\n",
    "    inverse_df_y = inverse_df(input_predict[90:90], reverse_y_df, ['open', 'high', 'low', 'close'])\n",
    "    return"
   ]
  },
  {
   "cell_type": "code",
   "execution_count": 54,
   "metadata": {},
   "outputs": [
    {
     "data": {
      "text/html": [
       "\n",
       "          <script src=\"/static/components/requirejs/require.js\"></script>\n",
       "          <script>\n",
       "            requirejs.config({\n",
       "              paths: {\n",
       "                base: '/static/base',\n",
       "              },\n",
       "            });\n",
       "          </script>\n",
       "          "
      ],
      "text/plain": [
       "<IPython.core.display.HTML object>"
      ]
     },
     "metadata": {},
     "output_type": "display_data"
    },
    {
     "data": {
      "text/plain": [
       "(1122, 89, 5)"
      ]
     },
     "execution_count": 54,
     "metadata": {},
     "output_type": "execute_result"
    }
   ],
   "source": [
    "Xt.shape"
   ]
  },
  {
   "cell_type": "code",
   "execution_count": 55,
   "metadata": {},
   "outputs": [
    {
     "data": {
      "text/html": [
       "\n",
       "          <script src=\"/static/components/requirejs/require.js\"></script>\n",
       "          <script>\n",
       "            requirejs.config({\n",
       "              paths: {\n",
       "                base: '/static/base',\n",
       "              },\n",
       "            });\n",
       "          </script>\n",
       "          "
      ],
      "text/plain": [
       "<IPython.core.display.HTML object>"
      ]
     },
     "metadata": {},
     "output_type": "display_data"
    }
   ],
   "source": [
    "new_y = np.reshape(Xt[1], (89, 5))\n",
    "for i in range(2, all_y.shape[0]/90+1):\n",
    "    next_y = np.reshape(Xt[i*90], (89, 5))\n",
    "    new_y = np.concatenate([new_y,next_y])\n",
    "reverse_scale_y = min_max_scaler_y.inverse_transform(new_y)\n",
    "reverse_y_df = pd.DataFrame(reverse_scale_y)\n",
    "reverse_y_df.columns=['open', 'high', 'low', 'close', 'volume']\n",
    "inverse_df_y = inverse_df(df_stock[90:90], reverse_y_df, ['open', 'high', 'low', 'close', 'volume'])"
   ]
  },
  {
   "cell_type": "code",
   "execution_count": 56,
   "metadata": {},
   "outputs": [
    {
     "data": {
      "text/html": [
       "\n",
       "          <script src=\"/static/components/requirejs/require.js\"></script>\n",
       "          <script>\n",
       "            requirejs.config({\n",
       "              paths: {\n",
       "                base: '/static/base',\n",
       "              },\n",
       "            });\n",
       "          </script>\n",
       "          "
      ],
      "text/plain": [
       "<IPython.core.display.HTML object>"
      ]
     },
     "metadata": {},
     "output_type": "display_data"
    },
    {
     "data": {
      "text/plain": [
       "1068"
      ]
     },
     "execution_count": 56,
     "metadata": {},
     "output_type": "execute_result"
    }
   ],
   "source": [
    "len(inverse_df_y)"
   ]
  },
  {
   "cell_type": "code",
   "execution_count": 57,
   "metadata": {},
   "outputs": [
    {
     "data": {
      "text/html": [
       "\n",
       "          <script src=\"/static/components/requirejs/require.js\"></script>\n",
       "          <script>\n",
       "            requirejs.config({\n",
       "              paths: {\n",
       "                base: '/static/base',\n",
       "              },\n",
       "            });\n",
       "          </script>\n",
       "          "
      ],
      "text/plain": [
       "<IPython.core.display.HTML object>"
      ]
     },
     "metadata": {},
     "output_type": "display_data"
    }
   ],
   "source": [
    "old_y = np.reshape(all_y[1], (89, 5))\n",
    "for i in range(2, all_y.shape[0]/90+1):\n",
    "    next_y = np.reshape(all_y[i*90], (89, 5))\n",
    "    old_y = np.concatenate([new_y,next_y])\n",
    "reverse_scale_y_old = min_max_scaler_y.inverse_transform(old_y)\n",
    "reverse_y_df_old = pd.DataFrame(reverse_scale_y_old)\n",
    "reverse_y_df_old.columns=['open', 'high', 'low', 'close', 'volume']\n",
    "inverse_df_y_old = inverse_df(df_stock[90:90], reverse_y_df_old, ['open', 'high', 'low', 'close', 'volume'])"
   ]
  },
  {
   "cell_type": "code",
   "execution_count": 58,
   "metadata": {},
   "outputs": [
    {
     "data": {
      "text/html": [
       "\n",
       "          <script src=\"/static/components/requirejs/require.js\"></script>\n",
       "          <script>\n",
       "            requirejs.config({\n",
       "              paths: {\n",
       "                base: '/static/base',\n",
       "              },\n",
       "            });\n",
       "          </script>\n",
       "          "
      ],
      "text/plain": [
       "<IPython.core.display.HTML object>"
      ]
     },
     "metadata": {},
     "output_type": "display_data"
    },
    {
     "data": {
      "text/plain": [
       "0.0112291031823451"
      ]
     },
     "execution_count": 58,
     "metadata": {},
     "output_type": "execute_result"
    }
   ],
   "source": [
    "np.average(reverse_y_df_old.open)"
   ]
  },
  {
   "cell_type": "code",
   "execution_count": 59,
   "metadata": {},
   "outputs": [
    {
     "data": {
      "text/html": [
       "\n",
       "          <script src=\"/static/components/requirejs/require.js\"></script>\n",
       "          <script>\n",
       "            requirejs.config({\n",
       "              paths: {\n",
       "                base: '/static/base',\n",
       "              },\n",
       "            });\n",
       "          </script>\n",
       "          "
      ],
      "text/plain": [
       "<IPython.core.display.HTML object>"
      ]
     },
     "metadata": {},
     "output_type": "display_data"
    },
    {
     "data": {
      "text/plain": [
       "0.017075907"
      ]
     },
     "execution_count": 59,
     "metadata": {},
     "output_type": "execute_result"
    }
   ],
   "source": [
    "np.average(reverse_y_df.open)"
   ]
  },
  {
   "cell_type": "code",
   "execution_count": 60,
   "metadata": {},
   "outputs": [
    {
     "data": {
      "text/html": [
       "\n",
       "          <script src=\"/static/components/requirejs/require.js\"></script>\n",
       "          <script>\n",
       "            requirejs.config({\n",
       "              paths: {\n",
       "                base: '/static/base',\n",
       "              },\n",
       "            });\n",
       "          </script>\n",
       "          "
      ],
      "text/plain": [
       "<IPython.core.display.HTML object>"
      ]
     },
     "metadata": {},
     "output_type": "display_data"
    },
    {
     "data": {
      "text/plain": [
       "1157"
      ]
     },
     "execution_count": 60,
     "metadata": {},
     "output_type": "execute_result"
    }
   ],
   "source": [
    "len(inverse_df_y_old)"
   ]
  },
  {
   "cell_type": "code",
   "execution_count": 61,
   "metadata": {},
   "outputs": [
    {
     "data": {
      "text/html": [
       "\n",
       "          <script src=\"/static/components/requirejs/require.js\"></script>\n",
       "          <script>\n",
       "            requirejs.config({\n",
       "              paths: {\n",
       "                base: '/static/base',\n",
       "              },\n",
       "            });\n",
       "          </script>\n",
       "          "
      ],
      "text/plain": [
       "<IPython.core.display.HTML object>"
      ]
     },
     "metadata": {},
     "output_type": "display_data"
    },
    {
     "data": {
      "text/plain": [
       "[<matplotlib.lines.Line2D at 0x7fc284242750>]"
      ]
     },
     "execution_count": 61,
     "metadata": {},
     "output_type": "execute_result"
    },
    {
     "data": {
      "image/png": "[encoded data removed]",
      "text/plain": [
       "<matplotlib.figure.Figure at 0x7fc284242310>"
      ]
     },
     "metadata": {},
     "output_type": "display_data"
    }
   ],
   "source": [
    "plt.plot(inverse_df_y_old.open)\n",
    "plt.plot(inverse_df_y.open)"
   ]
  },
  {
   "cell_type": "code",
   "execution_count": 62,
   "metadata": {},
   "outputs": [
    {
     "data": {
      "text/html": [
       "\n",
       "          <script src=\"/static/components/requirejs/require.js\"></script>\n",
       "          <script>\n",
       "            requirejs.config({\n",
       "              paths: {\n",
       "                base: '/static/base',\n",
       "              },\n",
       "            });\n",
       "          </script>\n",
       "          "
      ],
      "text/plain": [
       "<IPython.core.display.HTML object>"
      ]
     },
     "metadata": {},
     "output_type": "display_data"
    },
    {
     "data": {
      "text/plain": [
       "[<matplotlib.lines.Line2D at 0x7fc276210ad0>]"
      ]
     },
     "execution_count": 62,
     "metadata": {},
     "output_type": "execute_result"
    },
    {
     "data": {
      "image/png": "[encoded data removed]",
      "text/plain": [
       "<matplotlib.figure.Figure at 0x7fc276210b50>"
      ]
     },
     "metadata": {},
     "output_type": "display_data"
    }
   ],
   "source": [
    "plt.plot(inverse_df_y.open)\n",
    "plt.plot(inverse_df_y_old.open)"
   ]
  },
  {
   "cell_type": "code",
   "execution_count": 63,
   "metadata": {},
   "outputs": [
    {
     "data": {
      "text/html": [
       "\n",
       "          <script src=\"/static/components/requirejs/require.js\"></script>\n",
       "          <script>\n",
       "            requirejs.config({\n",
       "              paths: {\n",
       "                base: '/static/base',\n",
       "              },\n",
       "            });\n",
       "          </script>\n",
       "          "
      ],
      "text/plain": [
       "<IPython.core.display.HTML object>"
      ]
     },
     "metadata": {},
     "output_type": "display_data"
    },
    {
     "data": {
      "text/plain": [
       "1303"
      ]
     },
     "execution_count": 63,
     "metadata": {},
     "output_type": "execute_result"
    }
   ],
   "source": [
    "len(df_stock)"
   ]
  },
  {
   "cell_type": "code",
   "execution_count": 89,
   "metadata": {},
   "outputs": [
    {
     "data": {
      "text/html": [
       "\n",
       "          <script src=\"/static/components/requirejs/require.js\"></script>\n",
       "          <script>\n",
       "            requirejs.config({\n",
       "              paths: {\n",
       "                base: '/static/base',\n",
       "              },\n",
       "            });\n",
       "          </script>\n",
       "          "
      ],
      "text/plain": [
       "<IPython.core.display.HTML object>"
      ]
     },
     "metadata": {},
     "output_type": "display_data"
    }
   ],
   "source": [
    "last_predict = df_stock[(len(df_stock)-1)-89:len(df_stock)]"
   ]
  },
  {
   "cell_type": "code",
   "execution_count": 90,
   "metadata": {},
   "outputs": [
    {
     "data": {
      "text/html": [
       "\n",
       "          <script src=\"/static/components/requirejs/require.js\"></script>\n",
       "          <script>\n",
       "            requirejs.config({\n",
       "              paths: {\n",
       "                base: '/static/base',\n",
       "              },\n",
       "            });\n",
       "          </script>\n",
       "          "
      ],
      "text/plain": [
       "<IPython.core.display.HTML object>"
      ]
     },
     "metadata": {},
     "output_type": "display_data"
    }
   ],
   "source": [
    "last_predict.index = last_predict.index.droplevel(0)"
   ]
  },
  {
   "cell_type": "code",
   "execution_count": 91,
   "metadata": {},
   "outputs": [
    {
     "data": {
      "text/html": [
       "\n",
       "          <script src=\"/static/components/requirejs/require.js\"></script>\n",
       "          <script>\n",
       "            requirejs.config({\n",
       "              paths: {\n",
       "                base: '/static/base',\n",
       "              },\n",
       "            });\n",
       "          </script>\n",
       "          "
      ],
      "text/plain": [
       "<IPython.core.display.HTML object>"
      ]
     },
     "metadata": {},
     "output_type": "display_data"
    },
    {
     "data": {
      "text/plain": [
       "[<matplotlib.lines.Line2D at 0x7fc22c21f290>]"
      ]
     },
     "execution_count": 91,
     "metadata": {},
     "output_type": "execute_result"
    },
    {
     "data": {
      "image/png": "[encoded data removed]",
      "text/plain": [
       "<matplotlib.figure.Figure at 0x7fc2760084d0>"
      ]
     },
     "metadata": {},
     "output_type": "display_data"
    }
   ],
   "source": [
    "plt.plot(last_predict['open'])"
   ]
  },
  {
   "cell_type": "code",
   "execution_count": 92,
   "metadata": {},
   "outputs": [
    {
     "data": {
      "text/html": [
       "\n",
       "          <script src=\"/static/components/requirejs/require.js\"></script>\n",
       "          <script>\n",
       "            requirejs.config({\n",
       "              paths: {\n",
       "                base: '/static/base',\n",
       "              },\n",
       "            });\n",
       "          </script>\n",
       "          "
      ],
      "text/plain": [
       "<IPython.core.display.HTML object>"
      ]
     },
     "metadata": {},
     "output_type": "display_data"
    }
   ],
   "source": [
    "last_predict_diff = last_predict.diff().dropna()"
   ]
  },
  {
   "cell_type": "code",
   "execution_count": 93,
   "metadata": {},
   "outputs": [
    {
     "data": {
      "text/html": [
       "\n",
       "          <script src=\"/static/components/requirejs/require.js\"></script>\n",
       "          <script>\n",
       "            requirejs.config({\n",
       "              paths: {\n",
       "                base: '/static/base',\n",
       "              },\n",
       "            });\n",
       "          </script>\n",
       "          "
      ],
      "text/plain": [
       "<IPython.core.display.HTML object>"
      ]
     },
     "metadata": {},
     "output_type": "display_data"
    }
   ],
   "source": [
    "last_predict_matrix = last_predict_diff.as_matrix()"
   ]
  },
  {
   "cell_type": "code",
   "execution_count": 94,
   "metadata": {},
   "outputs": [
    {
     "data": {
      "text/html": [
       "\n",
       "          <script src=\"/static/components/requirejs/require.js\"></script>\n",
       "          <script>\n",
       "            requirejs.config({\n",
       "              paths: {\n",
       "                base: '/static/base',\n",
       "              },\n",
       "            });\n",
       "          </script>\n",
       "          "
      ],
      "text/plain": [
       "<IPython.core.display.HTML object>"
      ]
     },
     "metadata": {},
     "output_type": "display_data"
    }
   ],
   "source": [
    "last_predict_norm = min_max_scaler_x.transform(last_predict_matrix)"
   ]
  },
  {
   "cell_type": "code",
   "execution_count": 95,
   "metadata": {},
   "outputs": [
    {
     "data": {
      "text/html": [
       "\n",
       "          <script src=\"/static/components/requirejs/require.js\"></script>\n",
       "          <script>\n",
       "            requirejs.config({\n",
       "              paths: {\n",
       "                base: '/static/base',\n",
       "              },\n",
       "            });\n",
       "          </script>\n",
       "          "
      ],
      "text/plain": [
       "<IPython.core.display.HTML object>"
      ]
     },
     "metadata": {},
     "output_type": "display_data"
    }
   ],
   "source": [
    "x_norm = np.reshape(util.add_date_features(last_predict_diff.index[0], last_predict_norm), (1, 89, 124))"
   ]
  },
  {
   "cell_type": "code",
   "execution_count": 96,
   "metadata": {},
   "outputs": [
    {
     "data": {
      "text/html": [
       "\n",
       "          <script src=\"/static/components/requirejs/require.js\"></script>\n",
       "          <script>\n",
       "            requirejs.config({\n",
       "              paths: {\n",
       "                base: '/static/base',\n",
       "              },\n",
       "            });\n",
       "          </script>\n",
       "          "
      ],
      "text/plain": [
       "<IPython.core.display.HTML object>"
      ]
     },
     "metadata": {},
     "output_type": "display_data"
    },
    {
     "data": {
      "text/plain": [
       "(1, 89, 124)"
      ]
     },
     "execution_count": 96,
     "metadata": {},
     "output_type": "execute_result"
    }
   ],
   "source": [
    "x_norm.shape"
   ]
  },
  {
   "cell_type": "code",
   "execution_count": 97,
   "metadata": {},
   "outputs": [
    {
     "data": {
      "text/html": [
       "\n",
       "          <script src=\"/static/components/requirejs/require.js\"></script>\n",
       "          <script>\n",
       "            requirejs.config({\n",
       "              paths: {\n",
       "                base: '/static/base',\n",
       "              },\n",
       "            });\n",
       "          </script>\n",
       "          "
      ],
      "text/plain": [
       "<IPython.core.display.HTML object>"
      ]
     },
     "metadata": {},
     "output_type": "display_data"
    }
   ],
   "source": [
    "last_predict_y = np.reshape(model.predict(x_norm), (89,5))"
   ]
  },
  {
   "cell_type": "code",
   "execution_count": 98,
   "metadata": {},
   "outputs": [
    {
     "data": {
      "text/html": [
       "\n",
       "          <script src=\"/static/components/requirejs/require.js\"></script>\n",
       "          <script>\n",
       "            requirejs.config({\n",
       "              paths: {\n",
       "                base: '/static/base',\n",
       "              },\n",
       "            });\n",
       "          </script>\n",
       "          "
      ],
      "text/plain": [
       "<IPython.core.display.HTML object>"
      ]
     },
     "metadata": {},
     "output_type": "display_data"
    }
   ],
   "source": [
    "reverse_scale_predict = min_max_scaler_y.inverse_transform(last_predict_y)\n",
    "reverse_predict = pd.DataFrame(reverse_scale_predict)\n",
    "reverse_predict.columns=['open', 'high', 'low', 'close','volume']\n",
    "inverse_df_predict = inverse_df(last_predict[89:90], reverse_predict, ['open', 'high', 'low', 'close','volume'])"
   ]
  },
  {
   "cell_type": "code",
   "execution_count": 99,
   "metadata": {},
   "outputs": [
    {
     "data": {
      "text/html": [
       "\n",
       "          <script src=\"/static/components/requirejs/require.js\"></script>\n",
       "          <script>\n",
       "            requirejs.config({\n",
       "              paths: {\n",
       "                base: '/static/base',\n",
       "              },\n",
       "            });\n",
       "          </script>\n",
       "          "
      ],
      "text/plain": [
       "<IPython.core.display.HTML object>"
      ]
     },
     "metadata": {},
     "output_type": "display_data"
    },
    {
     "data": {
      "text/plain": [
       "[<matplotlib.lines.Line2D at 0x7fc21482b1d0>]"
      ]
     },
     "execution_count": 99,
     "metadata": {},
     "output_type": "execute_result"
    },
    {
     "data": {
      "image/png": "[encoded data removed]",
      "text/plain": [
       "<matplotlib.figure.Figure at 0x7fc22c1384d0>"
      ]
     },
     "metadata": {},
     "output_type": "display_data"
    }
   ],
   "source": [
    "plt.plot(inverse_df_predict['open'])"
   ]
  },
  {
   "cell_type": "code",
   "execution_count": 100,
   "metadata": {},
   "outputs": [
    {
     "data": {
      "text/html": [
       "\n",
       "          <script src=\"/static/components/requirejs/require.js\"></script>\n",
       "          <script>\n",
       "            requirejs.config({\n",
       "              paths: {\n",
       "                base: '/static/base',\n",
       "              },\n",
       "            });\n",
       "          </script>\n",
       "          "
      ],
      "text/plain": [
       "<IPython.core.display.HTML object>"
      ]
     },
     "metadata": {},
     "output_type": "display_data"
    }
   ],
   "source": [
    "inverse_df_predict.index = pd.date_range(start=pd.datetime(2018, 4, 13), end=pd.datetime(2018,7,10))"
   ]
  },
  {
   "cell_type": "code",
   "execution_count": 655,
   "metadata": {},
   "outputs": [
    {
     "data": {
      "text/plain": [
       "datetime.datetime(2018, 7, 12, 0, 0)"
      ]
     },
     "execution_count": 655,
     "metadata": {},
     "output_type": "execute_result"
    }
   ],
   "source": [
    "pd.datetime(2018,4,13) + datetime.timedelta(days=90)"
   ]
  },
  {
   "cell_type": "code",
   "execution_count": 101,
   "metadata": {},
   "outputs": [
    {
     "data": {
      "text/html": [
       "\n",
       "          <script src=\"/static/components/requirejs/require.js\"></script>\n",
       "          <script>\n",
       "            requirejs.config({\n",
       "              paths: {\n",
       "                base: '/static/base',\n",
       "              },\n",
       "            });\n",
       "          </script>\n",
       "          "
      ],
      "text/plain": [
       "<IPython.core.display.HTML object>"
      ]
     },
     "metadata": {},
     "output_type": "display_data"
    }
   ],
   "source": [
    "df_stock.index = df_stock.index.droplevel(0)"
   ]
  },
  {
   "cell_type": "code",
   "execution_count": 102,
   "metadata": {},
   "outputs": [
    {
     "data": {
      "text/html": [
       "\n",
       "          <script src=\"/static/components/requirejs/require.js\"></script>\n",
       "          <script>\n",
       "            requirejs.config({\n",
       "              paths: {\n",
       "                base: '/static/base',\n",
       "              },\n",
       "            });\n",
       "          </script>\n",
       "          "
      ],
      "text/plain": [
       "<IPython.core.display.HTML object>"
      ]
     },
     "metadata": {},
     "output_type": "display_data"
    }
   ],
   "source": [
    "add_prediction = inverse_df_predict.append(df_stock[['open', 'high', 'low', 'close', 'volume']])"
   ]
  },
  {
   "cell_type": "code",
   "execution_count": 103,
   "metadata": {},
   "outputs": [
    {
     "data": {
      "text/html": [
       "\n",
       "          <script src=\"/static/components/requirejs/require.js\"></script>\n",
       "          <script>\n",
       "            requirejs.config({\n",
       "              paths: {\n",
       "                base: '/static/base',\n",
       "              },\n",
       "            });\n",
       "          </script>\n",
       "          "
      ],
      "text/plain": [
       "<IPython.core.display.HTML object>"
      ]
     },
     "metadata": {},
     "output_type": "display_data"
    }
   ],
   "source": [
    "add_prediction = add_prediction.sort_index()"
   ]
  },
  {
   "cell_type": "code",
   "execution_count": 104,
   "metadata": {},
   "outputs": [
    {
     "data": {
      "text/html": [
       "\n",
       "          <script src=\"/static/components/requirejs/require.js\"></script>\n",
       "          <script>\n",
       "            requirejs.config({\n",
       "              paths: {\n",
       "                base: '/static/base',\n",
       "              },\n",
       "            });\n",
       "          </script>\n",
       "          "
      ],
      "text/plain": [
       "<IPython.core.display.HTML object>"
      ]
     },
     "metadata": {},
     "output_type": "display_data"
    },
    {
     "data": {
      "text/plain": [
       "[<matplotlib.lines.Line2D at 0x7fc1ac1f8e50>]"
      ]
     },
     "execution_count": 104,
     "metadata": {},
     "output_type": "execute_result"
    },
    {
     "data": {
      "image/png": "[encoded data removed]",
      "text/plain": [
       "<matplotlib.figure.Figure at 0x7fc214837290>"
      ]
     },
     "metadata": {},
     "output_type": "display_data"
    }
   ],
   "source": [
    "#last_predict = last_predict.reset_index(drop=True)\n",
    "#df_stock = df_stock.reset_index(drop=True)\n",
    "#inverse_df_predict.index = inverse_df_predict.index - len(df_stock)\n",
    "#plt.plot(last_predict['open'])\n",
    "plt.plot(add_prediction['open'])\n",
    "#plt.plot(inverse_df_predict['open'])"
   ]
  },
  {
   "cell_type": "code",
   "execution_count": 105,
   "metadata": {},
   "outputs": [
    {
     "data": {
      "text/html": [
       "\n",
       "          <script src=\"/static/components/requirejs/require.js\"></script>\n",
       "          <script>\n",
       "            requirejs.config({\n",
       "              paths: {\n",
       "                base: '/static/base',\n",
       "              },\n",
       "            });\n",
       "          </script>\n",
       "          "
      ],
      "text/plain": [
       "<IPython.core.display.HTML object>"
      ]
     },
     "metadata": {},
     "output_type": "display_data"
    }
   ],
   "source": [
    "add_prediction.to_csv('ge_prediction.csv')"
   ]
  },
  {
   "cell_type": "code",
   "execution_count": 129,
   "metadata": {},
   "outputs": [
    {
     "data": {
      "text/html": [
       "\n",
       "          <script src=\"/static/components/requirejs/require.js\"></script>\n",
       "          <script>\n",
       "            requirejs.config({\n",
       "              paths: {\n",
       "                base: '/static/base',\n",
       "              },\n",
       "            });\n",
       "          </script>\n",
       "          "
      ],
      "text/plain": [
       "<IPython.core.display.HTML object>"
      ]
     },
     "metadata": {},
     "output_type": "display_data"
    }
   ],
   "source": [
    "new_predict = add_prediction[-95:-1]"
   ]
  },
  {
   "cell_type": "code",
   "execution_count": 131,
   "metadata": {},
   "outputs": [
    {
     "data": {
      "text/html": [
       "\n",
       "          <script src=\"/static/components/requirejs/require.js\"></script>\n",
       "          <script>\n",
       "            requirejs.config({\n",
       "              paths: {\n",
       "                base: '/static/base',\n",
       "              },\n",
       "            });\n",
       "          </script>\n",
       "          "
      ],
      "text/plain": [
       "<IPython.core.display.HTML object>"
      ]
     },
     "metadata": {},
     "output_type": "display_data"
    }
   ],
   "source": [
    "new_predict.columns = ['Open', 'High', 'Low', 'Close', 'Volume']"
   ]
  },
  {
   "cell_type": "code",
   "execution_count": 134,
   "metadata": {},
   "outputs": [
    {
     "data": {
      "text/html": [
       "\n",
       "          <script src=\"/static/components/requirejs/require.js\"></script>\n",
       "          <script>\n",
       "            requirejs.config({\n",
       "              paths: {\n",
       "                base: '/static/base',\n",
       "              },\n",
       "            });\n",
       "          </script>\n",
       "          "
      ],
      "text/plain": [
       "<IPython.core.display.HTML object>"
      ]
     },
     "metadata": {},
     "output_type": "display_data"
    },
    {
     "name": "stderr",
     "output_type": "stream",
     "text": [
      "/usr/local/lib/python2.7/dist-packages/ipykernel/__main__.py:13: UserWarning: Pandas doesn't allow columns to be created via a new attribute name - see https://pandas.pydata.org/pandas-docs/stable/indexing.html#attribute-access\n"
     ]
    }
   ],
   "source": [
    "new_predict = find_stock_features(new_predict)"
   ]
  },
  {
   "cell_type": "code",
   "execution_count": 135,
   "metadata": {},
   "outputs": [
    {
     "data": {
      "text/html": [
       "\n",
       "          <script src=\"/static/components/requirejs/require.js\"></script>\n",
       "          <script>\n",
       "            requirejs.config({\n",
       "              paths: {\n",
       "                base: '/static/base',\n",
       "              },\n",
       "            });\n",
       "          </script>\n",
       "          "
      ],
      "text/plain": [
       "<IPython.core.display.HTML object>"
      ]
     },
     "metadata": {},
     "output_type": "display_data"
    },
    {
     "data": {
      "text/html": [
       "<div>\n",
       "<style scoped>\n",
       "    .dataframe tbody tr th:only-of-type {\n",
       "        vertical-align: middle;\n",
       "    }\n",
       "\n",
       "    .dataframe tbody tr th {\n",
       "        vertical-align: top;\n",
       "    }\n",
       "\n",
       "    .dataframe thead th {\n",
       "        text-align: right;\n",
       "    }\n",
       "</style>\n",
       "<table border=\"1\" class=\"dataframe\">\n",
       "  <thead>\n",
       "    <tr style=\"text-align: right;\">\n",
       "      <th></th>\n",
       "      <th>open</th>\n",
       "      <th>high</th>\n",
       "      <th>low</th>\n",
       "      <th>close</th>\n",
       "      <th>volume</th>\n",
       "      <th>close_26_ema</th>\n",
       "      <th>macd</th>\n",
       "      <th>macds</th>\n",
       "      <th>macdh</th>\n",
       "      <th>middle</th>\n",
       "      <th>...</th>\n",
       "      <th>mdi_14</th>\n",
       "      <th>mdi</th>\n",
       "      <th>dx_14</th>\n",
       "      <th>dx</th>\n",
       "      <th>dx_6_ema</th>\n",
       "      <th>adx</th>\n",
       "      <th>adx_6_ema</th>\n",
       "      <th>adxr</th>\n",
       "      <th>trix</th>\n",
       "      <th>atr</th>\n",
       "    </tr>\n",
       "  </thead>\n",
       "  <tbody>\n",
       "    <tr>\n",
       "      <th>2018-04-06</th>\n",
       "      <td>13.32</td>\n",
       "      <td>13.4700</td>\n",
       "      <td>12.93</td>\n",
       "      <td>13.06</td>\n",
       "      <td>63465872.0</td>\n",
       "      <td>13.060000</td>\n",
       "      <td>0.000000</td>\n",
       "      <td>0.000000</td>\n",
       "      <td>0.000000</td>\n",
       "      <td>13.153333</td>\n",
       "      <td>...</td>\n",
       "      <td>NaN</td>\n",
       "      <td>NaN</td>\n",
       "      <td>NaN</td>\n",
       "      <td>NaN</td>\n",
       "      <td>NaN</td>\n",
       "      <td>NaN</td>\n",
       "      <td>NaN</td>\n",
       "      <td>NaN</td>\n",
       "      <td>NaN</td>\n",
       "      <td>NaN</td>\n",
       "    </tr>\n",
       "    <tr>\n",
       "      <th>2018-04-09</th>\n",
       "      <td>13.10</td>\n",
       "      <td>13.1600</td>\n",
       "      <td>12.82</td>\n",
       "      <td>12.83</td>\n",
       "      <td>68332636.0</td>\n",
       "      <td>12.940577</td>\n",
       "      <td>-0.005160</td>\n",
       "      <td>-0.002867</td>\n",
       "      <td>-0.004587</td>\n",
       "      <td>12.936667</td>\n",
       "      <td>...</td>\n",
       "      <td>17.331933</td>\n",
       "      <td>17.331933</td>\n",
       "      <td>100.000000</td>\n",
       "      <td>100.000000</td>\n",
       "      <td>100.000000</td>\n",
       "      <td>100.000000</td>\n",
       "      <td>100.000000</td>\n",
       "      <td>100.000000</td>\n",
       "      <td>-0.279886</td>\n",
       "      <td>0.340000</td>\n",
       "    </tr>\n",
       "    <tr>\n",
       "      <th>2018-04-10</th>\n",
       "      <td>13.01</td>\n",
       "      <td>13.1400</td>\n",
       "      <td>12.95</td>\n",
       "      <td>13.05</td>\n",
       "      <td>57656791.0</td>\n",
       "      <td>12.979892</td>\n",
       "      <td>0.000247</td>\n",
       "      <td>-0.001591</td>\n",
       "      <td>0.003675</td>\n",
       "      <td>13.046667</td>\n",
       "      <td>...</td>\n",
       "      <td>11.224620</td>\n",
       "      <td>11.224620</td>\n",
       "      <td>100.000000</td>\n",
       "      <td>100.000000</td>\n",
       "      <td>100.000000</td>\n",
       "      <td>100.000000</td>\n",
       "      <td>100.000000</td>\n",
       "      <td>100.000000</td>\n",
       "      <td>-0.107172</td>\n",
       "      <td>0.324444</td>\n",
       "    </tr>\n",
       "    <tr>\n",
       "      <th>2018-04-11</th>\n",
       "      <td>12.91</td>\n",
       "      <td>13.0799</td>\n",
       "      <td>12.85</td>\n",
       "      <td>12.97</td>\n",
       "      <td>50220026.0</td>\n",
       "      <td>12.977126</td>\n",
       "      <td>-0.000188</td>\n",
       "      <td>-0.001116</td>\n",
       "      <td>0.001855</td>\n",
       "      <td>12.966633</td>\n",
       "      <td>...</td>\n",
       "      <td>19.227648</td>\n",
       "      <td>19.227648</td>\n",
       "      <td>100.000000</td>\n",
       "      <td>100.000000</td>\n",
       "      <td>100.000000</td>\n",
       "      <td>100.000000</td>\n",
       "      <td>100.000000</td>\n",
       "      <td>100.000000</td>\n",
       "      <td>-0.061136</td>\n",
       "      <td>0.290567</td>\n",
       "    </tr>\n",
       "    <tr>\n",
       "      <th>2018-04-12</th>\n",
       "      <td>13.03</td>\n",
       "      <td>13.2450</td>\n",
       "      <td>12.97</td>\n",
       "      <td>13.18</td>\n",
       "      <td>63631230.0</td>\n",
       "      <td>13.024174</td>\n",
       "      <td>0.007936</td>\n",
       "      <td>0.001577</td>\n",
       "      <td>0.012718</td>\n",
       "      <td>13.131667</td>\n",
       "      <td>...</td>\n",
       "      <td>14.426391</td>\n",
       "      <td>14.426391</td>\n",
       "      <td>2.111313</td>\n",
       "      <td>2.111313</td>\n",
       "      <td>62.189392</td>\n",
       "      <td>62.189392</td>\n",
       "      <td>85.395227</td>\n",
       "      <td>85.395227</td>\n",
       "      <td>-0.008884</td>\n",
       "      <td>0.286233</td>\n",
       "    </tr>\n",
       "  </tbody>\n",
       "</table>\n",
       "<p>5 rows × 43 columns</p>\n",
       "</div>"
      ],
      "text/plain": [
       "             open     high    low  close      volume  close_26_ema      macd  \\\n",
       "2018-04-06  13.32  13.4700  12.93  13.06  63465872.0     13.060000  0.000000   \n",
       "2018-04-09  13.10  13.1600  12.82  12.83  68332636.0     12.940577 -0.005160   \n",
       "2018-04-10  13.01  13.1400  12.95  13.05  57656791.0     12.979892  0.000247   \n",
       "2018-04-11  12.91  13.0799  12.85  12.97  50220026.0     12.977126 -0.000188   \n",
       "2018-04-12  13.03  13.2450  12.97  13.18  63631230.0     13.024174  0.007936   \n",
       "\n",
       "               macds     macdh     middle    ...        mdi_14        mdi  \\\n",
       "2018-04-06  0.000000  0.000000  13.153333    ...           NaN        NaN   \n",
       "2018-04-09 -0.002867 -0.004587  12.936667    ...     17.331933  17.331933   \n",
       "2018-04-10 -0.001591  0.003675  13.046667    ...     11.224620  11.224620   \n",
       "2018-04-11 -0.001116  0.001855  12.966633    ...     19.227648  19.227648   \n",
       "2018-04-12  0.001577  0.012718  13.131667    ...     14.426391  14.426391   \n",
       "\n",
       "                 dx_14          dx    dx_6_ema         adx   adx_6_ema  \\\n",
       "2018-04-06         NaN         NaN         NaN         NaN         NaN   \n",
       "2018-04-09  100.000000  100.000000  100.000000  100.000000  100.000000   \n",
       "2018-04-10  100.000000  100.000000  100.000000  100.000000  100.000000   \n",
       "2018-04-11  100.000000  100.000000  100.000000  100.000000  100.000000   \n",
       "2018-04-12    2.111313    2.111313   62.189392   62.189392   85.395227   \n",
       "\n",
       "                  adxr      trix       atr  \n",
       "2018-04-06         NaN       NaN       NaN  \n",
       "2018-04-09  100.000000 -0.279886  0.340000  \n",
       "2018-04-10  100.000000 -0.107172  0.324444  \n",
       "2018-04-11  100.000000 -0.061136  0.290567  \n",
       "2018-04-12   85.395227 -0.008884  0.286233  \n",
       "\n",
       "[5 rows x 43 columns]"
      ]
     },
     "execution_count": 135,
     "metadata": {},
     "output_type": "execute_result"
    }
   ],
   "source": [
    "new_predict.head()"
   ]
  },
  {
   "cell_type": "code",
   "execution_count": 136,
   "metadata": {},
   "outputs": [
    {
     "data": {
      "text/html": [
       "\n",
       "          <script src=\"/static/components/requirejs/require.js\"></script>\n",
       "          <script>\n",
       "            requirejs.config({\n",
       "              paths: {\n",
       "                base: '/static/base',\n",
       "              },\n",
       "            });\n",
       "          </script>\n",
       "          "
      ],
      "text/plain": [
       "<IPython.core.display.HTML object>"
      ]
     },
     "metadata": {},
     "output_type": "display_data"
    }
   ],
   "source": [
    "new_predict = new_predict.dropna()\n",
    "new_predict = new_predict.diff().dropna()\n",
    "new_predict = new_predict.reset_index(drop=True)\n",
    "new_predict = new_predict[[u'open',          u'high',           u'low',\n",
    "               u'close',        u'volume',  u'close_26_ema',          u'macd',\n",
    "               u'macds',         u'macdh',        u'middle', u'middle_14_sma',\n",
    "                 u'cci',    u'close_-1_s',    u'close_-1_d',          u'rs_6',\n",
    "               u'rsi_6',  u'close_10_sma',  u'close_50_sma',           u'dma',\n",
    "          u'high_delta',            u'um',     u'low_delta',            u'dm',\n",
    "                 u'pdm',    u'pdm_14_ema',        u'pdm_14',            u'tr',\n",
    "              u'atr_14',        u'pdi_14',           u'pdi',           u'mdm',\n",
    "          u'mdm_14_ema',        u'mdm_14',        u'mdi_14',           u'mdi',\n",
    "               u'dx_14',            u'dx',      u'dx_6_ema',           u'adx',\n",
    "           u'adx_6_ema',          u'adxr',          u'trix',           u'atr']]\n",
    "new_predict_matrix = clean_dataset(new_predict).as_matrix()"
   ]
  },
  {
   "cell_type": "code",
   "execution_count": 137,
   "metadata": {},
   "outputs": [
    {
     "data": {
      "text/html": [
       "\n",
       "          <script src=\"/static/components/requirejs/require.js\"></script>\n",
       "          <script>\n",
       "            requirejs.config({\n",
       "              paths: {\n",
       "                base: '/static/base',\n",
       "              },\n",
       "            });\n",
       "          </script>\n",
       "          "
      ],
      "text/plain": [
       "<IPython.core.display.HTML object>"
      ]
     },
     "metadata": {},
     "output_type": "display_data"
    }
   ],
   "source": [
    "new_predict_matrix = new_predict_matrix[2:91,:]"
   ]
  },
  {
   "cell_type": "code",
   "execution_count": 138,
   "metadata": {},
   "outputs": [
    {
     "data": {
      "text/html": [
       "\n",
       "          <script src=\"/static/components/requirejs/require.js\"></script>\n",
       "          <script>\n",
       "            requirejs.config({\n",
       "              paths: {\n",
       "                base: '/static/base',\n",
       "              },\n",
       "            });\n",
       "          </script>\n",
       "          "
      ],
      "text/plain": [
       "<IPython.core.display.HTML object>"
      ]
     },
     "metadata": {},
     "output_type": "display_data"
    }
   ],
   "source": [
    "new_predict_norm = min_max_scaler_x.transform(new_predict_matrix)"
   ]
  },
  {
   "cell_type": "code",
   "execution_count": 139,
   "metadata": {},
   "outputs": [
    {
     "data": {
      "text/html": [
       "\n",
       "          <script src=\"/static/components/requirejs/require.js\"></script>\n",
       "          <script>\n",
       "            requirejs.config({\n",
       "              paths: {\n",
       "                base: '/static/base',\n",
       "              },\n",
       "            });\n",
       "          </script>\n",
       "          "
      ],
      "text/plain": [
       "<IPython.core.display.HTML object>"
      ]
     },
     "metadata": {},
     "output_type": "display_data"
    },
    {
     "data": {
      "text/plain": [
       "(89, 43)"
      ]
     },
     "execution_count": 139,
     "metadata": {},
     "output_type": "execute_result"
    }
   ],
   "source": [
    "new_predict_norm.shape"
   ]
  },
  {
   "cell_type": "code",
   "execution_count": 140,
   "metadata": {},
   "outputs": [
    {
     "data": {
      "text/html": [
       "\n",
       "          <script src=\"/static/components/requirejs/require.js\"></script>\n",
       "          <script>\n",
       "            requirejs.config({\n",
       "              paths: {\n",
       "                base: '/static/base',\n",
       "              },\n",
       "            });\n",
       "          </script>\n",
       "          "
      ],
      "text/plain": [
       "<IPython.core.display.HTML object>"
      ]
     },
     "metadata": {},
     "output_type": "display_data"
    }
   ],
   "source": [
    "new_predict_norm = np.reshape(util.add_date_features(pd.datetime(2018,4,12), new_predict_norm), (1,89,124))"
   ]
  },
  {
   "cell_type": "code",
   "execution_count": 141,
   "metadata": {},
   "outputs": [
    {
     "data": {
      "text/html": [
       "\n",
       "          <script src=\"/static/components/requirejs/require.js\"></script>\n",
       "          <script>\n",
       "            requirejs.config({\n",
       "              paths: {\n",
       "                base: '/static/base',\n",
       "              },\n",
       "            });\n",
       "          </script>\n",
       "          "
      ],
      "text/plain": [
       "<IPython.core.display.HTML object>"
      ]
     },
     "metadata": {},
     "output_type": "display_data"
    }
   ],
   "source": [
    "new_predict_y = np.reshape(model.predict(new_predict_norm), (89,5))"
   ]
  },
  {
   "cell_type": "code",
   "execution_count": 142,
   "metadata": {},
   "outputs": [
    {
     "data": {
      "text/html": [
       "\n",
       "          <script src=\"/static/components/requirejs/require.js\"></script>\n",
       "          <script>\n",
       "            requirejs.config({\n",
       "              paths: {\n",
       "                base: '/static/base',\n",
       "              },\n",
       "            });\n",
       "          </script>\n",
       "          "
      ],
      "text/plain": [
       "<IPython.core.display.HTML object>"
      ]
     },
     "metadata": {},
     "output_type": "display_data"
    }
   ],
   "source": [
    "new_predict_y = min_max_scaler_y.inverse_transform(new_predict_y)\n",
    "reverse_predict_y = pd.DataFrame(new_predict_y)\n",
    "reverse_predict_y.columns=['open', 'high', 'low', 'close','volume']\n",
    "inverse_df_predict_y = inverse_df(add_prediction[-2:-1], reverse_predict_y, ['open', 'high', 'low', 'close','volume'])"
   ]
  },
  {
   "cell_type": "code",
   "execution_count": 143,
   "metadata": {},
   "outputs": [
    {
     "data": {
      "text/html": [
       "\n",
       "          <script src=\"/static/components/requirejs/require.js\"></script>\n",
       "          <script>\n",
       "            requirejs.config({\n",
       "              paths: {\n",
       "                base: '/static/base',\n",
       "              },\n",
       "            });\n",
       "          </script>\n",
       "          "
      ],
      "text/plain": [
       "<IPython.core.display.HTML object>"
      ]
     },
     "metadata": {},
     "output_type": "display_data"
    },
    {
     "data": {
      "text/plain": [
       "[<matplotlib.lines.Line2D at 0x7fc1a41e5310>]"
      ]
     },
     "execution_count": 143,
     "metadata": {},
     "output_type": "execute_result"
    },
    {
     "data": {
      "image/png": "[encoded data removed]",
      "text/plain": [
       "<matplotlib.figure.Figure at 0x7fc1ac086a50>"
      ]
     },
     "metadata": {},
     "output_type": "display_data"
    }
   ],
   "source": [
    "plt.plot(inverse_df_predict_y.open)"
   ]
  },
  {
   "cell_type": "code",
   "execution_count": 144,
   "metadata": {},
   "outputs": [
    {
     "data": {
      "text/html": [
       "\n",
       "          <script src=\"/static/components/requirejs/require.js\"></script>\n",
       "          <script>\n",
       "            requirejs.config({\n",
       "              paths: {\n",
       "                base: '/static/base',\n",
       "              },\n",
       "            });\n",
       "          </script>\n",
       "          "
      ],
      "text/plain": [
       "<IPython.core.display.HTML object>"
      ]
     },
     "metadata": {},
     "output_type": "display_data"
    }
   ],
   "source": [
    "inverse_df_predict_y.index = pd.date_range(start=pd.datetime(2018, 7, 10), end=pd.datetime(2019,10,2))"
   ]
  },
  {
   "cell_type": "code",
   "execution_count": 145,
   "metadata": {},
   "outputs": [
    {
     "data": {
      "text/html": [
       "\n",
       "          <script src=\"/static/components/requirejs/require.js\"></script>\n",
       "          <script>\n",
       "            requirejs.config({\n",
       "              paths: {\n",
       "                base: '/static/base',\n",
       "              },\n",
       "            });\n",
       "          </script>\n",
       "          "
      ],
      "text/plain": [
       "<IPython.core.display.HTML object>"
      ]
     },
     "metadata": {},
     "output_type": "display_data"
    }
   ],
   "source": [
    "add_prediction = add_prediction.append(inverse_df_predict_y).sort_index()"
   ]
  },
  {
   "cell_type": "code",
   "execution_count": 146,
   "metadata": {},
   "outputs": [
    {
     "data": {
      "text/html": [
       "\n",
       "          <script src=\"/static/components/requirejs/require.js\"></script>\n",
       "          <script>\n",
       "            requirejs.config({\n",
       "              paths: {\n",
       "                base: '/static/base',\n",
       "              },\n",
       "            });\n",
       "          </script>\n",
       "          "
      ],
      "text/plain": [
       "<IPython.core.display.HTML object>"
      ]
     },
     "metadata": {},
     "output_type": "display_data"
    },
    {
     "data": {
      "text/plain": [
       "[<matplotlib.lines.Line2D at 0x7fc1ac06bc90>]"
      ]
     },
     "execution_count": 146,
     "metadata": {},
     "output_type": "execute_result"
    },
    {
     "data": {
      "image/png": "[encoded data removed]",
      "text/plain": [
       "<matplotlib.figure.Figure at 0x7fc1ac086e50>"
      ]
     },
     "metadata": {},
     "output_type": "display_data"
    }
   ],
   "source": [
    "plt.plot(add_prediction.open)"
   ]
  },
  {
   "cell_type": "code",
   "execution_count": 12,
   "metadata": {},
   "outputs": [
    {
     "name": "stdout",
     "output_type": "stream",
     "text": [
      "PFE\n"
     ]
    },
    {
     "name": "stderr",
     "output_type": "stream",
     "text": [
      "/Library/Frameworks/Python.framework/Versions/2.7/lib/python2.7/site-packages/pandas/core/indexing.py:179: SettingWithCopyWarning: \n",
      "A value is trying to be set on a copy of a slice from a DataFrame\n",
      "\n",
      "See the caveats in the documentation: http://pandas.pydata.org/pandas-docs/stable/indexing.html#indexing-view-versus-copy\n",
      "  self._setitem_with_indexer(indexer, value)\n"
     ]
    },
    {
     "name": "stdout",
     "output_type": "stream",
     "text": [
      "(1301, 43)\n",
      "Train on 897 samples, validate on 112 samples\n",
      "Epoch 1/100\n",
      "897/897 [==============================] - 25s 28ms/step - loss: 0.0101 - val_loss: 0.0037\n",
      "Epoch 2/100\n",
      "897/897 [==============================] - 22s 25ms/step - loss: 0.0074 - val_loss: 0.0038\n",
      "Epoch 3/100\n",
      "384/897 [===========>..................] - ETA: 12s - loss: 0.0053"
     ]
    },
    {
     "ename": "KeyboardInterrupt",
     "evalue": "",
     "output_type": "error",
     "traceback": [
      "\u001b[0;31m---------------------------------------------------------------------------\u001b[0m",
      "\u001b[0;31mKeyboardInterrupt\u001b[0m                         Traceback (most recent call last)",
      "\u001b[0;32m<ipython-input-12-58c97cd3519d>\u001b[0m in \u001b[0;36m<module>\u001b[0;34m()\u001b[0m\n\u001b[1;32m     14\u001b[0m   \u001b[0mmodel\u001b[0m\u001b[0;34m.\u001b[0m\u001b[0madd\u001b[0m\u001b[0;34m(\u001b[0m\u001b[0mDense\u001b[0m\u001b[0;34m(\u001b[0m\u001b[0;36m5\u001b[0m\u001b[0;34m,\u001b[0m \u001b[0mactivation\u001b[0m\u001b[0;34m=\u001b[0m\u001b[0;34m'sigmoid'\u001b[0m\u001b[0;34m)\u001b[0m\u001b[0;34m)\u001b[0m\u001b[0;34m\u001b[0m\u001b[0m\n\u001b[1;32m     15\u001b[0m   \u001b[0mmodel\u001b[0m\u001b[0;34m.\u001b[0m\u001b[0mcompile\u001b[0m\u001b[0;34m(\u001b[0m\u001b[0moptimizer\u001b[0m\u001b[0;34m=\u001b[0m\u001b[0;34m'adam'\u001b[0m\u001b[0;34m,\u001b[0m\u001b[0mloss\u001b[0m\u001b[0;34m=\u001b[0m\u001b[0;34m'mse'\u001b[0m\u001b[0;34m)\u001b[0m\u001b[0;34m\u001b[0m\u001b[0m\n\u001b[0;32m---> 16\u001b[0;31m   \u001b[0mhistory\u001b[0m \u001b[0;34m=\u001b[0m \u001b[0mmodel\u001b[0m\u001b[0;34m.\u001b[0m\u001b[0mfit\u001b[0m\u001b[0;34m(\u001b[0m\u001b[0mx_train\u001b[0m\u001b[0;34m,\u001b[0m \u001b[0my_train\u001b[0m\u001b[0;34m,\u001b[0m \u001b[0mepochs\u001b[0m\u001b[0;34m=\u001b[0m\u001b[0;36m100\u001b[0m\u001b[0;34m,\u001b[0m\u001b[0mvalidation_data\u001b[0m\u001b[0;34m=\u001b[0m\u001b[0;34m(\u001b[0m\u001b[0mx_valid\u001b[0m\u001b[0;34m,\u001b[0m\u001b[0my_valid\u001b[0m\u001b[0;34m)\u001b[0m\u001b[0;34m,\u001b[0m\u001b[0mshuffle\u001b[0m\u001b[0;34m=\u001b[0m\u001b[0mFalse\u001b[0m\u001b[0;34m)\u001b[0m\u001b[0;34m\u001b[0m\u001b[0m\n\u001b[0m\u001b[1;32m     17\u001b[0m   \u001b[0mmodel\u001b[0m\u001b[0;34m.\u001b[0m\u001b[0msave\u001b[0m\u001b[0;34m(\u001b[0m\u001b[0;34m'%s_model.h5'\u001b[0m \u001b[0;34m%\u001b[0m \u001b[0mticker\u001b[0m\u001b[0;34m)\u001b[0m\u001b[0;34m\u001b[0m\u001b[0m\n\u001b[1;32m     18\u001b[0m \u001b[0;34m\u001b[0m\u001b[0m\n",
      "\u001b[0;32m/Library/Frameworks/Python.framework/Versions/2.7/lib/python2.7/site-packages/keras/models.pyc\u001b[0m in \u001b[0;36mfit\u001b[0;34m(self, x, y, batch_size, epochs, verbose, callbacks, validation_split, validation_data, shuffle, class_weight, sample_weight, initial_epoch, steps_per_epoch, validation_steps, **kwargs)\u001b[0m\n\u001b[1;32m    958\u001b[0m                               \u001b[0minitial_epoch\u001b[0m\u001b[0;34m=\u001b[0m\u001b[0minitial_epoch\u001b[0m\u001b[0;34m,\u001b[0m\u001b[0;34m\u001b[0m\u001b[0m\n\u001b[1;32m    959\u001b[0m                               \u001b[0msteps_per_epoch\u001b[0m\u001b[0;34m=\u001b[0m\u001b[0msteps_per_epoch\u001b[0m\u001b[0;34m,\u001b[0m\u001b[0;34m\u001b[0m\u001b[0m\n\u001b[0;32m--> 960\u001b[0;31m                               validation_steps=validation_steps)\n\u001b[0m\u001b[1;32m    961\u001b[0m \u001b[0;34m\u001b[0m\u001b[0m\n\u001b[1;32m    962\u001b[0m     def evaluate(self, x, y, batch_size=32, verbose=1,\n",
      "\u001b[0;32m/Library/Frameworks/Python.framework/Versions/2.7/lib/python2.7/site-packages/keras/engine/training.pyc\u001b[0m in \u001b[0;36mfit\u001b[0;34m(self, x, y, batch_size, epochs, verbose, callbacks, validation_split, validation_data, shuffle, class_weight, sample_weight, initial_epoch, steps_per_epoch, validation_steps, **kwargs)\u001b[0m\n\u001b[1;32m   1655\u001b[0m                               \u001b[0minitial_epoch\u001b[0m\u001b[0;34m=\u001b[0m\u001b[0minitial_epoch\u001b[0m\u001b[0;34m,\u001b[0m\u001b[0;34m\u001b[0m\u001b[0m\n\u001b[1;32m   1656\u001b[0m                               \u001b[0msteps_per_epoch\u001b[0m\u001b[0;34m=\u001b[0m\u001b[0msteps_per_epoch\u001b[0m\u001b[0;34m,\u001b[0m\u001b[0;34m\u001b[0m\u001b[0m\n\u001b[0;32m-> 1657\u001b[0;31m                               validation_steps=validation_steps)\n\u001b[0m\u001b[1;32m   1658\u001b[0m \u001b[0;34m\u001b[0m\u001b[0m\n\u001b[1;32m   1659\u001b[0m     def evaluate(self, x=None, y=None,\n",
      "\u001b[0;32m/Library/Frameworks/Python.framework/Versions/2.7/lib/python2.7/site-packages/keras/engine/training.pyc\u001b[0m in \u001b[0;36m_fit_loop\u001b[0;34m(self, f, ins, out_labels, batch_size, epochs, verbose, callbacks, val_f, val_ins, shuffle, callback_metrics, initial_epoch, steps_per_epoch, validation_steps)\u001b[0m\n\u001b[1;32m   1211\u001b[0m                     \u001b[0mbatch_logs\u001b[0m\u001b[0;34m[\u001b[0m\u001b[0;34m'size'\u001b[0m\u001b[0;34m]\u001b[0m \u001b[0;34m=\u001b[0m \u001b[0mlen\u001b[0m\u001b[0;34m(\u001b[0m\u001b[0mbatch_ids\u001b[0m\u001b[0;34m)\u001b[0m\u001b[0;34m\u001b[0m\u001b[0m\n\u001b[1;32m   1212\u001b[0m                     \u001b[0mcallbacks\u001b[0m\u001b[0;34m.\u001b[0m\u001b[0mon_batch_begin\u001b[0m\u001b[0;34m(\u001b[0m\u001b[0mbatch_index\u001b[0m\u001b[0;34m,\u001b[0m \u001b[0mbatch_logs\u001b[0m\u001b[0;34m)\u001b[0m\u001b[0;34m\u001b[0m\u001b[0m\n\u001b[0;32m-> 1213\u001b[0;31m                     \u001b[0mouts\u001b[0m \u001b[0;34m=\u001b[0m \u001b[0mf\u001b[0m\u001b[0;34m(\u001b[0m\u001b[0mins_batch\u001b[0m\u001b[0;34m)\u001b[0m\u001b[0;34m\u001b[0m\u001b[0m\n\u001b[0m\u001b[1;32m   1214\u001b[0m                     \u001b[0;32mif\u001b[0m \u001b[0;32mnot\u001b[0m \u001b[0misinstance\u001b[0m\u001b[0;34m(\u001b[0m\u001b[0mouts\u001b[0m\u001b[0;34m,\u001b[0m \u001b[0mlist\u001b[0m\u001b[0;34m)\u001b[0m\u001b[0;34m:\u001b[0m\u001b[0;34m\u001b[0m\u001b[0m\n\u001b[1;32m   1215\u001b[0m                         \u001b[0mouts\u001b[0m \u001b[0;34m=\u001b[0m \u001b[0;34m[\u001b[0m\u001b[0mouts\u001b[0m\u001b[0;34m]\u001b[0m\u001b[0;34m\u001b[0m\u001b[0m\n",
      "\u001b[0;32m/Library/Frameworks/Python.framework/Versions/2.7/lib/python2.7/site-packages/keras/backend/tensorflow_backend.pyc\u001b[0m in \u001b[0;36m__call__\u001b[0;34m(self, inputs)\u001b[0m\n\u001b[1;32m   2355\u001b[0m         \u001b[0msession\u001b[0m \u001b[0;34m=\u001b[0m \u001b[0mget_session\u001b[0m\u001b[0;34m(\u001b[0m\u001b[0;34m)\u001b[0m\u001b[0;34m\u001b[0m\u001b[0m\n\u001b[1;32m   2356\u001b[0m         updated = session.run(fetches=fetches, feed_dict=feed_dict,\n\u001b[0;32m-> 2357\u001b[0;31m                               **self.session_kwargs)\n\u001b[0m\u001b[1;32m   2358\u001b[0m         \u001b[0;32mreturn\u001b[0m \u001b[0mupdated\u001b[0m\u001b[0;34m[\u001b[0m\u001b[0;34m:\u001b[0m\u001b[0mlen\u001b[0m\u001b[0;34m(\u001b[0m\u001b[0mself\u001b[0m\u001b[0;34m.\u001b[0m\u001b[0moutputs\u001b[0m\u001b[0;34m)\u001b[0m\u001b[0;34m]\u001b[0m\u001b[0;34m\u001b[0m\u001b[0m\n\u001b[1;32m   2359\u001b[0m \u001b[0;34m\u001b[0m\u001b[0m\n",
      "\u001b[0;32m/Library/Frameworks/Python.framework/Versions/2.7/lib/python2.7/site-packages/tensorflow/python/client/session.pyc\u001b[0m in \u001b[0;36mrun\u001b[0;34m(self, fetches, feed_dict, options, run_metadata)\u001b[0m\n\u001b[1;32m    887\u001b[0m     \u001b[0;32mtry\u001b[0m\u001b[0;34m:\u001b[0m\u001b[0;34m\u001b[0m\u001b[0m\n\u001b[1;32m    888\u001b[0m       result = self._run(None, fetches, feed_dict, options_ptr,\n\u001b[0;32m--> 889\u001b[0;31m                          run_metadata_ptr)\n\u001b[0m\u001b[1;32m    890\u001b[0m       \u001b[0;32mif\u001b[0m \u001b[0mrun_metadata\u001b[0m\u001b[0;34m:\u001b[0m\u001b[0;34m\u001b[0m\u001b[0m\n\u001b[1;32m    891\u001b[0m         \u001b[0mproto_data\u001b[0m \u001b[0;34m=\u001b[0m \u001b[0mtf_session\u001b[0m\u001b[0;34m.\u001b[0m\u001b[0mTF_GetBuffer\u001b[0m\u001b[0;34m(\u001b[0m\u001b[0mrun_metadata_ptr\u001b[0m\u001b[0;34m)\u001b[0m\u001b[0;34m\u001b[0m\u001b[0m\n",
      "\u001b[0;32m/Library/Frameworks/Python.framework/Versions/2.7/lib/python2.7/site-packages/tensorflow/python/client/session.pyc\u001b[0m in \u001b[0;36m_run\u001b[0;34m(self, handle, fetches, feed_dict, options, run_metadata)\u001b[0m\n\u001b[1;32m   1118\u001b[0m     \u001b[0;32mif\u001b[0m \u001b[0mfinal_fetches\u001b[0m \u001b[0;32mor\u001b[0m \u001b[0mfinal_targets\u001b[0m \u001b[0;32mor\u001b[0m \u001b[0;34m(\u001b[0m\u001b[0mhandle\u001b[0m \u001b[0;32mand\u001b[0m \u001b[0mfeed_dict_tensor\u001b[0m\u001b[0;34m)\u001b[0m\u001b[0;34m:\u001b[0m\u001b[0;34m\u001b[0m\u001b[0m\n\u001b[1;32m   1119\u001b[0m       results = self._do_run(handle, final_targets, final_fetches,\n\u001b[0;32m-> 1120\u001b[0;31m                              feed_dict_tensor, options, run_metadata)\n\u001b[0m\u001b[1;32m   1121\u001b[0m     \u001b[0;32melse\u001b[0m\u001b[0;34m:\u001b[0m\u001b[0;34m\u001b[0m\u001b[0m\n\u001b[1;32m   1122\u001b[0m       \u001b[0mresults\u001b[0m \u001b[0;34m=\u001b[0m \u001b[0;34m[\u001b[0m\u001b[0;34m]\u001b[0m\u001b[0;34m\u001b[0m\u001b[0m\n",
      "\u001b[0;32m/Library/Frameworks/Python.framework/Versions/2.7/lib/python2.7/site-packages/tensorflow/python/client/session.pyc\u001b[0m in \u001b[0;36m_do_run\u001b[0;34m(self, handle, target_list, fetch_list, feed_dict, options, run_metadata)\u001b[0m\n\u001b[1;32m   1315\u001b[0m     \u001b[0;32mif\u001b[0m \u001b[0mhandle\u001b[0m \u001b[0;32mis\u001b[0m \u001b[0mNone\u001b[0m\u001b[0;34m:\u001b[0m\u001b[0;34m\u001b[0m\u001b[0m\n\u001b[1;32m   1316\u001b[0m       return self._do_call(_run_fn, self._session, feeds, fetches, targets,\n\u001b[0;32m-> 1317\u001b[0;31m                            options, run_metadata)\n\u001b[0m\u001b[1;32m   1318\u001b[0m     \u001b[0;32melse\u001b[0m\u001b[0;34m:\u001b[0m\u001b[0;34m\u001b[0m\u001b[0m\n\u001b[1;32m   1319\u001b[0m       \u001b[0;32mreturn\u001b[0m \u001b[0mself\u001b[0m\u001b[0;34m.\u001b[0m\u001b[0m_do_call\u001b[0m\u001b[0;34m(\u001b[0m\u001b[0m_prun_fn\u001b[0m\u001b[0;34m,\u001b[0m \u001b[0mself\u001b[0m\u001b[0;34m.\u001b[0m\u001b[0m_session\u001b[0m\u001b[0;34m,\u001b[0m \u001b[0mhandle\u001b[0m\u001b[0;34m,\u001b[0m \u001b[0mfeeds\u001b[0m\u001b[0;34m,\u001b[0m \u001b[0mfetches\u001b[0m\u001b[0;34m)\u001b[0m\u001b[0;34m\u001b[0m\u001b[0m\n",
      "\u001b[0;32m/Library/Frameworks/Python.framework/Versions/2.7/lib/python2.7/site-packages/tensorflow/python/client/session.pyc\u001b[0m in \u001b[0;36m_do_call\u001b[0;34m(self, fn, *args)\u001b[0m\n\u001b[1;32m   1321\u001b[0m   \u001b[0;32mdef\u001b[0m \u001b[0m_do_call\u001b[0m\u001b[0;34m(\u001b[0m\u001b[0mself\u001b[0m\u001b[0;34m,\u001b[0m \u001b[0mfn\u001b[0m\u001b[0;34m,\u001b[0m \u001b[0;34m*\u001b[0m\u001b[0margs\u001b[0m\u001b[0;34m)\u001b[0m\u001b[0;34m:\u001b[0m\u001b[0;34m\u001b[0m\u001b[0m\n\u001b[1;32m   1322\u001b[0m     \u001b[0;32mtry\u001b[0m\u001b[0;34m:\u001b[0m\u001b[0;34m\u001b[0m\u001b[0m\n\u001b[0;32m-> 1323\u001b[0;31m       \u001b[0;32mreturn\u001b[0m \u001b[0mfn\u001b[0m\u001b[0;34m(\u001b[0m\u001b[0;34m*\u001b[0m\u001b[0margs\u001b[0m\u001b[0;34m)\u001b[0m\u001b[0;34m\u001b[0m\u001b[0m\n\u001b[0m\u001b[1;32m   1324\u001b[0m     \u001b[0;32mexcept\u001b[0m \u001b[0merrors\u001b[0m\u001b[0;34m.\u001b[0m\u001b[0mOpError\u001b[0m \u001b[0;32mas\u001b[0m \u001b[0me\u001b[0m\u001b[0;34m:\u001b[0m\u001b[0;34m\u001b[0m\u001b[0m\n\u001b[1;32m   1325\u001b[0m       \u001b[0mmessage\u001b[0m \u001b[0;34m=\u001b[0m \u001b[0mcompat\u001b[0m\u001b[0;34m.\u001b[0m\u001b[0mas_text\u001b[0m\u001b[0;34m(\u001b[0m\u001b[0me\u001b[0m\u001b[0;34m.\u001b[0m\u001b[0mmessage\u001b[0m\u001b[0;34m)\u001b[0m\u001b[0;34m\u001b[0m\u001b[0m\n",
      "\u001b[0;32m/Library/Frameworks/Python.framework/Versions/2.7/lib/python2.7/site-packages/tensorflow/python/client/session.pyc\u001b[0m in \u001b[0;36m_run_fn\u001b[0;34m(session, feed_dict, fetch_list, target_list, options, run_metadata)\u001b[0m\n\u001b[1;32m   1300\u001b[0m           return tf_session.TF_Run(session, options,\n\u001b[1;32m   1301\u001b[0m                                    \u001b[0mfeed_dict\u001b[0m\u001b[0;34m,\u001b[0m \u001b[0mfetch_list\u001b[0m\u001b[0;34m,\u001b[0m \u001b[0mtarget_list\u001b[0m\u001b[0;34m,\u001b[0m\u001b[0;34m\u001b[0m\u001b[0m\n\u001b[0;32m-> 1302\u001b[0;31m                                    status, run_metadata)\n\u001b[0m\u001b[1;32m   1303\u001b[0m \u001b[0;34m\u001b[0m\u001b[0m\n\u001b[1;32m   1304\u001b[0m     \u001b[0;32mdef\u001b[0m \u001b[0m_prun_fn\u001b[0m\u001b[0;34m(\u001b[0m\u001b[0msession\u001b[0m\u001b[0;34m,\u001b[0m \u001b[0mhandle\u001b[0m\u001b[0;34m,\u001b[0m \u001b[0mfeed_dict\u001b[0m\u001b[0;34m,\u001b[0m \u001b[0mfetch_list\u001b[0m\u001b[0;34m)\u001b[0m\u001b[0;34m:\u001b[0m\u001b[0;34m\u001b[0m\u001b[0m\n",
      "\u001b[0;31mKeyboardInterrupt\u001b[0m: "
     ]
    }
   ],
   "source": [
    "for ticker in stock_list:\n",
    "  print ticker\n",
    "  df_stock, diff_df_matrix, last_date = create_stock_data(ticker, stock_data)\n",
    "  x_train, y_train, x_valid, y_valid, x_test, y_test, min_max_scaler_x, min_max_scaler_y = create_datasets(diff_df_matrix, last_date)\n",
    "  model = Sequential()\n",
    "  model.add(Masking(mask_value=0.0, input_shape=(89,124)))\n",
    "  model.add(LSTM(256,input_shape=(89,124),activation='tanh',return_sequences=True))\n",
    "  model.add(Dropout(0.10))\n",
    "  model.add(LSTM(145, activation='tanh', return_sequences=True))\n",
    "  model.add(Dropout(0.10))\n",
    "  model.add(LSTM(95, activation='tanh', return_sequences=True))\n",
    "  model.add(Dropout(0.10))\n",
    "  #model.add(Flatten())\n",
    "  model.add(Dense(5, activation='sigmoid'))\n",
    "  model.compile(optimizer='adam',loss='mse')\n",
    "  history = model.fit(x_train, y_train, epochs=100,validation_data=(x_valid,y_valid),shuffle=False)\n",
    "  model.save('%s_model.h5' % ticker)\n",
    "  \n",
    "  last_predict = df_stock[(len(df_stock)-1)-89:len(df_stock)]\n",
    "  last_predict.index = last_predict.index.droplevel(0)\n",
    "  last_predict_diff = last_predict.diff().dropna()\n",
    "  \n",
    "  last_predict_matrix = last_predict_diff.as_matrix()\n",
    "  last_predict_norm = min_max_scaler_x.transform(last_predict_matrix)\n",
    "  x_norm = np.reshape(util.add_date_features(last_predict_diff.index[0], last_predict_norm), (1, 89, 124))\n",
    "  \n",
    "  last_predict_y = np.reshape(model.predict(x_norm), (89,5))\n",
    "  reverse_scale_predict = min_max_scaler_y.inverse_transform(last_predict_y)\n",
    "  reverse_predict = pd.DataFrame(reverse_scale_predict)\n",
    "  reverse_predict.columns=['open', 'high', 'low', 'close','volume']\n",
    "  inverse_df_predict = inverse_df(last_predict[89:90], reverse_predict, ['open', 'high', 'low', 'close','volume'])\n",
    "  \n",
    "  inverse_df_predict.index = pd.date_range(start=pd.datetime(2018, 4, 13), end=pd.datetime(2018,7,10))\n",
    "  \n",
    "  df_stock.index = df_stock.index.droplevel(0)\n",
    "  add_prediction = inverse_df_predict.append(df_stock[['open', 'high', 'low', 'close', 'volume']])\n",
    "  add_prediction = add_prediction.sort_index()\n",
    "  \n",
    "  new_predict = add_prediction[-95:-1]\n",
    "  new_predict.columns = ['Open', 'High', 'Low', 'Close', 'Volume']\n",
    "  new_predict = find_stock_features(new_predict)\n",
    "  new_predict = new_predict.dropna()\n",
    "  new_predict = new_predict.diff().dropna()\n",
    "  new_predict = new_predict.reset_index(drop=True)\n",
    "  new_predict = new_predict[[u'open',          u'high',           u'low',\n",
    "               u'close',        u'volume',  u'close_26_ema',          u'macd',\n",
    "               u'macds',         u'macdh',        u'middle', u'middle_14_sma',\n",
    "                 u'cci',    u'close_-1_s',    u'close_-1_d',          u'rs_6',\n",
    "               u'rsi_6',  u'close_10_sma',  u'close_50_sma',           u'dma',\n",
    "          u'high_delta',            u'um',     u'low_delta',            u'dm',\n",
    "                 u'pdm',    u'pdm_14_ema',        u'pdm_14',            u'tr',\n",
    "              u'atr_14',        u'pdi_14',           u'pdi',           u'mdm',\n",
    "          u'mdm_14_ema',        u'mdm_14',        u'mdi_14',           u'mdi',\n",
    "               u'dx_14',            u'dx',      u'dx_6_ema',           u'adx',\n",
    "           u'adx_6_ema',          u'adxr',          u'trix',           u'atr']]\n",
    "  new_predict_matrix = clean_dataset(new_predict).as_matrix()\n",
    "  new_predict_matrix = new_predict_matrix[-90:-1,:]\n",
    "  new_predict_norm = min_max_scaler_x.transform(new_predict_matrix)\n",
    "  print new_predict_norm.shape\n",
    "  new_predict_norm = np.reshape(util.add_date_features(pd.datetime(2018,4,12), new_predict_norm), (1,89,124))\n",
    "  new_predict_y = np.reshape(model.predict(new_predict_norm), (89,5))\n",
    "  new_predict_y = min_max_scaler_y.inverse_transform(new_predict_y)\n",
    "  reverse_predict_y = pd.DataFrame(new_predict_y)\n",
    "  reverse_predict_y.columns=['open', 'high', 'low', 'close','volume']\n",
    "  inverse_df_predict_y = inverse_df(add_prediction[-2:-1], reverse_predict_y, ['open', 'high', 'low', 'close','volume'])\n",
    "  inverse_df_predict_y.index = pd.date_range(start=pd.datetime(2018, 7, 10), end=pd.datetime(2018,10,6))\n",
    "  add_prediction = add_prediction.append(inverse_df_predict_y).sort_index()\n",
    "  add_prediction.to_csv('%s_prediction_180d.csv' % ticker)"
   ]
  },
  {
   "cell_type": "code",
   "execution_count": null,
   "metadata": {
    "collapsed": true
   },
   "outputs": [],
   "source": []
  }
 ],
 "metadata": {
  "kernelspec": {
   "display_name": "Python 2",
   "language": "python",
   "name": "python2"
  },
  "language_info": {
   "codemirror_mode": {
    "name": "ipython",
    "version": 2
   },
   "file_extension": ".py",
   "mimetype": "text/x-python",
   "name": "python",
   "nbconvert_exporter": "python",
   "pygments_lexer": "ipython2",
   "version": "2.7.12"
  }
 },
 "nbformat": 4,
 "nbformat_minor": 2
}
