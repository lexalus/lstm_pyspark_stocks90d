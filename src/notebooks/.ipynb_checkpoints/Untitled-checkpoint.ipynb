{
 "cells": [
  {
   "cell_type": "code",
   "execution_count": 12,
   "metadata": {},
   "outputs": [
    {
     "name": "stderr",
     "output_type": "stream",
     "text": [
      "Using TensorFlow backend.\n"
     ]
    }
   ],
   "source": [
    "import sys\n",
    "import os\n",
    "module_path = os.path.abspath(os.path.join('../../src/'))\n",
    "if module_path not in sys.path:\n",
    "    sys.path.append(module_path)\n",
    "sys.path.append('/Users/lex/miniconda2/lib/python2.7/site-packages')\n",
    "import numpy as np\n",
    "import pandas as pd\n",
    "from pandas.tseries.holiday import USFederalHolidayCalendar as calendar\n",
    "from keras.models import Sequential\n",
    "from keras.layers import LSTM,Dense,Dropout,TimeDistributed,Flatten,Masking\n",
    "import sklearn\n",
    "from sklearn.preprocessing import MinMaxScaler, StandardScaler\n",
    "import matplotlib.pyplot as plt\n",
    "import util.util as util"
   ]
  },
  {
   "cell_type": "code",
   "execution_count": 196,
   "metadata": {},
   "outputs": [],
   "source": [
    "df_rf = pd.read_csv('rf_prediction.csv')\n",
    "df_market = pd.read_csv('sp_prediction.csv')\n",
    "df_fb = pd.read_csv('stock_predictions.csv')"
   ]
  },
  {
   "cell_type": "code",
   "execution_count": 197,
   "metadata": {},
   "outputs": [],
   "source": [
    "df_fb['avg_price'] = (df_fb['open'] + df_fb['high'] + df_fb['low'])/3"
   ]
  },
  {
   "cell_type": "code",
   "execution_count": 200,
   "metadata": {},
   "outputs": [],
   "source": [
    "df_fb = df_fb[~df_fb.ticker.isin(['APRN', 'SNAP'])]"
   ]
  },
  {
   "cell_type": "code",
   "execution_count": 201,
   "metadata": {},
   "outputs": [],
   "source": [
    "test = df_fb.pivot_table('avg_price', 'date', 'ticker')"
   ]
  },
  {
   "cell_type": "code",
   "execution_count": 202,
   "metadata": {},
   "outputs": [],
   "source": [
    "test.reset_index( drop=False, inplace=True )\n",
    "test = test.fillna(0)"
   ]
  },
  {
   "cell_type": "code",
   "execution_count": 203,
   "metadata": {},
   "outputs": [],
   "source": [
    "test['date'] = pd.to_datetime(test['date'])\n",
    "test = test.sort_values('date')"
   ]
  },
  {
   "cell_type": "code",
   "execution_count": 204,
   "metadata": {},
   "outputs": [],
   "source": [
    "corr_df = test.corr()\n",
    "corr_matrix = test.corr().as_matrix()"
   ]
  },
  {
   "cell_type": "code",
   "execution_count": 205,
   "metadata": {},
   "outputs": [],
   "source": [
    "percent_90d = test[test.columns[1:]].pct_change(90).dropna()"
   ]
  },
  {
   "cell_type": "code",
   "execution_count": 227,
   "metadata": {},
   "outputs": [
    {
     "data": {
      "text/plain": [
       "120"
      ]
     },
     "execution_count": 227,
     "metadata": {},
     "output_type": "execute_result"
    }
   ],
   "source": [
    "len(percent_90d.columns)"
   ]
  },
  {
   "cell_type": "code",
   "execution_count": 221,
   "metadata": {},
   "outputs": [],
   "source": [
    "def find_std_dict(df):\n",
    "    std_dict = {}\n",
    "    for x in df.columns:\n",
    "        std = np.std(df[x])\n",
    "        std_dict[x] = std\n",
    "    return std_dict\n",
    "\n",
    "def find_returns_list(df):\n",
    "    returns_list = []\n",
    "    for x in df.columns:\n",
    "        avg = np.average(df[x])\n",
    "        returns_list.append(avg)\n",
    "    return returns_list"
   ]
  },
  {
   "cell_type": "code",
   "execution_count": 208,
   "metadata": {},
   "outputs": [],
   "source": [
    "dict_90d = find_std_dict(percent_90d)"
   ]
  },
  {
   "cell_type": "code",
   "execution_count": 222,
   "metadata": {},
   "outputs": [],
   "source": [
    "avg_return = find_returns_list(percent_90d)"
   ]
  },
  {
   "cell_type": "code",
   "execution_count": 226,
   "metadata": {},
   "outputs": [
    {
     "data": {
      "text/plain": [
       "120"
      ]
     },
     "execution_count": 226,
     "metadata": {},
     "output_type": "execute_result"
    }
   ],
   "source": [
    "len(dict_90d)"
   ]
  },
  {
   "cell_type": "code",
   "execution_count": 210,
   "metadata": {},
   "outputs": [],
   "source": [
    "percent_180d = test[test.columns[1:]].pct_change(180).dropna(0)"
   ]
  },
  {
   "cell_type": "code",
   "execution_count": 211,
   "metadata": {},
   "outputs": [],
   "source": [
    "dict_180d = find_std_dict(percent_180d.dropna())"
   ]
  },
  {
   "cell_type": "code",
   "execution_count": 215,
   "metadata": {},
   "outputs": [],
   "source": [
    "stocks = list(percent_90d.columns.values)"
   ]
  },
  {
   "cell_type": "code",
   "execution_count": 218,
   "metadata": {},
   "outputs": [],
   "source": [
    "import math\n",
    "def varCovarMatrix(stocksInPortfolio, c, stdv):\n",
    "    cm = np.array(c)\n",
    "    vcv = []\n",
    "    for eachStock in stocksInPortfolio:\n",
    "        row = []\n",
    "        for ticker in stocksInPortfolio:\n",
    "            if eachStock == ticker:\n",
    "                variance = math.pow(stdv[ticker],2)\n",
    "                row.append(variance)\n",
    "            else:\n",
    "                cov = stdv[ticker]*stdv[eachStock]* cm[stocksInPortfolio.index(ticker)][stocksInPortfolio.index(eachStock)]\n",
    "                row.append(cov)\n",
    "        vcv.append(row)\n",
    "\n",
    "    vcvmat = np.mat(vcv)\n",
    "\n",
    "    return vcvmat"
   ]
  },
  {
   "cell_type": "code",
   "execution_count": 220,
   "metadata": {},
   "outputs": [],
   "source": [
    "covariance_matrix_stocks = varCovarMatrix(stocks, corr_matrix, dict_90d)"
   ]
  },
  {
   "cell_type": "code",
   "execution_count": 242,
   "metadata": {},
   "outputs": [],
   "source": [
    "def create_starting_weights(return_list):\n",
    "    w0 = []\n",
    "    for x in return_list:\n",
    "        w0.append(1.0/len(return_list))\n",
    "    return w0\n",
    "\n",
    "def create_binaries(return_list):\n",
    "    b0 = []\n",
    "    for x in return_list:\n",
    "        b0.append(0.0)\n",
    "    return b0"
   ]
  },
  {
   "cell_type": "code",
   "execution_count": 261,
   "metadata": {},
   "outputs": [],
   "source": [
    "covariance_matrix_stocks = np.nan_to_num(covariance_matrix_stocks)"
   ]
  },
  {
   "cell_type": "code",
   "execution_count": 264,
   "metadata": {},
   "outputs": [],
   "source": [
    "avg_return[28] = 0"
   ]
  },
  {
   "cell_type": "code",
   "execution_count": 472,
   "metadata": {},
   "outputs": [],
   "source": [
    "from __future__ import division\n",
    "import numpy as np\n",
    "from matplotlib import pyplot as plt\n",
    "from numpy.linalg import inv,pinv\n",
    "from scipy.optimize import minimize\n",
    "\n",
    "# USER INPUT\n",
    "V = covariance_matrix_stocks  # covariance\n",
    "R = np.reshape(np.matrix(avg_return), (120,1))\n",
    "rf = 3/100\n",
    "\n",
    "w0= create_starting_weights(avg_return)\n",
    "w0_matrix = np.array(w0)\n",
    "y_matrix = np.zeros(w0_matrix.shape[0])\n",
    "# min var optimization\n",
    "def calculate_portfolio_var(w,V):\n",
    "    w = np.matrix(w) \n",
    "    returns = w * R\n",
    "    return ((w*V*w.T)[0,0]) #+ 1/returns\n",
    "\n",
    "# unconstrained portfolio (only sum(w) = 1 )\n",
    "cons = ({'type': 'eq', 'fun': lambda x:  np.sum(x)-1.0},\n",
    "       {'type': 'ineq', 'fun': lambda x: 20*np.count_nonzero(x)-20})\n",
    "bnds = []\n",
    "for x in w0:\n",
    "    bnds.append((0,None))\n",
    "bnds = tuple(bnds)\n",
    "res= minimize(calculate_portfolio_var, w0, args=V, method='SLSQP',constraints=cons, bounds=bnds)\n",
    "w_g = res.x\n",
    "mu_g = w_g*R\n",
    "var_g = np.dot(w_g*V,w_g)"
   ]
  },
  {
   "cell_type": "code",
   "execution_count": 473,
   "metadata": {},
   "outputs": [
    {
     "data": {
      "text/plain": [
       "80"
      ]
     },
     "execution_count": 473,
     "metadata": {},
     "output_type": "execute_result"
    }
   ],
   "source": [
    "np.count_nonzero(w_g)"
   ]
  },
  {
   "cell_type": "code",
   "execution_count": 818,
   "metadata": {},
   "outputs": [],
   "source": [
    "import itertools"
   ]
  },
  {
   "cell_type": "code",
   "execution_count": 819,
   "metadata": {},
   "outputs": [],
   "source": [
    "start = [1,0,0,1,0,1]"
   ]
  },
  {
   "cell_type": "code",
   "execution_count": 820,
   "metadata": {},
   "outputs": [],
   "source": [
    "possi_switch = range(0, len(start))"
   ]
  },
  {
   "cell_type": "code",
   "execution_count": 826,
   "metadata": {},
   "outputs": [],
   "source": [
    "testing = []\n",
    "for z in possi_switch:\n",
    "    for y in possi_switch:\n",
    "        if z != y and z > y:\n",
    "            testing.append([z,y])"
   ]
  },
  {
   "cell_type": "code",
   "execution_count": 829,
   "metadata": {},
   "outputs": [],
   "source": [
    "nbrhood = []\n",
    "for a in testing:\n",
    "    tmp = start\n",
    "    switch_1 = a[0]\n",
    "    switch_2 = a[1]\n",
    "    if tmp[switch_1] == 1:\n",
    "        tmp[switch_1] = 0\n",
    "    else:\n",
    "        tmp[switch_1] = 1\n",
    "    if tmp[switch_2] == 1:\n",
    "        tmp[switch_2] = 0\n",
    "    else:\n",
    "        tmp[switch_2] = 1\n",
    "    nbrhood.append(tmp)\n",
    "        \n",
    "        "
   ]
  },
  {
   "cell_type": "code",
   "execution_count": 832,
   "metadata": {},
   "outputs": [
    {
     "data": {
      "text/plain": [
       "1"
      ]
     },
     "execution_count": 832,
     "metadata": {},
     "output_type": "execute_result"
    }
   ],
   "source": [
    "tmp[1]"
   ]
  },
  {
   "cell_type": "code",
   "execution_count": null,
   "metadata": {},
   "outputs": [],
   "source": []
  }
 ],
 "metadata": {
  "kernelspec": {
   "display_name": "Python 2",
   "language": "python",
   "name": "python2"
  },
  "language_info": {
   "codemirror_mode": {
    "name": "ipython",
    "version": 2
   },
   "file_extension": ".py",
   "mimetype": "text/x-python",
   "name": "python",
   "nbconvert_exporter": "python",
   "pygments_lexer": "ipython2",
   "version": "2.7.12"
  }
 },
 "nbformat": 4,
 "nbformat_minor": 2
}
