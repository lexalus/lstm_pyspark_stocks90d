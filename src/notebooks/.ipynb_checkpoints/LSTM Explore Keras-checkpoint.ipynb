{
 "cells": [
  {
   "cell_type": "code",
   "execution_count": 6,
   "metadata": {},
   "outputs": [],
   "source": [
    "import sys\n",
    "import os\n",
    "module_path = os.path.abspath(os.path.join('../../src/'))\n",
    "if module_path not in sys.path:\n",
    "    sys.path.append(module_path)\n",
    "import numpy as np\n",
    "import pandas as pd\n",
    "from pandas.tseries.holiday import USFederalHolidayCalendar as calendar\n",
    "import keras.preprocessing.sequence as pre\n",
    "from keras.models import Sequential\n",
    "from keras.layers import LSTM,Dense,Dropout,TimeDistributed,Flatten,Masking\n",
    "import sklearn\n",
    "from sklearn.preprocessing import MinMaxScaler, StandardScaler\n",
    "import matplotlib.pyplot as plt\n",
    "import util.util as util"
   ]
  },
  {
   "cell_type": "code",
   "execution_count": null,
   "metadata": {},
   "outputs": [],
   "source": [
    "pre.pad_sequences"
   ]
  },
  {
   "cell_type": "code",
   "execution_count": 404,
   "metadata": {},
   "outputs": [
    {
     "name": "stdout",
     "output_type": "stream",
     "text": [
      "Collecting pandas_datareader\n",
      "  Downloading pandas_datareader-0.6.0-py2.py3-none-any.whl (103kB)\n",
      "\u001b[K    100% |████████████████████████████████| 112kB 1.5MB/s ta 0:00:01\n",
      "\u001b[?25hCollecting requests-ftp (from pandas_datareader)\n",
      "  Downloading requests-ftp-0.3.1.tar.gz\n",
      "Collecting requests-file (from pandas_datareader)\n",
      "  Downloading requests_file-1.4.3-py2.py3-none-any.whl\n",
      "Collecting lxml (from pandas_datareader)\n",
      "  Downloading lxml-4.2.1-cp27-cp27m-macosx_10_6_intel.macosx_10_9_intel.macosx_10_9_x86_64.macosx_10_10_intel.macosx_10_10_x86_64.whl (8.8MB)\n",
      "\u001b[K    100% |████████████████████████████████| 8.8MB 149kB/s eta 0:00:01��█████████████▋| 8.7MB 49.8MB/s eta 0:00:01\n",
      "\u001b[?25hCollecting wrapt (from pandas_datareader)\n",
      "  Downloading wrapt-1.10.11.tar.gz\n",
      "Requirement already satisfied: requests>=2.3.0 in /Users/lex/miniconda2/lib/python2.7/site-packages (from pandas_datareader)\n",
      "Requirement already satisfied: pandas>=0.19.2 in /Users/lex/miniconda2/lib/python2.7/site-packages (from pandas_datareader)\n",
      "Requirement already satisfied: six in /Users/lex/miniconda2/lib/python2.7/site-packages (from requests-file->pandas_datareader)\n",
      "Requirement already satisfied: chardet<3.1.0,>=3.0.2 in /Users/lex/miniconda2/lib/python2.7/site-packages (from requests>=2.3.0->pandas_datareader)\n",
      "Requirement already satisfied: idna<2.7,>=2.5 in /Users/lex/miniconda2/lib/python2.7/site-packages (from requests>=2.3.0->pandas_datareader)\n",
      "Requirement already satisfied: urllib3<1.23,>=1.21.1 in /Users/lex/miniconda2/lib/python2.7/site-packages (from requests>=2.3.0->pandas_datareader)\n",
      "Requirement already satisfied: certifi>=2017.4.17 in /Users/lex/miniconda2/lib/python2.7/site-packages (from requests>=2.3.0->pandas_datareader)\n",
      "Requirement already satisfied: python-dateutil in /Users/lex/miniconda2/lib/python2.7/site-packages (from pandas>=0.19.2->pandas_datareader)\n",
      "Requirement already satisfied: pytz>=2011k in /Users/lex/miniconda2/lib/python2.7/site-packages (from pandas>=0.19.2->pandas_datareader)\n",
      "Requirement already satisfied: numpy>=1.9.0 in /Users/lex/miniconda2/lib/python2.7/site-packages (from pandas>=0.19.2->pandas_datareader)\n",
      "Building wheels for collected packages: requests-ftp, wrapt\n",
      "  Running setup.py bdist_wheel for requests-ftp ... \u001b[?25ldone\n",
      "\u001b[?25h  Stored in directory: /Users/lex/Library/Caches/pip/wheels/76/fb/0d/1026eb562c34a4982dc9d39c9c582a734eefe7f0455f711deb\n",
      "  Running setup.py bdist_wheel for wrapt ... \u001b[?25ldone\n",
      "\u001b[?25h  Stored in directory: /Users/lex/Library/Caches/pip/wheels/56/e1/0f/f7ccf1ed8ceaabccc2a93ce0481f73e589814cbbc439291345\n",
      "Successfully built requests-ftp wrapt\n",
      "Installing collected packages: requests-ftp, requests-file, lxml, wrapt, pandas-datareader\n",
      "Successfully installed lxml-4.2.1 pandas-datareader-0.6.0 requests-file-1.4.3 requests-ftp-0.3.1 wrapt-1.10.11\n",
      "\u001b[33mYou are using pip version 9.0.1, however version 10.0.0 is available.\n",
      "You should consider upgrading via the 'pip install --upgrade pip' command.\u001b[0m\n"
     ]
    }
   ],
   "source": [
    "!pip install pandas_datareader"
   ]
  },
  {
   "cell_type": "code",
   "execution_count": 5,
   "metadata": {},
   "outputs": [],
   "source": [
    "import pandas_datareader.data as web"
   ]
  },
  {
   "cell_type": "code",
   "execution_count": 3,
   "metadata": {},
   "outputs": [],
   "source": [
    "sys.path.append('/Users/lex/miniconda2/lib/python2.7/site-packages')"
   ]
  },
  {
   "cell_type": "code",
   "execution_count": 4,
   "metadata": {},
   "outputs": [],
   "source": [
    "from stockstats import StockDataFrame\n",
    "\n",
    "def set_up_df(csv):\n",
    "    df = pd.read_csv(csv)\n",
    "    df = df[['Open', 'High', 'Low', 'Close', 'Volume', 'ticker', 'date']]\n",
    "    df['date'] = pd.to_datetime(df['date'])\n",
    "    df.index = df['date']\n",
    "    df = df[['Open', 'High', 'Low', 'Close', 'Volume', 'ticker']]\n",
    "    return df\n",
    "\n",
    "def find_stock_features(df):\n",
    "    df = df[['Open', 'High', 'Low', 'Close', 'Volume']]\n",
    "    df.price_change = (df.Close / df.Close.shift(1)) - 1\n",
    "    new = stockstats.StockDataFrame.retype(df)\n",
    "    new.get('macd')\n",
    "    new.get('cci')\n",
    "    new.get('rsi_6')\n",
    "    new.get('dma')\n",
    "    new.get('adx')\n",
    "    new.get('trix')\n",
    "    new.get('atr')\n",
    "    return new\n",
    "\n",
    "def normalize_data(df, columns):\n",
    "    min_max_scaler = MinMaxScaler()\n",
    "    df[columns] = min_max_scaler.fit_transform(df[columns].as_matrix())\n",
    "    return df, min_max_scaler"
   ]
  },
  {
   "cell_type": "code",
   "execution_count": 6,
   "metadata": {},
   "outputs": [],
   "source": [
    "def create_multi_diff(df_in, intervals):\n",
    "    df_diff = df_in.copy()\n",
    "    for interval in intervals:\n",
    "        if interval > 0:\n",
    "            df_diff = df_diff.diff(periods=interval, axis=0)[interval:]\n",
    "    return df_diff\n",
    "\n",
    "def inverse_multi_diff(df_diff, intervals, df_init):\n",
    "    assert (sum(intervals) == len(df_init.index))\n",
    "    df_next_init = df_init[:sum(intervals)]\n",
    "    next_diff = []\n",
    "    prev_diff = create_multi_diff(df_next_init, intervals[:-1]) if len(intervals) > 1 else df_init.copy()\n",
    "    for i in range(intervals[-1] * 2):\n",
    "        if i < intervals[-1]:\n",
    "            next_diff.append(df_diff.values[i] + prev_diff.values[i])\n",
    "        else:\n",
    "            next_diff.append(df_diff.values[i - intervals[-1]] + prev_diff.values[i - intervals[-1]] + df_diff.values[i])\n",
    "    next_diff = np.squeeze(next_diff).tolist()\n",
    "    for i in range(len(df_diff.index) - len(next_diff)):\n",
    "        next_diff.append(next_diff[i] + df_diff.values[i + intervals[-1]] + df_diff.values[i + intervals[-1] * 2])\n",
    "\n",
    "    df_next_diff = pd.DataFrame(np.squeeze(next_diff), index=df_diff.index, columns=df_diff.columns)\n",
    "    if len(intervals) > 1:\n",
    "        df_next_diff = inverse_multi_diff(df_next_diff, intervals[:-1], df_init[intervals[-1]:])\n",
    "    return df_next_diff"
   ]
  },
  {
   "cell_type": "code",
   "execution_count": 7,
   "metadata": {},
   "outputs": [],
   "source": [
    "def difference_df(df, columns, length):\n",
    "    for i in columns:\n",
    "        new_series = df[i]\n",
    "        df[i] = difference(new_series, length)\n",
    "    return df\n",
    "\n",
    "def difference(dataset, interval=1):\n",
    "    diff = list()\n",
    "    for i in range(interval, len(dataset)):\n",
    "        value = dataset[i] - dataset[i - interval]\n",
    "        diff.append(value)\n",
    "    return pd.Series(diff)\n",
    "\n",
    "def inverse_series(old_series, transformed):\n",
    "    values = []\n",
    "    last_value = 0\n",
    "    for i in range(len(transformed)):\n",
    "        if i <= len(old_series)-1:\n",
    "            new_value = old_series[i] + transformed[i]\n",
    "            values.append(new_value)\n",
    "            last_value = new_value\n",
    "        else:\n",
    "            new_value = last_value + transformed[i]\n",
    "            last_value = new_value\n",
    "            values.append(last_value)\n",
    "    return pd.Series(values)\n",
    "\n",
    "def inverse_df(old_df, new_df, columns):\n",
    "    new_data = pd.DataFrame(columns=columns)\n",
    "    for i in columns:\n",
    "        old = old_df[i]\n",
    "        new = new_df[i]\n",
    "        \n",
    "        inversed_data = inverse_series(old, new)\n",
    "        \n",
    "        new_data[i] = inversed_data\n",
    "    return new_data\n"
   ]
  },
  {
   "cell_type": "code",
   "execution_count": 340,
   "metadata": {},
   "outputs": [],
   "source": [
    "df = set_up_df('three_yr_stock_prices.csv')"
   ]
  },
  {
   "cell_type": "code",
   "execution_count": 381,
   "metadata": {},
   "outputs": [],
   "source": [
    "df = util.set_up_df('gspc.csv')"
   ]
  },
  {
   "cell_type": "code",
   "execution_count": 32,
   "metadata": {},
   "outputs": [],
   "source": [
    "stocks = 'FLWS,ANF,AERI,AGFS,AEO,ANGI,ACAT,BV,'\n",
    "'BHE,BJRI,BBOX,BLBD,NILE,BWLD,BBW,ELY,CAC,CBF,'\n",
    "'CARA,CARB,BLDR,CGI,CAKE,CHGG,SCOR,CRVS,CBRL,TACO,'\n",
    "'DWA,EGRX,KODK,RDEN,ELLI,EPE,ETSY,FOXF,FOSL,FCPT,'\n",
    "'GPRO,GES,GUID,HALO,HNH,HA,HCOM,HCI,HTLF,GRUB,ICFI,'\n",
    "'HNNA,JACK,JMBA,KKD,LQ,LZB,LE,LUB,MBUU,NERV,NATH,'\n",
    "'FIZZ,NGS,MCRI,NYT,NDLS,NAT,NOG,NTK,OIS,ODC,NLS,NRE,'\n",
    "'PZZA,PLKI,POR,PTLA,KWR,PBPB,PFBC,ROLL,RLH,RGS,REGI,'\n",
    "'SBRA,SCHL,SENEA,RST,SLAB,SBY,SFLY,SSTK,SONC,SJI,SXC'\n",
    "\n",
    "stocks = stocks.split(',')"
   ]
  },
  {
   "cell_type": "code",
   "execution_count": null,
   "metadata": {},
   "outputs": [
    {
     "name": "stdout",
     "output_type": "stream",
     "text": [
      "FLWS\n",
      "ANF\n",
      "AERI\n",
      "AGFS\n",
      "AEO\n",
      "ANGI\n",
      "ACAT\n",
      "BV\n",
      "BKS\n"
     ]
    }
   ],
   "source": [
    "for x in stocks:\n",
    "    df = web.DataReader(x, 'morningstar', pd.datetime(2013,4,13), pd.datetime(2018,4,13))\n",
    "    print x"
   ]
  },
  {
   "cell_type": "code",
   "execution_count": 28,
   "metadata": {},
   "outputs": [],
   "source": [
    "df = web.DataReader(\"CARA\", 'morningstar', pd.datetime(2013,4,13), pd.datetime(2018,4,13))"
   ]
  },
  {
   "cell_type": "code",
   "execution_count": 799,
   "metadata": {},
   "outputs": [],
   "source": [
    "df = util.set_up_df('us_rf.csv')"
   ]
  },
  {
   "cell_type": "code",
   "execution_count": 800,
   "metadata": {},
   "outputs": [
    {
     "data": {
      "text/plain": [
       "1566"
      ]
     },
     "execution_count": 800,
     "metadata": {},
     "output_type": "execute_result"
    }
   ],
   "source": [
    "len(df)"
   ]
  },
  {
   "cell_type": "code",
   "execution_count": 801,
   "metadata": {},
   "outputs": [
    {
     "data": {
      "text/plain": [
       "array(['rf'], dtype=object)"
      ]
     },
     "execution_count": 801,
     "metadata": {},
     "output_type": "execute_result"
    }
   ],
   "source": [
    "df['ticker'].unique()"
   ]
  },
  {
   "cell_type": "code",
   "execution_count": 802,
   "metadata": {},
   "outputs": [],
   "source": [
    "df_stock = df.copy()"
   ]
  },
  {
   "cell_type": "code",
   "execution_count": 803,
   "metadata": {},
   "outputs": [],
   "source": [
    "df_stock = df_stock[df_stock.ticker == 'rf']"
   ]
  },
  {
   "cell_type": "code",
   "execution_count": 804,
   "metadata": {},
   "outputs": [],
   "source": [
    "import stockstats\n",
    "df_stock = df_stock[['Open', 'High', 'Low', 'Close', 'Volume']]\n",
    "df_stock = find_stock_features(df_stock)"
   ]
  },
  {
   "cell_type": "code",
   "execution_count": 805,
   "metadata": {},
   "outputs": [],
   "source": [
    "df_stock = df_stock.dropna()"
   ]
  },
  {
   "cell_type": "code",
   "execution_count": 806,
   "metadata": {},
   "outputs": [],
   "source": [
    "diff_df = df_stock.diff().dropna()"
   ]
  },
  {
   "cell_type": "code",
   "execution_count": 807,
   "metadata": {},
   "outputs": [],
   "source": [
    "diff_df = diff_df.reset_index(drop=True)"
   ]
  },
  {
   "cell_type": "code",
   "execution_count": 808,
   "metadata": {},
   "outputs": [
    {
     "data": {
      "text/plain": [
       "1564"
      ]
     },
     "execution_count": 808,
     "metadata": {},
     "output_type": "execute_result"
    }
   ],
   "source": [
    "len(diff_df)"
   ]
  },
  {
   "cell_type": "code",
   "execution_count": null,
   "metadata": {},
   "outputs": [],
   "source": [
    "diff_df.index = diff_df.date"
   ]
  },
  {
   "cell_type": "code",
   "execution_count": 810,
   "metadata": {},
   "outputs": [],
   "source": [
    "diff_df = diff_df[[u'open',          u'high',           u'low',\n",
    "               u'close',        u'volume',  u'close_26_ema',          u'macd',\n",
    "               u'macds',         u'macdh',        u'middle', u'middle_14_sma',\n",
    "                 u'cci',    u'close_-1_s',    u'close_-1_d',          u'rs_6',\n",
    "               u'rsi_6',  u'close_10_sma',  u'close_50_sma',           u'dma',\n",
    "          u'high_delta',            u'um',     u'low_delta',            u'dm',\n",
    "                 u'pdm',    u'pdm_14_ema',        u'pdm_14',            u'tr',\n",
    "              u'atr_14',        u'pdi_14',           u'pdi',           u'mdm',\n",
    "          u'mdm_14_ema',        u'mdm_14',        u'mdi_14',           u'mdi',\n",
    "               u'dx_14',            u'dx',      u'dx_6_ema',           u'adx',\n",
    "           u'adx_6_ema',          u'adxr',          u'trix',           u'atr']]"
   ]
  },
  {
   "cell_type": "code",
   "execution_count": 811,
   "metadata": {},
   "outputs": [],
   "source": [
    "diff_df_matrix = diff_df.as_matrix().astype(np.float)"
   ]
  },
  {
   "cell_type": "code",
   "execution_count": 812,
   "metadata": {},
   "outputs": [
    {
     "data": {
      "text/plain": [
       "True"
      ]
     },
     "execution_count": 812,
     "metadata": {},
     "output_type": "execute_result"
    }
   ],
   "source": [
    "np.any(np.isfinite(diff_df_matrix))"
   ]
  },
  {
   "cell_type": "code",
   "execution_count": 813,
   "metadata": {},
   "outputs": [],
   "source": [
    "def clean_dataset(df):\n",
    "    assert isinstance(df, pd.DataFrame), \"df needs to be a pd.DataFrame\"\n",
    "    df.dropna(inplace=True)\n",
    "    indices_to_keep = ~df.isin([np.nan, np.inf, -np.inf]).any(1)\n",
    "    return df[indices_to_keep].astype(np.float64)"
   ]
  },
  {
   "cell_type": "code",
   "execution_count": 814,
   "metadata": {},
   "outputs": [
    {
     "name": "stdout",
     "output_type": "stream",
     "text": [
      "(1564,)\n"
     ]
    }
   ],
   "source": [
    "print(diff_df_matrix[:,0].shape)\n",
    "index = 0\n",
    "for i in diff_df_matrix[:,0]:\n",
    "    if np.isnan(i):\n",
    "        print(index, i)\n",
    "    index +=1"
   ]
  },
  {
   "cell_type": "code",
   "execution_count": 815,
   "metadata": {},
   "outputs": [],
   "source": [
    "diff_df_matrix = clean_dataset(diff_df).as_matrix()"
   ]
  },
  {
   "cell_type": "code",
   "execution_count": 816,
   "metadata": {},
   "outputs": [
    {
     "data": {
      "text/plain": [
       "(1563, 43)"
      ]
     },
     "execution_count": 816,
     "metadata": {},
     "output_type": "execute_result"
    }
   ],
   "source": [
    "diff_df_matrix.shape"
   ]
  },
  {
   "cell_type": "code",
   "execution_count": 817,
   "metadata": {},
   "outputs": [
    {
     "name": "stdout",
     "output_type": "stream",
     "text": [
      "(1563, 43)\n"
     ]
    }
   ],
   "source": [
    "data_raw_x = diff_df_matrix\n",
    "data_raw_y = diff_df_matrix[:,[1,2,3,4,5]]# convert to numpy array\n",
    "\n",
    "min_max_scaler_x = StandardScaler()\n",
    "x_norm = min_max_scaler_x.fit_transform(data_raw_x)\n",
    "print x_norm.shape\n",
    "\n",
    "x_norm = util.add_date_features(pd.datetime(2013,4,13), x_norm)\n",
    "\n",
    "min_max_scaler_y = MinMaxScaler()\n",
    "y_norm = min_max_scaler_y.fit_transform(data_raw_y)\n",
    "\n",
    "index_range_x = 90 + 90\n",
    "\n",
    "data = []\n",
    "data_y = []\n",
    "\n",
    "\n",
    "    # create all possible sequences of length seq_len\n",
    "for index in range(len(x_norm) - index_range_x):\n",
    "    data.append(x_norm[index: index + 90])\n",
    "\n",
    "for index in range(90, len(y_norm) - 90):\n",
    "    data_y_array = y_norm[index: index + 90]\n",
    "    data_y.append(data_y_array)\n",
    "\n",
    "data = np.array(data);\n",
    "data_y = np.array(data_y);\n",
    "valid_set_size = int(np.round(np.float(util.valid_set_size_percentage) / 100 * data.shape[0]));\n",
    "test_set_size = int(np.round(np.float(util.test_set_size_percentage) / 100 * data.shape[0]));\n",
    "train_set_size = data.shape[0] - (valid_set_size + test_set_size);\n",
    "\n",
    "x_train = data[:train_set_size, :-1, :]\n",
    "y_train = data_y[:train_set_size, :-1, :]\n",
    "\n",
    "x_valid = data[train_set_size:train_set_size + valid_set_size, :-1, :]\n",
    "y_valid = data_y[train_set_size:train_set_size + valid_set_size, :-1, :]\n",
    "\n",
    "x_test = data[train_set_size + valid_set_size:, :-1, :]\n",
    "y_test = data_y[train_set_size + valid_set_size:, :-1, :]"
   ]
  },
  {
   "cell_type": "code",
   "execution_count": 818,
   "metadata": {},
   "outputs": [
    {
     "name": "stdout",
     "output_type": "stream",
     "text": [
      "Train on 1107 samples, validate on 138 samples\n",
      "Epoch 1/200\n",
      "1107/1107 [==============================] - 34s 31ms/step - loss: 0.0140 - val_loss: 0.0086\n",
      "Epoch 2/200\n",
      "1107/1107 [==============================] - 30s 27ms/step - loss: 0.0119 - val_loss: 0.0082\n",
      "Epoch 3/200\n",
      "1107/1107 [==============================] - 30s 27ms/step - loss: 0.0109 - val_loss: 0.0081\n",
      "Epoch 4/200\n",
      "1107/1107 [==============================] - 29s 26ms/step - loss: 0.0103 - val_loss: 0.0080\n",
      "Epoch 5/200\n",
      "1107/1107 [==============================] - 29s 26ms/step - loss: 0.0095 - val_loss: 0.0082\n",
      "Epoch 6/200\n",
      "1107/1107 [==============================] - 29s 26ms/step - loss: 0.0089 - val_loss: 0.0084\n",
      "Epoch 7/200\n",
      "1107/1107 [==============================] - 29s 26ms/step - loss: 0.0087 - val_loss: 0.0088\n",
      "Epoch 8/200\n",
      "1107/1107 [==============================] - 32s 29ms/step - loss: 0.0091 - val_loss: 0.0090\n",
      "Epoch 9/200\n",
      "1107/1107 [==============================] - 26s 24ms/step - loss: 0.0087 - val_loss: 0.0088\n",
      "Epoch 10/200\n",
      "1107/1107 [==============================] - 24s 22ms/step - loss: 0.0083 - val_loss: 0.0087\n",
      "Epoch 11/200\n",
      "1107/1107 [==============================] - 25s 22ms/step - loss: 0.0084 - val_loss: 0.0091\n",
      "Epoch 12/200\n",
      "1107/1107 [==============================] - 24s 22ms/step - loss: 0.0080 - val_loss: 0.0100\n",
      "Epoch 13/200\n",
      "1107/1107 [==============================] - 24s 22ms/step - loss: 0.0082 - val_loss: 0.0097\n",
      "Epoch 14/200\n",
      "1107/1107 [==============================] - 24s 22ms/step - loss: 0.0081 - val_loss: 0.0091\n",
      "Epoch 15/200\n",
      "1107/1107 [==============================] - 24s 22ms/step - loss: 0.0080 - val_loss: 0.0094\n",
      "Epoch 16/200\n",
      "1107/1107 [==============================] - 24s 22ms/step - loss: 0.0077 - val_loss: 0.0093\n",
      "Epoch 17/200\n",
      "1107/1107 [==============================] - 24s 22ms/step - loss: 0.0075 - val_loss: 0.0088\n",
      "Epoch 18/200\n",
      "1107/1107 [==============================] - 29s 26ms/step - loss: 0.0072 - val_loss: 0.0085\n",
      "Epoch 19/200\n",
      "1107/1107 [==============================] - 26s 24ms/step - loss: 0.0070 - val_loss: 0.0084\n",
      "Epoch 20/200\n",
      "1107/1107 [==============================] - 24s 22ms/step - loss: 0.0069 - val_loss: 0.0086\n",
      "Epoch 21/200\n",
      "1107/1107 [==============================] - 24s 22ms/step - loss: 0.0066 - val_loss: 0.0087\n",
      "Epoch 22/200\n",
      "1107/1107 [==============================] - 24s 22ms/step - loss: 0.0064 - val_loss: 0.0087\n",
      "Epoch 23/200\n",
      "1107/1107 [==============================] - 24s 22ms/step - loss: 0.0063 - val_loss: 0.0086\n",
      "Epoch 24/200\n",
      "1107/1107 [==============================] - 24s 22ms/step - loss: 0.0061 - val_loss: 0.0087\n",
      "Epoch 25/200\n",
      "1107/1107 [==============================] - 24s 22ms/step - loss: 0.0059 - val_loss: 0.0083\n",
      "Epoch 26/200\n",
      "1107/1107 [==============================] - 30s 27ms/step - loss: 0.0057 - val_loss: 0.0085\n",
      "Epoch 27/200\n",
      "1107/1107 [==============================] - 31s 28ms/step - loss: 0.0054 - val_loss: 0.0085\n",
      "Epoch 28/200\n",
      "1107/1107 [==============================] - 24s 22ms/step - loss: 0.0049 - val_loss: 0.0083\n",
      "Epoch 29/200\n",
      "1107/1107 [==============================] - 24s 22ms/step - loss: 0.0046 - val_loss: 0.0093\n",
      "Epoch 30/200\n",
      "1107/1107 [==============================] - 27s 24ms/step - loss: 0.0043 - val_loss: 0.0088\n",
      "Epoch 31/200\n",
      " 640/1107 [================>.............] - ETA: 12s - loss: 0.0039"
     ]
    },
    {
     "ename": "KeyboardInterrupt",
     "evalue": "",
     "output_type": "error",
     "traceback": [
      "\u001b[0;31m---------------------------------------------------------------------------\u001b[0m",
      "\u001b[0;31mKeyboardInterrupt\u001b[0m                         Traceback (most recent call last)",
      "\u001b[0;32m<ipython-input-818-298b3f541b62>\u001b[0m in \u001b[0;36m<module>\u001b[0;34m()\u001b[0m\n\u001b[1;32m     10\u001b[0m \u001b[0mmodel\u001b[0m\u001b[0;34m.\u001b[0m\u001b[0madd\u001b[0m\u001b[0;34m(\u001b[0m\u001b[0mDense\u001b[0m\u001b[0;34m(\u001b[0m\u001b[0;36m5\u001b[0m\u001b[0;34m,\u001b[0m \u001b[0mactivation\u001b[0m\u001b[0;34m=\u001b[0m\u001b[0;34m'sigmoid'\u001b[0m\u001b[0;34m)\u001b[0m\u001b[0;34m)\u001b[0m\u001b[0;34m\u001b[0m\u001b[0m\n\u001b[1;32m     11\u001b[0m \u001b[0mmodel\u001b[0m\u001b[0;34m.\u001b[0m\u001b[0mcompile\u001b[0m\u001b[0;34m(\u001b[0m\u001b[0moptimizer\u001b[0m\u001b[0;34m=\u001b[0m\u001b[0;34m'adam'\u001b[0m\u001b[0;34m,\u001b[0m\u001b[0mloss\u001b[0m\u001b[0;34m=\u001b[0m\u001b[0;34m'mse'\u001b[0m\u001b[0;34m)\u001b[0m\u001b[0;34m\u001b[0m\u001b[0m\n\u001b[0;32m---> 12\u001b[0;31m \u001b[0mhistory\u001b[0m \u001b[0;34m=\u001b[0m \u001b[0mmodel\u001b[0m\u001b[0;34m.\u001b[0m\u001b[0mfit\u001b[0m\u001b[0;34m(\u001b[0m\u001b[0mx_train\u001b[0m\u001b[0;34m,\u001b[0m \u001b[0my_train\u001b[0m\u001b[0;34m,\u001b[0m \u001b[0mepochs\u001b[0m\u001b[0;34m=\u001b[0m\u001b[0;36m200\u001b[0m\u001b[0;34m,\u001b[0m\u001b[0mvalidation_data\u001b[0m\u001b[0;34m=\u001b[0m\u001b[0;34m(\u001b[0m\u001b[0mx_valid\u001b[0m\u001b[0;34m,\u001b[0m\u001b[0my_valid\u001b[0m\u001b[0;34m)\u001b[0m\u001b[0;34m,\u001b[0m\u001b[0mshuffle\u001b[0m\u001b[0;34m=\u001b[0m\u001b[0mFalse\u001b[0m\u001b[0;34m)\u001b[0m\u001b[0;34m\u001b[0m\u001b[0m\n\u001b[0m",
      "\u001b[0;32m/Library/Frameworks/Python.framework/Versions/2.7/lib/python2.7/site-packages/keras/models.pyc\u001b[0m in \u001b[0;36mfit\u001b[0;34m(self, x, y, batch_size, epochs, verbose, callbacks, validation_split, validation_data, shuffle, class_weight, sample_weight, initial_epoch, steps_per_epoch, validation_steps, **kwargs)\u001b[0m\n\u001b[1;32m    958\u001b[0m                               \u001b[0minitial_epoch\u001b[0m\u001b[0;34m=\u001b[0m\u001b[0minitial_epoch\u001b[0m\u001b[0;34m,\u001b[0m\u001b[0;34m\u001b[0m\u001b[0m\n\u001b[1;32m    959\u001b[0m                               \u001b[0msteps_per_epoch\u001b[0m\u001b[0;34m=\u001b[0m\u001b[0msteps_per_epoch\u001b[0m\u001b[0;34m,\u001b[0m\u001b[0;34m\u001b[0m\u001b[0m\n\u001b[0;32m--> 960\u001b[0;31m                               validation_steps=validation_steps)\n\u001b[0m\u001b[1;32m    961\u001b[0m \u001b[0;34m\u001b[0m\u001b[0m\n\u001b[1;32m    962\u001b[0m     def evaluate(self, x, y, batch_size=32, verbose=1,\n",
      "\u001b[0;32m/Library/Frameworks/Python.framework/Versions/2.7/lib/python2.7/site-packages/keras/engine/training.pyc\u001b[0m in \u001b[0;36mfit\u001b[0;34m(self, x, y, batch_size, epochs, verbose, callbacks, validation_split, validation_data, shuffle, class_weight, sample_weight, initial_epoch, steps_per_epoch, validation_steps, **kwargs)\u001b[0m\n\u001b[1;32m   1655\u001b[0m                               \u001b[0minitial_epoch\u001b[0m\u001b[0;34m=\u001b[0m\u001b[0minitial_epoch\u001b[0m\u001b[0;34m,\u001b[0m\u001b[0;34m\u001b[0m\u001b[0m\n\u001b[1;32m   1656\u001b[0m                               \u001b[0msteps_per_epoch\u001b[0m\u001b[0;34m=\u001b[0m\u001b[0msteps_per_epoch\u001b[0m\u001b[0;34m,\u001b[0m\u001b[0;34m\u001b[0m\u001b[0m\n\u001b[0;32m-> 1657\u001b[0;31m                               validation_steps=validation_steps)\n\u001b[0m\u001b[1;32m   1658\u001b[0m \u001b[0;34m\u001b[0m\u001b[0m\n\u001b[1;32m   1659\u001b[0m     def evaluate(self, x=None, y=None,\n",
      "\u001b[0;32m/Library/Frameworks/Python.framework/Versions/2.7/lib/python2.7/site-packages/keras/engine/training.pyc\u001b[0m in \u001b[0;36m_fit_loop\u001b[0;34m(self, f, ins, out_labels, batch_size, epochs, verbose, callbacks, val_f, val_ins, shuffle, callback_metrics, initial_epoch, steps_per_epoch, validation_steps)\u001b[0m\n\u001b[1;32m   1211\u001b[0m                     \u001b[0mbatch_logs\u001b[0m\u001b[0;34m[\u001b[0m\u001b[0;34m'size'\u001b[0m\u001b[0;34m]\u001b[0m \u001b[0;34m=\u001b[0m \u001b[0mlen\u001b[0m\u001b[0;34m(\u001b[0m\u001b[0mbatch_ids\u001b[0m\u001b[0;34m)\u001b[0m\u001b[0;34m\u001b[0m\u001b[0m\n\u001b[1;32m   1212\u001b[0m                     \u001b[0mcallbacks\u001b[0m\u001b[0;34m.\u001b[0m\u001b[0mon_batch_begin\u001b[0m\u001b[0;34m(\u001b[0m\u001b[0mbatch_index\u001b[0m\u001b[0;34m,\u001b[0m \u001b[0mbatch_logs\u001b[0m\u001b[0;34m)\u001b[0m\u001b[0;34m\u001b[0m\u001b[0m\n\u001b[0;32m-> 1213\u001b[0;31m                     \u001b[0mouts\u001b[0m \u001b[0;34m=\u001b[0m \u001b[0mf\u001b[0m\u001b[0;34m(\u001b[0m\u001b[0mins_batch\u001b[0m\u001b[0;34m)\u001b[0m\u001b[0;34m\u001b[0m\u001b[0m\n\u001b[0m\u001b[1;32m   1214\u001b[0m                     \u001b[0;32mif\u001b[0m \u001b[0;32mnot\u001b[0m \u001b[0misinstance\u001b[0m\u001b[0;34m(\u001b[0m\u001b[0mouts\u001b[0m\u001b[0;34m,\u001b[0m \u001b[0mlist\u001b[0m\u001b[0;34m)\u001b[0m\u001b[0;34m:\u001b[0m\u001b[0;34m\u001b[0m\u001b[0m\n\u001b[1;32m   1215\u001b[0m                         \u001b[0mouts\u001b[0m \u001b[0;34m=\u001b[0m \u001b[0;34m[\u001b[0m\u001b[0mouts\u001b[0m\u001b[0;34m]\u001b[0m\u001b[0;34m\u001b[0m\u001b[0m\n",
      "\u001b[0;32m/Library/Frameworks/Python.framework/Versions/2.7/lib/python2.7/site-packages/keras/backend/tensorflow_backend.pyc\u001b[0m in \u001b[0;36m__call__\u001b[0;34m(self, inputs)\u001b[0m\n\u001b[1;32m   2355\u001b[0m         \u001b[0msession\u001b[0m \u001b[0;34m=\u001b[0m \u001b[0mget_session\u001b[0m\u001b[0;34m(\u001b[0m\u001b[0;34m)\u001b[0m\u001b[0;34m\u001b[0m\u001b[0m\n\u001b[1;32m   2356\u001b[0m         updated = session.run(fetches=fetches, feed_dict=feed_dict,\n\u001b[0;32m-> 2357\u001b[0;31m                               **self.session_kwargs)\n\u001b[0m\u001b[1;32m   2358\u001b[0m         \u001b[0;32mreturn\u001b[0m \u001b[0mupdated\u001b[0m\u001b[0;34m[\u001b[0m\u001b[0;34m:\u001b[0m\u001b[0mlen\u001b[0m\u001b[0;34m(\u001b[0m\u001b[0mself\u001b[0m\u001b[0;34m.\u001b[0m\u001b[0moutputs\u001b[0m\u001b[0;34m)\u001b[0m\u001b[0;34m]\u001b[0m\u001b[0;34m\u001b[0m\u001b[0m\n\u001b[1;32m   2359\u001b[0m \u001b[0;34m\u001b[0m\u001b[0m\n",
      "\u001b[0;32m/Library/Frameworks/Python.framework/Versions/2.7/lib/python2.7/site-packages/tensorflow/python/client/session.pyc\u001b[0m in \u001b[0;36mrun\u001b[0;34m(self, fetches, feed_dict, options, run_metadata)\u001b[0m\n\u001b[1;32m    887\u001b[0m     \u001b[0;32mtry\u001b[0m\u001b[0;34m:\u001b[0m\u001b[0;34m\u001b[0m\u001b[0m\n\u001b[1;32m    888\u001b[0m       result = self._run(None, fetches, feed_dict, options_ptr,\n\u001b[0;32m--> 889\u001b[0;31m                          run_metadata_ptr)\n\u001b[0m\u001b[1;32m    890\u001b[0m       \u001b[0;32mif\u001b[0m \u001b[0mrun_metadata\u001b[0m\u001b[0;34m:\u001b[0m\u001b[0;34m\u001b[0m\u001b[0m\n\u001b[1;32m    891\u001b[0m         \u001b[0mproto_data\u001b[0m \u001b[0;34m=\u001b[0m \u001b[0mtf_session\u001b[0m\u001b[0;34m.\u001b[0m\u001b[0mTF_GetBuffer\u001b[0m\u001b[0;34m(\u001b[0m\u001b[0mrun_metadata_ptr\u001b[0m\u001b[0;34m)\u001b[0m\u001b[0;34m\u001b[0m\u001b[0m\n",
      "\u001b[0;32m/Library/Frameworks/Python.framework/Versions/2.7/lib/python2.7/site-packages/tensorflow/python/client/session.pyc\u001b[0m in \u001b[0;36m_run\u001b[0;34m(self, handle, fetches, feed_dict, options, run_metadata)\u001b[0m\n\u001b[1;32m   1118\u001b[0m     \u001b[0;32mif\u001b[0m \u001b[0mfinal_fetches\u001b[0m \u001b[0;32mor\u001b[0m \u001b[0mfinal_targets\u001b[0m \u001b[0;32mor\u001b[0m \u001b[0;34m(\u001b[0m\u001b[0mhandle\u001b[0m \u001b[0;32mand\u001b[0m \u001b[0mfeed_dict_tensor\u001b[0m\u001b[0;34m)\u001b[0m\u001b[0;34m:\u001b[0m\u001b[0;34m\u001b[0m\u001b[0m\n\u001b[1;32m   1119\u001b[0m       results = self._do_run(handle, final_targets, final_fetches,\n\u001b[0;32m-> 1120\u001b[0;31m                              feed_dict_tensor, options, run_metadata)\n\u001b[0m\u001b[1;32m   1121\u001b[0m     \u001b[0;32melse\u001b[0m\u001b[0;34m:\u001b[0m\u001b[0;34m\u001b[0m\u001b[0m\n\u001b[1;32m   1122\u001b[0m       \u001b[0mresults\u001b[0m \u001b[0;34m=\u001b[0m \u001b[0;34m[\u001b[0m\u001b[0;34m]\u001b[0m\u001b[0;34m\u001b[0m\u001b[0m\n",
      "\u001b[0;32m/Library/Frameworks/Python.framework/Versions/2.7/lib/python2.7/site-packages/tensorflow/python/client/session.pyc\u001b[0m in \u001b[0;36m_do_run\u001b[0;34m(self, handle, target_list, fetch_list, feed_dict, options, run_metadata)\u001b[0m\n\u001b[1;32m   1315\u001b[0m     \u001b[0;32mif\u001b[0m \u001b[0mhandle\u001b[0m \u001b[0;32mis\u001b[0m \u001b[0mNone\u001b[0m\u001b[0;34m:\u001b[0m\u001b[0;34m\u001b[0m\u001b[0m\n\u001b[1;32m   1316\u001b[0m       return self._do_call(_run_fn, self._session, feeds, fetches, targets,\n\u001b[0;32m-> 1317\u001b[0;31m                            options, run_metadata)\n\u001b[0m\u001b[1;32m   1318\u001b[0m     \u001b[0;32melse\u001b[0m\u001b[0;34m:\u001b[0m\u001b[0;34m\u001b[0m\u001b[0m\n\u001b[1;32m   1319\u001b[0m       \u001b[0;32mreturn\u001b[0m \u001b[0mself\u001b[0m\u001b[0;34m.\u001b[0m\u001b[0m_do_call\u001b[0m\u001b[0;34m(\u001b[0m\u001b[0m_prun_fn\u001b[0m\u001b[0;34m,\u001b[0m \u001b[0mself\u001b[0m\u001b[0;34m.\u001b[0m\u001b[0m_session\u001b[0m\u001b[0;34m,\u001b[0m \u001b[0mhandle\u001b[0m\u001b[0;34m,\u001b[0m \u001b[0mfeeds\u001b[0m\u001b[0;34m,\u001b[0m \u001b[0mfetches\u001b[0m\u001b[0;34m)\u001b[0m\u001b[0;34m\u001b[0m\u001b[0m\n",
      "\u001b[0;32m/Library/Frameworks/Python.framework/Versions/2.7/lib/python2.7/site-packages/tensorflow/python/client/session.pyc\u001b[0m in \u001b[0;36m_do_call\u001b[0;34m(self, fn, *args)\u001b[0m\n\u001b[1;32m   1321\u001b[0m   \u001b[0;32mdef\u001b[0m \u001b[0m_do_call\u001b[0m\u001b[0;34m(\u001b[0m\u001b[0mself\u001b[0m\u001b[0;34m,\u001b[0m \u001b[0mfn\u001b[0m\u001b[0;34m,\u001b[0m \u001b[0;34m*\u001b[0m\u001b[0margs\u001b[0m\u001b[0;34m)\u001b[0m\u001b[0;34m:\u001b[0m\u001b[0;34m\u001b[0m\u001b[0m\n\u001b[1;32m   1322\u001b[0m     \u001b[0;32mtry\u001b[0m\u001b[0;34m:\u001b[0m\u001b[0;34m\u001b[0m\u001b[0m\n\u001b[0;32m-> 1323\u001b[0;31m       \u001b[0;32mreturn\u001b[0m \u001b[0mfn\u001b[0m\u001b[0;34m(\u001b[0m\u001b[0;34m*\u001b[0m\u001b[0margs\u001b[0m\u001b[0;34m)\u001b[0m\u001b[0;34m\u001b[0m\u001b[0m\n\u001b[0m\u001b[1;32m   1324\u001b[0m     \u001b[0;32mexcept\u001b[0m \u001b[0merrors\u001b[0m\u001b[0;34m.\u001b[0m\u001b[0mOpError\u001b[0m \u001b[0;32mas\u001b[0m \u001b[0me\u001b[0m\u001b[0;34m:\u001b[0m\u001b[0;34m\u001b[0m\u001b[0m\n\u001b[1;32m   1325\u001b[0m       \u001b[0mmessage\u001b[0m \u001b[0;34m=\u001b[0m \u001b[0mcompat\u001b[0m\u001b[0;34m.\u001b[0m\u001b[0mas_text\u001b[0m\u001b[0;34m(\u001b[0m\u001b[0me\u001b[0m\u001b[0;34m.\u001b[0m\u001b[0mmessage\u001b[0m\u001b[0;34m)\u001b[0m\u001b[0;34m\u001b[0m\u001b[0m\n",
      "\u001b[0;32m/Library/Frameworks/Python.framework/Versions/2.7/lib/python2.7/site-packages/tensorflow/python/client/session.pyc\u001b[0m in \u001b[0;36m_run_fn\u001b[0;34m(session, feed_dict, fetch_list, target_list, options, run_metadata)\u001b[0m\n\u001b[1;32m   1300\u001b[0m           return tf_session.TF_Run(session, options,\n\u001b[1;32m   1301\u001b[0m                                    \u001b[0mfeed_dict\u001b[0m\u001b[0;34m,\u001b[0m \u001b[0mfetch_list\u001b[0m\u001b[0;34m,\u001b[0m \u001b[0mtarget_list\u001b[0m\u001b[0;34m,\u001b[0m\u001b[0;34m\u001b[0m\u001b[0m\n\u001b[0;32m-> 1302\u001b[0;31m                                    status, run_metadata)\n\u001b[0m\u001b[1;32m   1303\u001b[0m \u001b[0;34m\u001b[0m\u001b[0m\n\u001b[1;32m   1304\u001b[0m     \u001b[0;32mdef\u001b[0m \u001b[0m_prun_fn\u001b[0m\u001b[0;34m(\u001b[0m\u001b[0msession\u001b[0m\u001b[0;34m,\u001b[0m \u001b[0mhandle\u001b[0m\u001b[0;34m,\u001b[0m \u001b[0mfeed_dict\u001b[0m\u001b[0;34m,\u001b[0m \u001b[0mfetch_list\u001b[0m\u001b[0;34m)\u001b[0m\u001b[0;34m:\u001b[0m\u001b[0;34m\u001b[0m\u001b[0m\n",
      "\u001b[0;31mKeyboardInterrupt\u001b[0m: "
     ]
    }
   ],
   "source": [
    "model = Sequential()\n",
    "model.add(Masking(mask_value=0.0, input_shape=(89,124)))\n",
    "model.add(LSTM(256,input_shape=(89,124),activation='tanh',return_sequences=True))\n",
    "model.add(Dropout(0.10))\n",
    "model.add(LSTM(145, activation='tanh', return_sequences=True))\n",
    "model.add(Dropout(0.10))\n",
    "model.add(LSTM(95, activation='tanh', return_sequences=True))\n",
    "model.add(Dropout(0.10))\n",
    "#model.add(Flatten())\n",
    "model.add(Dense(5, activation='sigmoid'))\n",
    "model.compile(optimizer='adam',loss='mse')\n",
    "history = model.fit(x_train, y_train, epochs=200,validation_data=(x_valid,y_valid),shuffle=False)"
   ]
  },
  {
   "cell_type": "code",
   "execution_count": 614,
   "metadata": {},
   "outputs": [],
   "source": [
    "model.save('rf_lstm_model_200.h5')"
   ]
  },
  {
   "cell_type": "code",
   "execution_count": 765,
   "metadata": {},
   "outputs": [
    {
     "data": {
      "text/plain": [
       "[<matplotlib.lines.Line2D at 0x169f95a90>]"
      ]
     },
     "execution_count": 765,
     "metadata": {},
     "output_type": "execute_result"
    },
    {
     "data": {
      "image/png": "[encoded data removed]",
      "text/plain": [
       "<matplotlib.figure.Figure at 0x169fa0b10>"
      ]
     },
     "metadata": {},
     "output_type": "display_data"
    }
   ],
   "source": [
    "plt.plot(history.history['loss'])\n",
    "plt.plot(history.history['val_loss'])"
   ]
  },
  {
   "cell_type": "code",
   "execution_count": 766,
   "metadata": {},
   "outputs": [],
   "source": [
    "all_x = np.concatenate([x_train, x_test, x_valid])"
   ]
  },
  {
   "cell_type": "code",
   "execution_count": 767,
   "metadata": {},
   "outputs": [],
   "source": [
    "all_y = np.concatenate([y_train, y_test, y_valid])"
   ]
  },
  {
   "cell_type": "code",
   "execution_count": 768,
   "metadata": {},
   "outputs": [],
   "source": [
    "Xt = model.predict(all_x)"
   ]
  },
  {
   "cell_type": "code",
   "execution_count": 771,
   "metadata": {},
   "outputs": [],
   "source": [
    "xt_0 = pd.DataFrame(Xt[0])\n",
    "xt_0.index = xt_0.index+90\n",
    "y_test_df = pd.DataFrame(all_y[0])\n",
    "y_test_df.index = y_test_df.index+90\n",
    "x_test_df = pd.DataFrame(all_x[0])"
   ]
  },
  {
   "cell_type": "code",
   "execution_count": 772,
   "metadata": {},
   "outputs": [
    {
     "data": {
      "text/plain": [
       "[<matplotlib.lines.Line2D at 0x167172390>]"
      ]
     },
     "execution_count": 772,
     "metadata": {},
     "output_type": "execute_result"
    },
    {
     "data": {
      "image/png": "[encoded data removed]",
      "text/plain": [
       "<matplotlib.figure.Figure at 0x183536090>"
      ]
     },
     "metadata": {},
     "output_type": "display_data"
    }
   ],
   "source": [
    "plt.plot(x_test_df[0])\n",
    "plt.plot(y_test_df[0])\n",
    "plt.plot(xt_0[0])"
   ]
  },
  {
   "cell_type": "code",
   "execution_count": 621,
   "metadata": {},
   "outputs": [
    {
     "data": {
      "text/plain": [
       "(1383, 89, 124)"
      ]
     },
     "execution_count": 621,
     "metadata": {},
     "output_type": "execute_result"
    }
   ],
   "source": [
    "all_x.shape"
   ]
  },
  {
   "cell_type": "code",
   "execution_count": 774,
   "metadata": {},
   "outputs": [],
   "source": [
    "new_x = np.reshape(all_x[1], (89, 124))\n",
    "for i in range(2, all_x.shape[0]/90+1):\n",
    "    next_x = np.reshape(all_x[i*90], (89, 124))\n",
    "    new_x = np.concatenate([new_x,next_x])"
   ]
  },
  {
   "cell_type": "code",
   "execution_count": 623,
   "metadata": {},
   "outputs": [],
   "source": [
    "def inverse_x(x_matrix, min_max_scaler_x, begin_df):\n",
    "    new_x = np.reshape(x_matrix[1], (89, 124))\n",
    "    for i in range(2, x_matrix.shape[0]/90+1):\n",
    "        next_x = np.reshape(x_matrix[i*90], (89, 124))\n",
    "        new_x = np.concatenate([new_x,next_x])\n",
    "    reverse_scale = min_max_scaler_x.inverse_transform(new_x[:,1:44])\n",
    "    reverse_x_df = pd.DataFrame(reverse_scale)\n",
    "    reverse_x_df.columns=begin_df.columns\n",
    "    inverse_df_x = inverse_df(begin_df, reverse_x_df, reverse_x_df.columns)\n",
    "    return inverse_df_x"
   ]
  },
  {
   "cell_type": "code",
   "execution_count": 775,
   "metadata": {},
   "outputs": [],
   "source": [
    "reverse_scale = min_max_scaler_x.inverse_transform(new_x[:,1:44])"
   ]
  },
  {
   "cell_type": "code",
   "execution_count": 776,
   "metadata": {},
   "outputs": [],
   "source": [
    "reverse_x_df = pd.DataFrame(reverse_scale)"
   ]
  },
  {
   "cell_type": "code",
   "execution_count": 777,
   "metadata": {},
   "outputs": [],
   "source": [
    "reverse_x_df.columns=df_stock.columns"
   ]
  },
  {
   "cell_type": "code",
   "execution_count": 778,
   "metadata": {},
   "outputs": [],
   "source": [
    "inverse_df_x = inverse_df(df_stock, reverse_x_df, reverse_x_df.columns)"
   ]
  },
  {
   "cell_type": "code",
   "execution_count": 628,
   "metadata": {},
   "outputs": [],
   "source": [
    "def inverse_y(y_matrix, min_max_scaler_y, input_predict):\n",
    "    new_y = np.reshape(y_matrix[1], (89, 4))\n",
    "    for i in range(2, y_matrix.shape[0]/90+1):\n",
    "        next_y = np.reshape(y_matrix[i*90], (89, 4))\n",
    "        new_y = np.concatenate([new_y,next_y])\n",
    "    reverse_scale_y = min_max_scaler_y.inverse_transform(new_y)\n",
    "    reverse_y_df = pd.DataFrame(reverse_scale_y)\n",
    "    reverse_y_df.columns=['open', 'high', 'low', 'close']\n",
    "    inverse_df_y = inverse_df(input_predict[90:90], reverse_y_df, ['open', 'high', 'low', 'close'])\n",
    "    return"
   ]
  },
  {
   "cell_type": "code",
   "execution_count": 779,
   "metadata": {},
   "outputs": [
    {
     "data": {
      "text/plain": [
       "(1023, 359, 5)"
      ]
     },
     "execution_count": 779,
     "metadata": {},
     "output_type": "execute_result"
    }
   ],
   "source": [
    "Xt.shape"
   ]
  },
  {
   "cell_type": "code",
   "execution_count": 780,
   "metadata": {},
   "outputs": [],
   "source": [
    "new_y = np.reshape(Xt[1], (89, 5))\n",
    "for i in range(2, all_y.shape[0]/90+1):\n",
    "    next_y = np.reshape(Xt[i*90], (89, 5))\n",
    "    new_y = np.concatenate([new_y,next_y])\n",
    "reverse_scale_y = min_max_scaler_y.inverse_transform(new_y)\n",
    "reverse_y_df = pd.DataFrame(reverse_scale_y)\n",
    "reverse_y_df.columns=['open', 'high', 'low', 'close', 'volume']\n",
    "inverse_df_y = inverse_df(df_stock[90:90], reverse_y_df, ['open', 'high', 'low', 'close', 'volume'])"
   ]
  },
  {
   "cell_type": "code",
   "execution_count": 781,
   "metadata": {},
   "outputs": [
    {
     "data": {
      "text/plain": [
       "718"
      ]
     },
     "execution_count": 781,
     "metadata": {},
     "output_type": "execute_result"
    }
   ],
   "source": [
    "len(inverse_df_y)"
   ]
  },
  {
   "cell_type": "code",
   "execution_count": 782,
   "metadata": {},
   "outputs": [],
   "source": [
    "old_y = np.reshape(all_y[1], (89, 5))\n",
    "for i in range(2, all_y.shape[0]/90+1):\n",
    "    next_y = np.reshape(all_y[i*90], (89, 5))\n",
    "    old_y = np.concatenate([new_y,next_y])\n",
    "reverse_scale_y_old = min_max_scaler_y.inverse_transform(old_y)\n",
    "reverse_y_df_old = pd.DataFrame(reverse_scale_y_old)\n",
    "reverse_y_df_old.columns=['open', 'high', 'low', 'close', 'volume']\n",
    "inverse_df_y_old = inverse_df(df_stock[90:90], reverse_y_df_old, ['open', 'high', 'low', 'close', 'volume'])"
   ]
  },
  {
   "cell_type": "code",
   "execution_count": 783,
   "metadata": {},
   "outputs": [
    {
     "data": {
      "text/plain": [
       "-0.11753696785218309"
      ]
     },
     "execution_count": 783,
     "metadata": {},
     "output_type": "execute_result"
    }
   ],
   "source": [
    "np.average(reverse_y_df_old.open)"
   ]
  },
  {
   "cell_type": "code",
   "execution_count": 784,
   "metadata": {},
   "outputs": [
    {
     "data": {
      "text/plain": [
       "-0.11713833"
      ]
     },
     "execution_count": 784,
     "metadata": {},
     "output_type": "execute_result"
    }
   ],
   "source": [
    "np.average(reverse_y_df.open)"
   ]
  },
  {
   "cell_type": "code",
   "execution_count": 785,
   "metadata": {},
   "outputs": [
    {
     "data": {
      "text/plain": [
       "1077"
      ]
     },
     "execution_count": 785,
     "metadata": {},
     "output_type": "execute_result"
    }
   ],
   "source": [
    "len(inverse_df_y_old)"
   ]
  },
  {
   "cell_type": "code",
   "execution_count": 786,
   "metadata": {},
   "outputs": [
    {
     "data": {
      "text/plain": [
       "[<matplotlib.lines.Line2D at 0x167007510>]"
      ]
     },
     "execution_count": 786,
     "metadata": {},
     "output_type": "execute_result"
    },
    {
     "data": {
      "image/png": "[encoded data removed]",
      "text/plain": [
       "<matplotlib.figure.Figure at 0x167172ad0>"
      ]
     },
     "metadata": {},
     "output_type": "display_data"
    }
   ],
   "source": [
    "plt.plot(inverse_df_y_old.open)\n",
    "plt.plot(inverse_df_y.open)"
   ]
  },
  {
   "cell_type": "code",
   "execution_count": 787,
   "metadata": {},
   "outputs": [
    {
     "data": {
      "text/plain": [
       "[<matplotlib.lines.Line2D at 0x1672e2990>]"
      ]
     },
     "execution_count": 787,
     "metadata": {},
     "output_type": "execute_result"
    },
    {
     "data": {
      "image/png": "[encoded data removed]",
      "text/plain": [
       "<matplotlib.figure.Figure at 0x169e63290>"
      ]
     },
     "metadata": {},
     "output_type": "display_data"
    }
   ],
   "source": [
    "plt.plot(inverse_df_y.open)\n",
    "plt.plot(inverse_df_y_old.open)"
   ]
  },
  {
   "cell_type": "code",
   "execution_count": 788,
   "metadata": {},
   "outputs": [
    {
     "data": {
      "text/plain": [
       "1565"
      ]
     },
     "execution_count": 788,
     "metadata": {},
     "output_type": "execute_result"
    }
   ],
   "source": [
    "len(df_stock)"
   ]
  },
  {
   "cell_type": "code",
   "execution_count": 789,
   "metadata": {},
   "outputs": [],
   "source": [
    "last_predict = df_stock[(len(df_stock)-1)-359:len(df_stock)]"
   ]
  },
  {
   "cell_type": "code",
   "execution_count": 643,
   "metadata": {},
   "outputs": [
    {
     "ename": "AttributeError",
     "evalue": "'DatetimeIndex' object has no attribute 'droplevel'",
     "output_type": "error",
     "traceback": [
      "\u001b[0;31m---------------------------------------------------------------------------\u001b[0m",
      "\u001b[0;31mAttributeError\u001b[0m                            Traceback (most recent call last)",
      "\u001b[0;32m<ipython-input-643-cb0ecb8dd34e>\u001b[0m in \u001b[0;36m<module>\u001b[0;34m()\u001b[0m\n\u001b[0;32m----> 1\u001b[0;31m \u001b[0mlast_predict\u001b[0m\u001b[0;34m.\u001b[0m\u001b[0mindex\u001b[0m \u001b[0;34m=\u001b[0m \u001b[0mlast_predict\u001b[0m\u001b[0;34m.\u001b[0m\u001b[0mindex\u001b[0m\u001b[0;34m.\u001b[0m\u001b[0mdroplevel\u001b[0m\u001b[0;34m(\u001b[0m\u001b[0;36m0\u001b[0m\u001b[0;34m)\u001b[0m\u001b[0;34m\u001b[0m\u001b[0m\n\u001b[0m",
      "\u001b[0;31mAttributeError\u001b[0m: 'DatetimeIndex' object has no attribute 'droplevel'"
     ]
    }
   ],
   "source": [
    "last_predict.index = last_predict.index.droplevel(0)"
   ]
  },
  {
   "cell_type": "code",
   "execution_count": 790,
   "metadata": {},
   "outputs": [
    {
     "data": {
      "text/plain": [
       "[<matplotlib.lines.Line2D at 0x16f31be50>]"
      ]
     },
     "execution_count": 790,
     "metadata": {},
     "output_type": "execute_result"
    },
    {
     "data": {
      "image/png": "[encoded data removed]",
      "text/plain": [
       "<matplotlib.figure.Figure at 0x16ec97890>"
      ]
     },
     "metadata": {},
     "output_type": "display_data"
    }
   ],
   "source": [
    "plt.plot(last_predict['open'])"
   ]
  },
  {
   "cell_type": "code",
   "execution_count": 791,
   "metadata": {},
   "outputs": [],
   "source": [
    "last_predict_diff = last_predict.diff().dropna()"
   ]
  },
  {
   "cell_type": "code",
   "execution_count": 792,
   "metadata": {},
   "outputs": [],
   "source": [
    "last_predict_matrix = last_predict_diff.as_matrix()"
   ]
  },
  {
   "cell_type": "code",
   "execution_count": 793,
   "metadata": {},
   "outputs": [],
   "source": [
    "last_predict_norm = min_max_scaler_x.transform(last_predict_matrix)"
   ]
  },
  {
   "cell_type": "code",
   "execution_count": 795,
   "metadata": {},
   "outputs": [],
   "source": [
    "x_norm = np.reshape(util.add_date_features(last_predict_diff.index[0], last_predict_norm), (1, 359, 124))"
   ]
  },
  {
   "cell_type": "code",
   "execution_count": 796,
   "metadata": {},
   "outputs": [],
   "source": [
    "last_predict_y = np.reshape(model.predict(x_norm), (359,5))"
   ]
  },
  {
   "cell_type": "code",
   "execution_count": 797,
   "metadata": {},
   "outputs": [],
   "source": [
    "reverse_scale_predict = min_max_scaler_y.inverse_transform(last_predict_y)\n",
    "reverse_predict = pd.DataFrame(reverse_scale_predict)\n",
    "reverse_predict.columns=['open', 'high', 'low', 'close','volume']\n",
    "inverse_df_predict = inverse_df(last_predict[359:360], reverse_predict, ['open', 'high', 'low', 'close','volume'])"
   ]
  },
  {
   "cell_type": "code",
   "execution_count": 798,
   "metadata": {},
   "outputs": [
    {
     "data": {
      "text/plain": [
       "[<matplotlib.lines.Line2D at 0x1717a7b50>]"
      ]
     },
     "execution_count": 798,
     "metadata": {},
     "output_type": "execute_result"
    },
    {
     "data": {
      "image/png": "[encoded data removed]",
      "text/plain": [
       "<matplotlib.figure.Figure at 0x167086410>"
      ]
     },
     "metadata": {},
     "output_type": "display_data"
    }
   ],
   "source": [
    "plt.plot(inverse_df_predict['open'])"
   ]
  },
  {
   "cell_type": "code",
   "execution_count": 654,
   "metadata": {},
   "outputs": [],
   "source": [
    "inverse_df_predict.index = pd.date_range(start=pd.datetime(2018, 4, 13), end=pd.datetime(2018,7,10))"
   ]
  },
  {
   "cell_type": "code",
   "execution_count": 655,
   "metadata": {},
   "outputs": [
    {
     "data": {
      "text/plain": [
       "datetime.datetime(2018, 7, 12, 0, 0)"
      ]
     },
     "execution_count": 655,
     "metadata": {},
     "output_type": "execute_result"
    }
   ],
   "source": [
    "pd.datetime(2018,4,13) + datetime.timedelta(days=90)"
   ]
  },
  {
   "cell_type": "code",
   "execution_count": 568,
   "metadata": {},
   "outputs": [
    {
     "ename": "AttributeError",
     "evalue": "'DatetimeIndex' object has no attribute 'droplevel'",
     "output_type": "error",
     "traceback": [
      "\u001b[0;31m---------------------------------------------------------------------------\u001b[0m",
      "\u001b[0;31mAttributeError\u001b[0m                            Traceback (most recent call last)",
      "\u001b[0;32m<ipython-input-568-38e124a13922>\u001b[0m in \u001b[0;36m<module>\u001b[0;34m()\u001b[0m\n\u001b[0;32m----> 1\u001b[0;31m \u001b[0mdf_stock\u001b[0m\u001b[0;34m.\u001b[0m\u001b[0mindex\u001b[0m \u001b[0;34m=\u001b[0m \u001b[0mdf_stock\u001b[0m\u001b[0;34m.\u001b[0m\u001b[0mindex\u001b[0m\u001b[0;34m.\u001b[0m\u001b[0mdroplevel\u001b[0m\u001b[0;34m(\u001b[0m\u001b[0;36m0\u001b[0m\u001b[0;34m)\u001b[0m\u001b[0;34m\u001b[0m\u001b[0m\n\u001b[0m",
      "\u001b[0;31mAttributeError\u001b[0m: 'DatetimeIndex' object has no attribute 'droplevel'"
     ]
    }
   ],
   "source": [
    "df_stock.index = df_stock.index.droplevel(0)"
   ]
  },
  {
   "cell_type": "code",
   "execution_count": 656,
   "metadata": {},
   "outputs": [],
   "source": [
    "add_prediction = inverse_df_predict.append(df_stock[['open', 'high', 'low', 'close', 'volume']])"
   ]
  },
  {
   "cell_type": "code",
   "execution_count": 657,
   "metadata": {},
   "outputs": [],
   "source": [
    "add_prediction = add_prediction.sort_index()"
   ]
  },
  {
   "cell_type": "code",
   "execution_count": 658,
   "metadata": {},
   "outputs": [
    {
     "data": {
      "text/plain": [
       "[<matplotlib.lines.Line2D at 0x167600b90>]"
      ]
     },
     "execution_count": 658,
     "metadata": {},
     "output_type": "execute_result"
    },
    {
     "data": {
      "image/png": "[encoded data removed]",
      "text/plain": [
       "<matplotlib.figure.Figure at 0x15573dd50>"
      ]
     },
     "metadata": {},
     "output_type": "display_data"
    }
   ],
   "source": [
    "#last_predict = last_predict.reset_index(drop=True)\n",
    "#df_stock = df_stock.reset_index(drop=True)\n",
    "#inverse_df_predict.index = inverse_df_predict.index - len(df_stock)\n",
    "#plt.plot(last_predict['open'])\n",
    "plt.plot(add_prediction['open'])\n",
    "#plt.plot(inverse_df_predict['open'])"
   ]
  },
  {
   "cell_type": "code",
   "execution_count": 585,
   "metadata": {},
   "outputs": [],
   "source": [
    "add_prediction.to_csv('rf_prediction.csv')"
   ]
  },
  {
   "cell_type": "code",
   "execution_count": 699,
   "metadata": {},
   "outputs": [],
   "source": [
    "new_predict = add_prediction[-95:-1]"
   ]
  },
  {
   "cell_type": "code",
   "execution_count": 700,
   "metadata": {},
   "outputs": [
    {
     "data": {
      "text/html": [
       "<div>\n",
       "<style>\n",
       "    .dataframe thead tr:only-child th {\n",
       "        text-align: right;\n",
       "    }\n",
       "\n",
       "    .dataframe thead th {\n",
       "        text-align: left;\n",
       "    }\n",
       "\n",
       "    .dataframe tbody tr th {\n",
       "        vertical-align: top;\n",
       "    }\n",
       "</style>\n",
       "<table border=\"1\" class=\"dataframe\">\n",
       "  <thead>\n",
       "    <tr style=\"text-align: right;\">\n",
       "      <th></th>\n",
       "      <th>open</th>\n",
       "      <th>high</th>\n",
       "      <th>low</th>\n",
       "      <th>close</th>\n",
       "      <th>volume</th>\n",
       "    </tr>\n",
       "  </thead>\n",
       "  <tbody>\n",
       "    <tr>\n",
       "      <th>2018-10-05</th>\n",
       "      <td>1.710445</td>\n",
       "      <td>1.627479</td>\n",
       "      <td>1.222621</td>\n",
       "      <td>2.208516</td>\n",
       "      <td>-0.553729</td>\n",
       "    </tr>\n",
       "  </tbody>\n",
       "</table>\n",
       "</div>"
      ],
      "text/plain": [
       "                open      high       low     close    volume\n",
       "2018-10-05  1.710445  1.627479  1.222621  2.208516 -0.553729"
      ]
     },
     "execution_count": 700,
     "metadata": {},
     "output_type": "execute_result"
    }
   ],
   "source": [
    "add_prediction[-2:-1]"
   ]
  },
  {
   "cell_type": "code",
   "execution_count": 701,
   "metadata": {},
   "outputs": [],
   "source": [
    "new_predict.columns = [['Open', 'High', 'Low', 'Close', 'Volume']]"
   ]
  },
  {
   "cell_type": "code",
   "execution_count": 702,
   "metadata": {},
   "outputs": [],
   "source": [
    "new_predict = find_stock_features(new_predict)"
   ]
  },
  {
   "cell_type": "code",
   "execution_count": 703,
   "metadata": {},
   "outputs": [
    {
     "data": {
      "text/html": [
       "<div>\n",
       "<style>\n",
       "    .dataframe thead tr:only-child th {\n",
       "        text-align: right;\n",
       "    }\n",
       "\n",
       "    .dataframe thead th {\n",
       "        text-align: left;\n",
       "    }\n",
       "\n",
       "    .dataframe tbody tr th {\n",
       "        vertical-align: top;\n",
       "    }\n",
       "</style>\n",
       "<table border=\"1\" class=\"dataframe\">\n",
       "  <thead>\n",
       "    <tr style=\"text-align: right;\">\n",
       "      <th></th>\n",
       "      <th>open</th>\n",
       "      <th>high</th>\n",
       "      <th>low</th>\n",
       "      <th>close</th>\n",
       "      <th>volume</th>\n",
       "      <th>close_26_ema</th>\n",
       "      <th>macd</th>\n",
       "      <th>macds</th>\n",
       "      <th>macdh</th>\n",
       "      <th>middle</th>\n",
       "      <th>...</th>\n",
       "      <th>mdi_14</th>\n",
       "      <th>mdi</th>\n",
       "      <th>dx_14</th>\n",
       "      <th>dx</th>\n",
       "      <th>dx_6_ema</th>\n",
       "      <th>adx</th>\n",
       "      <th>adx_6_ema</th>\n",
       "      <th>adxr</th>\n",
       "      <th>trix</th>\n",
       "      <th>atr</th>\n",
       "    </tr>\n",
       "  </thead>\n",
       "  <tbody>\n",
       "    <tr>\n",
       "      <th>2018-07-05</th>\n",
       "      <td>1.983726</td>\n",
       "      <td>2.030463</td>\n",
       "      <td>1.824853</td>\n",
       "      <td>2.022792</td>\n",
       "      <td>-0.158224</td>\n",
       "      <td>2.022792</td>\n",
       "      <td>0.000000</td>\n",
       "      <td>0.000000</td>\n",
       "      <td>0.000000</td>\n",
       "      <td>1.959369</td>\n",
       "      <td>...</td>\n",
       "      <td>NaN</td>\n",
       "      <td>NaN</td>\n",
       "      <td>NaN</td>\n",
       "      <td>NaN</td>\n",
       "      <td>NaN</td>\n",
       "      <td>NaN</td>\n",
       "      <td>NaN</td>\n",
       "      <td>NaN</td>\n",
       "      <td>NaN</td>\n",
       "      <td>NaN</td>\n",
       "    </tr>\n",
       "    <tr>\n",
       "      <th>2018-07-06</th>\n",
       "      <td>1.989968</td>\n",
       "      <td>2.024835</td>\n",
       "      <td>1.806751</td>\n",
       "      <td>2.010755</td>\n",
       "      <td>-0.154641</td>\n",
       "      <td>2.016542</td>\n",
       "      <td>-0.000270</td>\n",
       "      <td>-0.000150</td>\n",
       "      <td>-0.000240</td>\n",
       "      <td>1.947447</td>\n",
       "      <td>...</td>\n",
       "      <td>4.446585</td>\n",
       "      <td>4.446585</td>\n",
       "      <td>100.0</td>\n",
       "      <td>100.0</td>\n",
       "      <td>100.0</td>\n",
       "      <td>100.0</td>\n",
       "      <td>100.0</td>\n",
       "      <td>100.0</td>\n",
       "      <td>-0.094575</td>\n",
       "      <td>0.218083</td>\n",
       "    </tr>\n",
       "    <tr>\n",
       "      <th>2018-07-07</th>\n",
       "      <td>1.965619</td>\n",
       "      <td>2.019991</td>\n",
       "      <td>1.806739</td>\n",
       "      <td>2.022861</td>\n",
       "      <td>-0.152616</td>\n",
       "      <td>2.018812</td>\n",
       "      <td>0.000031</td>\n",
       "      <td>-0.000076</td>\n",
       "      <td>0.000214</td>\n",
       "      <td>1.949863</td>\n",
       "      <td>...</td>\n",
       "      <td>2.782161</td>\n",
       "      <td>2.782161</td>\n",
       "      <td>100.0</td>\n",
       "      <td>100.0</td>\n",
       "      <td>100.0</td>\n",
       "      <td>100.0</td>\n",
       "      <td>100.0</td>\n",
       "      <td>100.0</td>\n",
       "      <td>-0.034405</td>\n",
       "      <td>0.215578</td>\n",
       "    </tr>\n",
       "    <tr>\n",
       "      <th>2018-07-08</th>\n",
       "      <td>1.969547</td>\n",
       "      <td>2.013712</td>\n",
       "      <td>1.778029</td>\n",
       "      <td>2.001197</td>\n",
       "      <td>-0.153390</td>\n",
       "      <td>2.013888</td>\n",
       "      <td>-0.000615</td>\n",
       "      <td>-0.000258</td>\n",
       "      <td>-0.000713</td>\n",
       "      <td>1.930979</td>\n",
       "      <td>...</td>\n",
       "      <td>5.726725</td>\n",
       "      <td>5.726725</td>\n",
       "      <td>100.0</td>\n",
       "      <td>100.0</td>\n",
       "      <td>100.0</td>\n",
       "      <td>100.0</td>\n",
       "      <td>100.0</td>\n",
       "      <td>100.0</td>\n",
       "      <td>-0.045699</td>\n",
       "      <td>0.226060</td>\n",
       "    </tr>\n",
       "    <tr>\n",
       "      <th>2018-07-09</th>\n",
       "      <td>1.958880</td>\n",
       "      <td>1.996915</td>\n",
       "      <td>1.796953</td>\n",
       "      <td>2.035165</td>\n",
       "      <td>-0.153252</td>\n",
       "      <td>2.018822</td>\n",
       "      <td>0.000399</td>\n",
       "      <td>-0.000063</td>\n",
       "      <td>0.000924</td>\n",
       "      <td>1.943011</td>\n",
       "      <td>...</td>\n",
       "      <td>4.349504</td>\n",
       "      <td>4.349504</td>\n",
       "      <td>100.0</td>\n",
       "      <td>100.0</td>\n",
       "      <td>100.0</td>\n",
       "      <td>100.0</td>\n",
       "      <td>100.0</td>\n",
       "      <td>100.0</td>\n",
       "      <td>-0.019758</td>\n",
       "      <td>0.219986</td>\n",
       "    </tr>\n",
       "  </tbody>\n",
       "</table>\n",
       "<p>5 rows × 43 columns</p>\n",
       "</div>"
      ],
      "text/plain": [
       "                open      high       low     close    volume  close_26_ema  \\\n",
       "2018-07-05  1.983726  2.030463  1.824853  2.022792 -0.158224      2.022792   \n",
       "2018-07-06  1.989968  2.024835  1.806751  2.010755 -0.154641      2.016542   \n",
       "2018-07-07  1.965619  2.019991  1.806739  2.022861 -0.152616      2.018812   \n",
       "2018-07-08  1.969547  2.013712  1.778029  2.001197 -0.153390      2.013888   \n",
       "2018-07-09  1.958880  1.996915  1.796953  2.035165 -0.153252      2.018822   \n",
       "\n",
       "                macd     macds     macdh    middle    ...       mdi_14  \\\n",
       "2018-07-05  0.000000  0.000000  0.000000  1.959369    ...          NaN   \n",
       "2018-07-06 -0.000270 -0.000150 -0.000240  1.947447    ...     4.446585   \n",
       "2018-07-07  0.000031 -0.000076  0.000214  1.949863    ...     2.782161   \n",
       "2018-07-08 -0.000615 -0.000258 -0.000713  1.930979    ...     5.726725   \n",
       "2018-07-09  0.000399 -0.000063  0.000924  1.943011    ...     4.349504   \n",
       "\n",
       "                 mdi  dx_14     dx  dx_6_ema    adx  adx_6_ema   adxr  \\\n",
       "2018-07-05       NaN    NaN    NaN       NaN    NaN        NaN    NaN   \n",
       "2018-07-06  4.446585  100.0  100.0     100.0  100.0      100.0  100.0   \n",
       "2018-07-07  2.782161  100.0  100.0     100.0  100.0      100.0  100.0   \n",
       "2018-07-08  5.726725  100.0  100.0     100.0  100.0      100.0  100.0   \n",
       "2018-07-09  4.349504  100.0  100.0     100.0  100.0      100.0  100.0   \n",
       "\n",
       "                trix       atr  \n",
       "2018-07-05       NaN       NaN  \n",
       "2018-07-06 -0.094575  0.218083  \n",
       "2018-07-07 -0.034405  0.215578  \n",
       "2018-07-08 -0.045699  0.226060  \n",
       "2018-07-09 -0.019758  0.219986  \n",
       "\n",
       "[5 rows x 43 columns]"
      ]
     },
     "execution_count": 703,
     "metadata": {},
     "output_type": "execute_result"
    }
   ],
   "source": [
    "new_predict.head()"
   ]
  },
  {
   "cell_type": "code",
   "execution_count": 704,
   "metadata": {},
   "outputs": [],
   "source": [
    "new_predict = new_predict.dropna()\n",
    "new_predict = new_predict.diff().dropna()\n",
    "new_predict = new_predict.reset_index(drop=True)\n",
    "new_predict = new_predict[[u'open',          u'high',           u'low',\n",
    "               u'close',        u'volume',  u'close_26_ema',          u'macd',\n",
    "               u'macds',         u'macdh',        u'middle', u'middle_14_sma',\n",
    "                 u'cci',    u'close_-1_s',    u'close_-1_d',          u'rs_6',\n",
    "               u'rsi_6',  u'close_10_sma',  u'close_50_sma',           u'dma',\n",
    "          u'high_delta',            u'um',     u'low_delta',            u'dm',\n",
    "                 u'pdm',    u'pdm_14_ema',        u'pdm_14',            u'tr',\n",
    "              u'atr_14',        u'pdi_14',           u'pdi',           u'mdm',\n",
    "          u'mdm_14_ema',        u'mdm_14',        u'mdi_14',           u'mdi',\n",
    "               u'dx_14',            u'dx',      u'dx_6_ema',           u'adx',\n",
    "           u'adx_6_ema',          u'adxr',          u'trix',           u'atr']]\n",
    "new_predict_matrix = clean_dataset(new_predict).as_matrix()"
   ]
  },
  {
   "cell_type": "code",
   "execution_count": 705,
   "metadata": {},
   "outputs": [],
   "source": [
    "new_predict_matrix = new_predict_matrix[2:91,:]"
   ]
  },
  {
   "cell_type": "code",
   "execution_count": 706,
   "metadata": {},
   "outputs": [],
   "source": [
    "new_predict_norm = min_max_scaler_x.transform(new_predict_matrix)"
   ]
  },
  {
   "cell_type": "code",
   "execution_count": 707,
   "metadata": {},
   "outputs": [
    {
     "data": {
      "text/plain": [
       "(89, 43)"
      ]
     },
     "execution_count": 707,
     "metadata": {},
     "output_type": "execute_result"
    }
   ],
   "source": [
    "new_predict_norm.shape"
   ]
  },
  {
   "cell_type": "code",
   "execution_count": 708,
   "metadata": {},
   "outputs": [],
   "source": [
    "new_predict_norm = np.reshape(util.add_date_features(pd.datetime(2018,4,12), new_predict_norm), (1,89,124))"
   ]
  },
  {
   "cell_type": "code",
   "execution_count": 709,
   "metadata": {},
   "outputs": [],
   "source": [
    "new_predict_y = np.reshape(model.predict(new_predict_norm), (89,5))"
   ]
  },
  {
   "cell_type": "code",
   "execution_count": 710,
   "metadata": {},
   "outputs": [],
   "source": [
    "new_predict_y = min_max_scaler_y.inverse_transform(new_predict_y)\n",
    "reverse_predict_y = pd.DataFrame(new_predict_y)\n",
    "reverse_predict_y.columns=['open', 'high', 'low', 'close','volume']\n",
    "inverse_df_predict_y = inverse_df(add_prediction[-2:-1], reverse_predict_y, ['open', 'high', 'low', 'close','volume'])"
   ]
  },
  {
   "cell_type": "code",
   "execution_count": 711,
   "metadata": {},
   "outputs": [
    {
     "data": {
      "text/plain": [
       "[<matplotlib.lines.Line2D at 0x169f5cf90>]"
      ]
     },
     "execution_count": 711,
     "metadata": {},
     "output_type": "execute_result"
    },
    {
     "data": {
      "image/png": "[encoded data removed]",
      "text/plain": [
       "<matplotlib.figure.Figure at 0x169dc4f50>"
      ]
     },
     "metadata": {},
     "output_type": "display_data"
    }
   ],
   "source": [
    "plt.plot(inverse_df_predict_y.open)"
   ]
  },
  {
   "cell_type": "code",
   "execution_count": 713,
   "metadata": {},
   "outputs": [],
   "source": [
    "inverse_df_predict_y.index = pd.date_range(start=pd.datetime(2018, 10, 6), end=pd.datetime(2019,1,2))"
   ]
  },
  {
   "cell_type": "code",
   "execution_count": 714,
   "metadata": {},
   "outputs": [],
   "source": [
    "add_prediction = add_prediction.append(inverse_df_predict_y).sort_index()"
   ]
  },
  {
   "cell_type": "code",
   "execution_count": 715,
   "metadata": {},
   "outputs": [
    {
     "data": {
      "text/plain": [
       "[<matplotlib.lines.Line2D at 0x169cec910>]"
      ]
     },
     "execution_count": 715,
     "metadata": {},
     "output_type": "execute_result"
    },
    {
     "data": {
      "image/png": "[encoded data removed]",
      "text/plain": [
       "<matplotlib.figure.Figure at 0x169d0d090>"
      ]
     },
     "metadata": {},
     "output_type": "display_data"
    }
   ],
   "source": [
    "plt.plot(add_prediction.open)"
   ]
  },
  {
   "cell_type": "code",
   "execution_count": null,
   "metadata": {},
   "outputs": [],
   "source": []
  }
 ],
 "metadata": {
  "kernelspec": {
   "display_name": "Python 2",
   "language": "python",
   "name": "python2"
  },
  "language_info": {
   "codemirror_mode": {
    "name": "ipython",
    "version": 2
   },
   "file_extension": ".py",
   "mimetype": "text/x-python",
   "name": "python",
   "nbconvert_exporter": "python",
   "pygments_lexer": "ipython2",
   "version": "2.7.12"
  }
 },
 "nbformat": 4,
 "nbformat_minor": 2
}
