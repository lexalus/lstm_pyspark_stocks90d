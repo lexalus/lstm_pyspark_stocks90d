{
 "cells": [
  {
   "cell_type": "code",
   "execution_count": 13,
   "metadata": {},
   "outputs": [
    {
     "name": "stdout",
     "output_type": "stream",
     "text": [
      "Collecting googlefinance.client\n",
      "  Downloading googlefinance.client-1.3.0.tar.gz\n",
      "Collecting datetime (from googlefinance.client)\n",
      "  Downloading DateTime-4.2-py2.py3-none-any.whl (60kB)\n",
      "\u001b[K    100% |████████████████████████████████| 61kB 232kB/s ta 0:00:01\n",
      "\u001b[?25hRequirement already satisfied: requests in /Users/lex/miniconda2/lib/python2.7/site-packages (from googlefinance.client)\n",
      "Requirement already satisfied: pandas in /Users/lex/miniconda2/lib/python2.7/site-packages (from googlefinance.client)\n",
      "Collecting zope.interface (from datetime->googlefinance.client)\n",
      "  Downloading zope.interface-4.4.3.tar.gz (147kB)\n",
      "\u001b[K    100% |████████████████████████████████| 153kB 889kB/s ta 0:00:01\n",
      "\u001b[?25hRequirement already satisfied: pytz in /Users/lex/miniconda2/lib/python2.7/site-packages (from datetime->googlefinance.client)\n",
      "Requirement already satisfied: chardet<3.1.0,>=3.0.2 in /Users/lex/miniconda2/lib/python2.7/site-packages (from requests->googlefinance.client)\n",
      "Requirement already satisfied: idna<2.7,>=2.5 in /Users/lex/miniconda2/lib/python2.7/site-packages (from requests->googlefinance.client)\n",
      "Requirement already satisfied: urllib3<1.23,>=1.21.1 in /Users/lex/miniconda2/lib/python2.7/site-packages (from requests->googlefinance.client)\n",
      "Requirement already satisfied: certifi>=2017.4.17 in /Users/lex/miniconda2/lib/python2.7/site-packages (from requests->googlefinance.client)\n",
      "Requirement already satisfied: python-dateutil in /Users/lex/miniconda2/lib/python2.7/site-packages (from pandas->googlefinance.client)\n",
      "Requirement already satisfied: numpy>=1.9.0 in /Users/lex/miniconda2/lib/python2.7/site-packages (from pandas->googlefinance.client)\n",
      "Requirement already satisfied: setuptools in /Users/lex/miniconda2/lib/python2.7/site-packages (from zope.interface->datetime->googlefinance.client)\n",
      "Requirement already satisfied: six>=1.5 in /Users/lex/miniconda2/lib/python2.7/site-packages (from python-dateutil->pandas->googlefinance.client)\n",
      "Building wheels for collected packages: googlefinance.client, zope.interface\n",
      "  Running setup.py bdist_wheel for googlefinance.client ... \u001b[?25ldone\n",
      "\u001b[?25h  Stored in directory: /Users/lex/Library/Caches/pip/wheels/bf/d6/54/09b6ac5690820dc54556f021efcfd6baca88f04b144a001c55\n",
      "  Running setup.py bdist_wheel for zope.interface ... \u001b[?25ldone\n",
      "\u001b[?25h  Stored in directory: /Users/lex/Library/Caches/pip/wheels/8b/39/98/0fcb72adfb12b2547273b1164d952f093f267e0324d58b6955\n",
      "Successfully built googlefinance.client zope.interface\n",
      "Installing collected packages: zope.interface, datetime, googlefinance.client\n",
      "Successfully installed datetime-4.2 googlefinance.client-1.3.0 zope.interface-4.4.3\n",
      "\u001b[33mYou are using pip version 9.0.1, however version 9.0.3 is available.\n",
      "You should consider upgrading via the 'pip install --upgrade pip' command.\u001b[0m\n"
     ]
    }
   ],
   "source": [
    "!pip install googlefinance.client"
   ]
  },
  {
   "cell_type": "code",
   "execution_count": 4,
   "metadata": {},
   "outputs": [],
   "source": [
    "import sys\n",
    "sys.path.append('/Users/lex/miniconda2/lib/python2.7/site-packages')"
   ]
  },
  {
   "cell_type": "code",
   "execution_count": 14,
   "metadata": {},
   "outputs": [],
   "source": [
    "from googlefinance.client import get_price_data, get_prices_data, get_prices_time_data"
   ]
  },
  {
   "cell_type": "code",
   "execution_count": 102,
   "metadata": {},
   "outputs": [],
   "source": [
    "def get_prices():\n",
    "    random.seed(100)\n",
    "    top = pd.read_csv('secwiki_tickers.csv')\n",
    "    top = top.dropna()\n",
    "    rand_100 = random.sample(top.index, 100)\n",
    "    top_rand_100 = top[top.index.isin(rand_100)].reset_index(drop=True)\n",
    "    top_prices = []\n",
    "    for i, row in top_rand_100.iterrows():\n",
    "        ticker = str(row.Ticker)\n",
    "        param = {'q': ticker, 'i': \"86400\",'x': \"NASD\", 'p': \"3Y\"}\n",
    "        df = get_price_data(param)\n",
    "        df['ticker'] = ticker\n",
    "        df['company'] = str(row.Name)\n",
    "        top_prices.append(df)\n",
    "        if df.empty:\n",
    "            print 'No data for %s' % ticker\n",
    "            param = {'q': ticker, 'i': \"86400\",'x': \"INDEXDJX\", 'p': \"3Y\"}\n",
    "            df2 = get_price_data(param)\n",
    "            df2['ticker'] = ticker\n",
    "            df2['company'] = str(row.Name)\n",
    "            top_prices.append(df2)\n",
    "    new_prices = pd.concat(top_prices)\n",
    "    return new_prices"
   ]
  },
  {
   "cell_type": "code",
   "execution_count": 103,
   "metadata": {},
   "outputs": [],
   "source": [
    "df = get_prices()"
   ]
  },
  {
   "cell_type": "code",
   "execution_count": 104,
   "metadata": {},
   "outputs": [
    {
     "data": {
      "text/plain": [
       "0"
      ]
     },
     "execution_count": 104,
     "metadata": {},
     "output_type": "execute_result"
    }
   ],
   "source": [
    "len(df.ticker.unique())"
   ]
  },
  {
   "cell_type": "code",
   "execution_count": null,
   "metadata": {},
   "outputs": [],
   "source": []
  }
 ],
 "metadata": {
  "kernelspec": {
   "display_name": "Python 2",
   "language": "python",
   "name": "python2"
  },
  "language_info": {
   "codemirror_mode": {
    "name": "ipython",
    "version": 2
   },
   "file_extension": ".py",
   "mimetype": "text/x-python",
   "name": "python",
   "nbconvert_exporter": "python",
   "pygments_lexer": "ipython2",
   "version": "2.7.12"
  }
 },
 "nbformat": 4,
 "nbformat_minor": 2
}
