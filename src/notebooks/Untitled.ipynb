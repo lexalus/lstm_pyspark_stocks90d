{
 "cells": [
  {
   "cell_type": "code",
   "execution_count": 100,
   "metadata": {},
   "outputs": [],
   "source": [
    "import sys\n",
    "import os\n",
    "module_path = os.path.abspath(os.path.join('../../src/'))\n",
    "if module_path not in sys.path:\n",
    "    sys.path.append(module_path)\n",
    "sys.path.append('/Users/lex/miniconda2/lib/python2.7/site-packages')\n",
    "import numpy as np\n",
    "import pandas as pd\n",
    "from pandas.tseries.holiday import USFederalHolidayCalendar as calendar\n",
    "from keras.models import Sequential\n",
    "from keras.layers import LSTM,Dense,Dropout,TimeDistributed,Flatten,Masking\n",
    "import sklearn\n",
    "from sklearn.preprocessing import MinMaxScaler, StandardScaler\n",
    "import matplotlib.pyplot as plt\n",
    "import util.util as util"
   ]
  },
  {
   "cell_type": "code",
   "execution_count": 101,
   "metadata": {},
   "outputs": [],
   "source": [
    "df_rf = pd.read_csv('rf_prediction.csv')\n",
    "df_market = pd.read_csv('sp_prediction.csv')\n",
    "df_fb = pd.read_csv('stock_predictions.csv')"
   ]
  },
  {
   "cell_type": "code",
   "execution_count": 102,
   "metadata": {},
   "outputs": [],
   "source": [
    "df_fb['avg_price'] = (df_fb['open'] + df_fb['high'] + df_fb['low'])/3"
   ]
  },
  {
   "cell_type": "code",
   "execution_count": 103,
   "metadata": {},
   "outputs": [],
   "source": [
    "df_fb = df_fb[~df_fb.ticker.isin(['APRN', 'SNAP'])]"
   ]
  },
  {
   "cell_type": "code",
   "execution_count": 104,
   "metadata": {},
   "outputs": [],
   "source": [
    "test = df_fb.pivot_table('avg_price', 'date', 'ticker')"
   ]
  },
  {
   "cell_type": "code",
   "execution_count": 105,
   "metadata": {},
   "outputs": [],
   "source": [
    "test.reset_index( drop=False, inplace=True )\n",
    "test = test.fillna(0)"
   ]
  },
  {
   "cell_type": "code",
   "execution_count": 106,
   "metadata": {},
   "outputs": [],
   "source": [
    "test['date'] = pd.to_datetime(test['date'])\n",
    "test = test.sort_values('date')"
   ]
  },
  {
   "cell_type": "code",
   "execution_count": 107,
   "metadata": {},
   "outputs": [],
   "source": [
    "corr_df = test.corr()\n",
    "corr_matrix = test.corr().as_matrix()"
   ]
  },
  {
   "cell_type": "code",
   "execution_count": 108,
   "metadata": {},
   "outputs": [],
   "source": [
    "percent_90d = test[test.columns[1:]].pct_change(90).dropna()"
   ]
  },
  {
   "cell_type": "code",
   "execution_count": 109,
   "metadata": {},
   "outputs": [
    {
     "data": {
      "text/plain": [
       "120"
      ]
     },
     "execution_count": 109,
     "metadata": {},
     "output_type": "execute_result"
    }
   ],
   "source": [
    "len(percent_90d.columns)"
   ]
  },
  {
   "cell_type": "code",
   "execution_count": 110,
   "metadata": {},
   "outputs": [],
   "source": [
    "df_market['avg'] = (df_market['open'] + df_market['low'] + df_rf['close'])/3"
   ]
  },
  {
   "cell_type": "code",
   "execution_count": 111,
   "metadata": {},
   "outputs": [
    {
     "data": {
      "text/html": [
       "<div>\n",
       "<style>\n",
       "    .dataframe thead tr:only-child th {\n",
       "        text-align: right;\n",
       "    }\n",
       "\n",
       "    .dataframe thead th {\n",
       "        text-align: left;\n",
       "    }\n",
       "\n",
       "    .dataframe tbody tr th {\n",
       "        vertical-align: top;\n",
       "    }\n",
       "</style>\n",
       "<table border=\"1\" class=\"dataframe\">\n",
       "  <thead>\n",
       "    <tr style=\"text-align: right;\">\n",
       "      <th></th>\n",
       "      <th>Unnamed: 0</th>\n",
       "      <th>open</th>\n",
       "      <th>high</th>\n",
       "      <th>low</th>\n",
       "      <th>close</th>\n",
       "      <th>avg</th>\n",
       "    </tr>\n",
       "  </thead>\n",
       "  <tbody>\n",
       "    <tr>\n",
       "      <th>1342</th>\n",
       "      <td>2018-07-08</td>\n",
       "      <td>2693.851175</td>\n",
       "      <td>2694.378409</td>\n",
       "      <td>2596.571358</td>\n",
       "      <td>-1.805734e+09</td>\n",
       "      <td>1764.219844</td>\n",
       "    </tr>\n",
       "    <tr>\n",
       "      <th>1343</th>\n",
       "      <td>2018-07-09</td>\n",
       "      <td>2698.666616</td>\n",
       "      <td>2698.529588</td>\n",
       "      <td>2600.249846</td>\n",
       "      <td>-2.035934e+09</td>\n",
       "      <td>1767.049487</td>\n",
       "    </tr>\n",
       "    <tr>\n",
       "      <th>1344</th>\n",
       "      <td>2018-07-10</td>\n",
       "      <td>2698.162502</td>\n",
       "      <td>2698.325676</td>\n",
       "      <td>2599.866418</td>\n",
       "      <td>-1.709027e+09</td>\n",
       "      <td>1766.761973</td>\n",
       "    </tr>\n",
       "    <tr>\n",
       "      <th>1345</th>\n",
       "      <td>2018-07-11</td>\n",
       "      <td>2694.839657</td>\n",
       "      <td>2698.426951</td>\n",
       "      <td>2595.080368</td>\n",
       "      <td>-2.342949e+09</td>\n",
       "      <td>1764.084008</td>\n",
       "    </tr>\n",
       "    <tr>\n",
       "      <th>1346</th>\n",
       "      <td>2018-07-12</td>\n",
       "      <td>2694.087886</td>\n",
       "      <td>2697.560323</td>\n",
       "      <td>2596.243950</td>\n",
       "      <td>-2.200974e+09</td>\n",
       "      <td>1764.207945</td>\n",
       "    </tr>\n",
       "  </tbody>\n",
       "</table>\n",
       "</div>"
      ],
      "text/plain": [
       "      Unnamed: 0         open         high          low         close  \\\n",
       "1342  2018-07-08  2693.851175  2694.378409  2596.571358 -1.805734e+09   \n",
       "1343  2018-07-09  2698.666616  2698.529588  2600.249846 -2.035934e+09   \n",
       "1344  2018-07-10  2698.162502  2698.325676  2599.866418 -1.709027e+09   \n",
       "1345  2018-07-11  2694.839657  2698.426951  2595.080368 -2.342949e+09   \n",
       "1346  2018-07-12  2694.087886  2697.560323  2596.243950 -2.200974e+09   \n",
       "\n",
       "              avg  \n",
       "1342  1764.219844  \n",
       "1343  1767.049487  \n",
       "1344  1766.761973  \n",
       "1345  1764.084008  \n",
       "1346  1764.207945  "
      ]
     },
     "execution_count": 111,
     "metadata": {},
     "output_type": "execute_result"
    }
   ],
   "source": [
    "df_market.tail()"
   ]
  },
  {
   "cell_type": "code",
   "execution_count": 112,
   "metadata": {},
   "outputs": [],
   "source": [
    "def find_std_dict(df):\n",
    "    std_dict = {}\n",
    "    for x in df.columns:\n",
    "        std = np.std(df[x])\n",
    "        std_dict[x] = std\n",
    "    return std_dict\n",
    "\n",
    "def find_returns_list(df):\n",
    "    returns_list = []\n",
    "    for x in df.columns:\n",
    "        avg = np.average(df[x])\n",
    "        returns_list.append(avg)\n",
    "    return returns_list"
   ]
  },
  {
   "cell_type": "code",
   "execution_count": 113,
   "metadata": {},
   "outputs": [],
   "source": [
    "dict_90d = find_std_dict(percent_90d)"
   ]
  },
  {
   "cell_type": "code",
   "execution_count": 114,
   "metadata": {},
   "outputs": [],
   "source": [
    "avg_return = find_returns_list(percent_90d)"
   ]
  },
  {
   "cell_type": "code",
   "execution_count": 115,
   "metadata": {},
   "outputs": [
    {
     "data": {
      "text/plain": [
       "120"
      ]
     },
     "execution_count": 115,
     "metadata": {},
     "output_type": "execute_result"
    }
   ],
   "source": [
    "len(dict_90d)"
   ]
  },
  {
   "cell_type": "code",
   "execution_count": 116,
   "metadata": {},
   "outputs": [],
   "source": [
    "percent_180d = test[test.columns[1:]].pct_change(180).dropna(0)"
   ]
  },
  {
   "cell_type": "code",
   "execution_count": 117,
   "metadata": {},
   "outputs": [],
   "source": [
    "dict_180d = find_std_dict(percent_180d.dropna())"
   ]
  },
  {
   "cell_type": "code",
   "execution_count": 118,
   "metadata": {},
   "outputs": [],
   "source": [
    "stocks = list(percent_90d.columns.values)"
   ]
  },
  {
   "cell_type": "code",
   "execution_count": 119,
   "metadata": {},
   "outputs": [],
   "source": [
    "import math\n",
    "def varCovarMatrix(stocksInPortfolio, c, stdv):\n",
    "    cm = np.array(c)\n",
    "    vcv = []\n",
    "    for eachStock in stocksInPortfolio:\n",
    "        row = []\n",
    "        for ticker in stocksInPortfolio:\n",
    "            if eachStock == ticker:\n",
    "                variance = math.pow(stdv[ticker],2)\n",
    "                row.append(variance)\n",
    "            else:\n",
    "                cov = stdv[ticker]*stdv[eachStock]* cm[stocksInPortfolio.index(ticker)][stocksInPortfolio.index(eachStock)]\n",
    "                row.append(cov)\n",
    "        vcv.append(row)\n",
    "\n",
    "    vcvmat = np.mat(vcv)\n",
    "\n",
    "    return vcvmat"
   ]
  },
  {
   "cell_type": "code",
   "execution_count": 120,
   "metadata": {},
   "outputs": [],
   "source": [
    "covariance_matrix_stocks = varCovarMatrix(stocks, corr_matrix, dict_90d)"
   ]
  },
  {
   "cell_type": "code",
   "execution_count": 121,
   "metadata": {},
   "outputs": [],
   "source": [
    "def create_starting_weights(return_list):\n",
    "    w0 = []\n",
    "    for x in return_list:\n",
    "        w0.append(1.0/len(return_list))\n",
    "    return w0\n",
    "\n",
    "def create_binaries(return_list):\n",
    "    b0 = []\n",
    "    for x in return_list:\n",
    "        b0.append(0.0)\n",
    "    return b0"
   ]
  },
  {
   "cell_type": "code",
   "execution_count": 122,
   "metadata": {},
   "outputs": [],
   "source": [
    "covariance_matrix_stocks = np.nan_to_num(covariance_matrix_stocks)"
   ]
  },
  {
   "cell_type": "code",
   "execution_count": 123,
   "metadata": {},
   "outputs": [],
   "source": [
    "avg_return[28] = 0"
   ]
  },
  {
   "cell_type": "code",
   "execution_count": 124,
   "metadata": {},
   "outputs": [],
   "source": [
    "from __future__ import division\n",
    "import numpy as np\n",
    "from matplotlib import pyplot as plt\n",
    "from numpy.linalg import inv,pinv\n",
    "from scipy.optimize import minimize\n",
    "\n",
    "# USER INPUT\n",
    "V = covariance_matrix_stocks  # covariance\n",
    "R = np.reshape(np.matrix(avg_return), (120,1))\n",
    "rf = 3/100\n",
    "\n",
    "w0= create_starting_weights(avg_return)\n",
    "y0 = [0] * len(w0)\n",
    "# min var optimization\n",
    "def calculate_portfolio_var(w,V):\n",
    "    w0_matrix = np.array(w0)\n",
    "    w = np.matrix(w) \n",
    "    returns = w * R\n",
    "    return ((w*V*w.T)[0,0]) + 1/returns\n",
    "\n",
    "# unconstrained portfolio (only sum(w) = 1 )\n",
    "cons = ({'type': 'eq', 'fun': lambda x:  np.sum(x)-1.0},\n",
    "       {'type': 'ineq', 'fun': lambda x: x - 0.10})\n",
    "bnds = []\n",
    "#w0.append(y_matrix)\n",
    "for x in w0:\n",
    "    bnds.append((0,None))\n",
    "bnds = tuple(bnds)\n",
    "res= minimize(calculate_portfolio_var, w0, args=V, method='SLSQP',constraints=cons, bounds=bnds)\n",
    "w_g = res.x\n",
    "mu_g = w_g*R\n",
    "var_g = np.dot(w_g*V,w_g)"
   ]
  },
  {
   "cell_type": "code",
   "execution_count": 126,
   "metadata": {},
   "outputs": [
    {
     "data": {
      "text/plain": [
       "(120,)"
      ]
     },
     "execution_count": 126,
     "metadata": {},
     "output_type": "execute_result"
    }
   ],
   "source": [
    "res.x.shape"
   ]
  },
  {
   "cell_type": "code",
   "execution_count": 127,
   "metadata": {},
   "outputs": [
    {
     "data": {
      "text/plain": [
       "(120, 120)"
      ]
     },
     "execution_count": 127,
     "metadata": {},
     "output_type": "execute_result"
    }
   ],
   "source": [
    "V.shape"
   ]
  },
  {
   "cell_type": "code",
   "execution_count": 79,
   "metadata": {},
   "outputs": [
    {
     "data": {
      "text/plain": [
       "matrix([[ 0.06419776]])"
      ]
     },
     "execution_count": 79,
     "metadata": {},
     "output_type": "execute_result"
    }
   ],
   "source": [
    "mu_g"
   ]
  },
  {
   "cell_type": "code",
   "execution_count": 945,
   "metadata": {},
   "outputs": [],
   "source": [
    "from __future__ import division\n",
    "import numpy as np\n",
    "from matplotlib import pyplot as plt\n",
    "from numpy.linalg import inv,pinv\n",
    "from scipy.optimize import minimize\n",
    "\n",
    "# USER INPUT\n",
    "\n",
    "w = np.array([1, 1, 1, 1])\n",
    "y = np.array([1, 1, 1, 1])\n",
    "v = [w,y]\n",
    "\n",
    "def calculate_portfolio_var(v):\n",
    "    w = v[0]\n",
    "    y = v[1]\n",
    "    return w*y*5\n",
    "\n",
    "# unconstrained portfolio (only sum(w) = 1 )\n",
    "cons = ({'type': 'eq', 'fun': lambda xy:  np.sum(xy[0])-1})\n",
    "bnds = ((0, 1), (0,1), (0,1),(0,1),(0, None), (0, None), (0, None), (0, None))\n",
    "res= minimize(calculate_portfolio_var, v, method='SLSQP',constraints=cons, bounds=bnds)\n",
    "w_g = res.x\n",
    "#mu_g = w_g*R\n",
    "#var_g = np.dot(w_g*V,w_g)"
   ]
  },
  {
   "cell_type": "code",
   "execution_count": 946,
   "metadata": {},
   "outputs": [
    {
     "data": {
      "text/plain": [
       "array([ 1.,  0.,  1.,  1.,  1.,  1.,  1.,  1.])"
      ]
     },
     "execution_count": 946,
     "metadata": {},
     "output_type": "execute_result"
    }
   ],
   "source": [
    "w_g"
   ]
  },
  {
   "cell_type": "code",
   "execution_count": 1,
   "metadata": {},
   "outputs": [],
   "source": [
    "import itertools"
   ]
  },
  {
   "cell_type": "code",
   "execution_count": null,
   "metadata": {},
   "outputs": [],
   "source": []
  }
 ],
 "metadata": {
  "kernelspec": {
   "display_name": "Python 2",
   "language": "python",
   "name": "python2"
  },
  "language_info": {
   "codemirror_mode": {
    "name": "ipython",
    "version": 2
   },
   "file_extension": ".py",
   "mimetype": "text/x-python",
   "name": "python",
   "nbconvert_exporter": "python",
   "pygments_lexer": "ipython2",
   "version": "2.7.12"
  }
 },
 "nbformat": 4,
 "nbformat_minor": 2
}
